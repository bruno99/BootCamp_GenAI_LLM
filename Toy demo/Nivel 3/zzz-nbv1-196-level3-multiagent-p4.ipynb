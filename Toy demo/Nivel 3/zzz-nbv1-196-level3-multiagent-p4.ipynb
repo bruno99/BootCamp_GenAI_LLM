{
 "cells": [
  {
   "cell_type": "markdown",
   "id": "e79da7b5-0bab-4f22-a41c-b815ebc341da",
   "metadata": {},
   "source": [
    "# Level 3 Multi-Agent App: Part 4\n",
    "* Import agents in crews.py\n",
    "* Start preparing the tasks.\n",
    "* Define the models."
   ]
  },
  {
   "cell_type": "markdown",
   "id": "62eea115-d596-4e6d-b0d9-1c1dd54a0f92",
   "metadata": {},
   "source": [
    "## IMPORTANT: Installation with the exact packages we used\n",
    "* When you download a full stack app you need to make sure that both backend and frontend use the original packages in order to avoid potential errors caused by installing more modern versions of these packages.\n",
    "* Since we used poetry to install the original backend packages, you will now use \"poetry install\" to install them.\n",
    "* At this time, our project still does not have frontend, so we will not install the frontend yet.\n",
    "#### Download the code\n",
    "* Download the code from the github repository.\n",
    "#### Backend installation\n",
    "* Since we used both pyenv and poetry to build this project, you will have to use the following approach to install the backend.\n",
    "* In the terminal, make sure you are in the root directory of the project (v1-196-level3-multiagent-p4).\n",
    "* **Create a virtual environment and use pip install to make sure you install the exact same packages we used**:\n",
    "    * pyenv virtualenv 3.11.4 your-virtual-environment-name\n",
    "    * pyenv activate your-virtual-environment-name\n",
    "    * pip install -r requirements.txt\n",
    "* **Go to the backend directory, create a virtual environment and use poetry install to make sure you install the exact same packages we used**:\n",
    "    * cd backend\n",
    "    * poetry install --no-root\n",
    "#### Ready to go!\n",
    "* You can now see the code of the app in Visual Studio Code.\n",
    "* Relax and review the following steps. Remember, since you have pre-installed the modules you will not have to re-install them again."
   ]
  },
  {
   "cell_type": "markdown",
   "id": "82a88395-a772-4ed9-bfa6-a763e0ef14aa",
   "metadata": {},
   "source": [
    "## We can now import the Agents into the file crews.py\n",
    "* First, we will add the imports at the top:"
   ]
  },
  {
   "cell_type": "code",
   "execution_count": null,
   "id": "84b5a357-e32a-4bd3-bd21-b845b9080938",
   "metadata": {},
   "outputs": [],
   "source": [
    "# from agents import ResearchAgents"
   ]
  },
  {
   "cell_type": "markdown",
   "id": "5a4ab96e-596d-4509-a4e2-08da1fed1856",
   "metadata": {},
   "source": [
    "* Then, inside of the setup_crew function, where we now have the #TODO: SETUP AGENTS, we will add:"
   ]
  },
  {
   "cell_type": "code",
   "execution_count": 1,
   "id": "ba4b0b3f-a0be-4374-886a-5becf6e40094",
   "metadata": {},
   "outputs": [],
   "source": [
    "# agents = ResearchAgents()\n",
    "\n",
    "# research_manager = agents.research_manager(companies, positions)\n",
    "# research_agent = agents.research_agent()"
   ]
  },
  {
   "cell_type": "markdown",
   "id": "9a0f5a67-812b-469d-bf0d-ced9842782b8",
   "metadata": {},
   "source": [
    "## Let's now start preparing the Tasks of the agents in the file tasks.py\n",
    "* We will start creating a class that will contain all the tasks:"
   ]
  },
  {
   "cell_type": "code",
   "execution_count": null,
   "id": "8b8ef8ef-4931-4b65-8695-7b704e1770d1",
   "metadata": {},
   "outputs": [],
   "source": [
    "# class ResearchTasks():"
   ]
  },
  {
   "cell_type": "markdown",
   "id": "fa513240-e71f-4364-8360-5a305dccd799",
   "metadata": {},
   "source": [
    "* Inside the class, we will first include the class initialization function:"
   ]
  },
  {
   "cell_type": "code",
   "execution_count": null,
   "id": "78f67f0b-e51e-4644-b3b4-4253344057e4",
   "metadata": {},
   "outputs": [],
   "source": [
    "# def __init__(self, input_id):\n",
    "#     self.input_id = input_id"
   ]
  },
  {
   "cell_type": "markdown",
   "id": "9bc08859-0721-469d-9579-5c859d35ca85",
   "metadata": {},
   "source": [
    "* Next, we will define one task for each of our agents:"
   ]
  },
  {
   "cell_type": "code",
   "execution_count": null,
   "id": "b0a7d416-9ad6-4439-a042-fcb1c213778c",
   "metadata": {},
   "outputs": [],
   "source": [
    "# def manage_research(self, agent: Agent, technologies: list[str], businessareas: list[str], tasks: list[Task]):\n",
    "#         return Task(\n",
    "#             description=dedent(f\"\"\"Based on the list of technologies {technologies} and the business areas {businessareas},\n",
    "#                 use the results from the Research Agent to research each business area in each technology.\n",
    "#                 to put together a json object containing the URLs for 3 blog articles, the URLs and title \n",
    "#                 for 3 YouTube interviews for each business area in each technology.\n",
    "                               \n",
    "#                 \"\"\"),\n",
    "#             agent=agent,\n",
    "#             expected_output=dedent(\n",
    "#                 \"\"\"A json object containing the URLs for 3 blog articles and the URLs and \n",
    "#                     titles for 3 YouTube interviews for each business area in each technology.\"\"\"),\n",
    "#             callback=self.append_event_callback,\n",
    "#             context=tasks,\n",
    "#             output_json=BusinessareaInfoList\n",
    "#         )"
   ]
  },
  {
   "cell_type": "markdown",
   "id": "37cd636a-069c-406c-941c-60062ffc3709",
   "metadata": {},
   "source": [
    "* A few notes about the previous code:\n",
    "    * callback=self.append_event_callback. This is how we pass info to the Event Log once the task is finished. We will create the append_event_callback function next.\n",
    "    * context=tasks. This line is saying that this task will be aware of all the other defined tasks (in this case, the second task defined below).\n",
    "    * output_json=BusinessareaInfoList. This line is used to create a JSON output with a the concrete format defined in BusinessareaInfoList.\n",
    "    * **BusinessareaInfoList will be defined in the file models.py**"
   ]
  },
  {
   "cell_type": "markdown",
   "id": "9c60c7ed-842f-466d-8e2f-c00cb56cba3b",
   "metadata": {},
   "source": [
    "* Let's include the append_event_callback function in the task class:"
   ]
  },
  {
   "cell_type": "code",
   "execution_count": 1,
   "id": "9cbaa61a-957d-4741-a9e1-0c45558c9350",
   "metadata": {},
   "outputs": [],
   "source": [
    "# def append_event_callback(self, task_output):\n",
    "#     print(f\"Appending event for {self.input_id} with output {task_output}\")\n",
    "#     append_event(self.input_id, task_output.exported_output)"
   ]
  },
  {
   "cell_type": "markdown",
   "id": "ef075e83-121a-489c-b48e-283b9a353740",
   "metadata": {},
   "source": [
    "* In the previous code, task_output is the output of the task.\n",
    "* This function adds the task_output to the Events Log."
   ]
  },
  {
   "cell_type": "markdown",
   "id": "ca425f63-bc17-4b7c-ba69-80c1f21c5104",
   "metadata": {},
   "source": [
    "* For the previous code to work, we will need to add the necessary imports at the top of the file:"
   ]
  },
  {
   "cell_type": "code",
   "execution_count": null,
   "id": "c8b7bbed-6df0-4dd4-a864-8909e1ecd7b2",
   "metadata": {},
   "outputs": [],
   "source": [
    "# from crewai import Task, Agent\n",
    "# from textwrap import dedent"
   ]
  },
  {
   "cell_type": "markdown",
   "id": "b583279c-e367-4c40-9de0-edafb55d1d7d",
   "metadata": {},
   "source": [
    "The previous code imports the `dedent` function from the `textwrap` module. **Here's what the `dedent` function does**:\n",
    "\n",
    "- **Purpose of `dedent`**: It is used to remove any common leading whitespace from every line in a given text block. This is especially useful when you're dealing with multi-line strings that have been indented as part of a block of code, and you want to strip the indentation for output or further processing.\n",
    "\n",
    "- **How it works**: When you call `dedent` with a multi-line string, it calculates the minimum amount of leading whitespace shared by all lines (excluding lines that are completely blank) and removes that amount from the start of each line.\n",
    "\n",
    "Here's a quick example to illustrate:\n",
    "\n",
    "```python\n",
    "from textwrap import dedent\n",
    "\n",
    "text = \"\"\"\n",
    "    Hello,\n",
    "        World!\n",
    "    This is an example.\n",
    "\"\"\"\n",
    "print(dedent(text))\n",
    "```\n",
    "\n",
    "Output:\n",
    "```\n",
    "Hello,\n",
    "    World!\n",
    "This is an example.\n",
    "```\n",
    "\n",
    "In this example, the `dedent` function has stripped the common leading spaces from all the lines, aligning the least indented line with the left margin."
   ]
  },
  {
   "cell_type": "markdown",
   "id": "6f10705d-27a6-4fd8-ab19-9c72a4312434",
   "metadata": {},
   "source": [
    "## Let's define BusinessareaInfoList in models.py"
   ]
  },
  {
   "cell_type": "code",
   "execution_count": null,
   "id": "249bf757-a53e-4a9f-932c-620ff2dfe21e",
   "metadata": {},
   "outputs": [],
   "source": [
    "# from typing import List\n",
    "# from pydantic import BaseModel\n",
    "\n",
    "\n",
    "# class NamedUrl(BaseModel):\n",
    "#     name: str\n",
    "#     url: str\n",
    "\n",
    "\n",
    "# class BusinessareaInfo(BaseModel):\n",
    "#     technology: str\n",
    "#     businessarea: str\n",
    "#     blog_articles_urls: List[str]\n",
    "#     youtube_interviews_urls: List[NamedUrl]\n",
    "\n",
    "\n",
    "# class BusinessareaInfoList(BaseModel):\n",
    "#     businessareas: List[BusinessareaInfo]"
   ]
  },
  {
   "cell_type": "markdown",
   "id": "2d2010db-26b4-4b54-9527-e2f1848fe52d",
   "metadata": {},
   "source": [
    "The previous code defines Python classes to model and handle structured data using the `pydantic` library, which is widely used for data validation and settings management. Here's a breakdown of what each part of the code does:\n",
    "\n",
    "1. **Imports**:\n",
    "   - `from typing import List`: This imports the `List` type from the `typing` module, which is used to annotate types that are lists containing elements of a specific type.\n",
    "   - `from pydantic import BaseModel`: This imports `BaseModel` from the `pydantic` library, which is the base class for all models in pydantic and provides data validation among other features.\n",
    "\n",
    "2. **NamedUrl Class**:\n",
    "   - This class defines a simple data model called `NamedUrl` that consists of two fields: `name` and `url`.\n",
    "   - Both fields are expected to be strings (`str`). This class can be used to represent a URL with a descriptive name attached to it, for instance, a YouTube interview with a title.\n",
    "\n",
    "3. **BusinessareaInfo Class**:\n",
    "   - This class defines a model called `BusinessareaInfo` that represents information about a specific businss area.\n",
    "   - It includes several fields:\n",
    "     - `technology`: a string representing the name of the technology.\n",
    "     - `businessarea`: a string representing the name of the business area.\n",
    "     - `blog_articles_urls`: a list of strings, each being a URL to a blog article related to the business area.\n",
    "     - `youtube_videos_urls`: a list of `NamedUrl` objects, each containing a name and a URL, likely representing videos on YouTube related to the business area.\n",
    "\n",
    "4. **BusinessareaInfoList Class**:\n",
    "   - This class aggregates multiple `BusinessareaInfo` instances into a list.\n",
    "   - It contains a single field called `businessareas`, which is a list of `BusinessareaInfo` instances.\n",
    "\n",
    "Essentially, these classes are designed to structure and validate information about business areas and associated resources like blogs and videos. The usage of `pydantic` allows for robust validation rules to ensure that the data conforms to the expected formats, enhancing reliability and ease of maintenance in the app that will consume this data."
   ]
  },
  {
   "cell_type": "markdown",
   "id": "05b05b4f-b06c-4864-a084-2ec866f14c07",
   "metadata": {},
   "source": [
    "## Now we can import BusinessareaInfoList in tasks.py"
   ]
  },
  {
   "cell_type": "code",
   "execution_count": null,
   "id": "e6e3e8f0-f6e5-4cf4-84db-8db8ba8ead80",
   "metadata": {},
   "outputs": [],
   "source": [
    "# from models import BusinessareaInfo, BusinessareaInfoList"
   ]
  },
  {
   "cell_type": "markdown",
   "id": "26f345f8-6130-4223-ac9c-af2b11dcba89",
   "metadata": {},
   "source": [
    "## And finally we can define the second task, this one associated with the research agent"
   ]
  },
  {
   "cell_type": "code",
   "execution_count": null,
   "id": "66e32cb0-caef-4b56-a4f3-2601ae50356c",
   "metadata": {},
   "outputs": [],
   "source": [
    "# def technology_research(self, agent: Agent, technology: str, businessareas: list[str]):\n",
    "#         return Task(\n",
    "#             description=dedent(f\"\"\"Research the business areas {businessareas} for the {technology} technology. \n",
    "#                 For each business area, find the URLs for 3 recent blog articles and the URLs and titles for\n",
    "#                 3 recent YouTube videos in each business area.\n",
    "#                 Return this collected information in a JSON object.\n",
    "                               \n",
    "#                 Helpful Tips:\n",
    "#                 - To find the blog articles names and URLs, perform searches on Google such like the following:\n",
    "#                     - \"{technology} [BUSINESS AREA HERE] blog articles\"\n",
    "#                 - To find the youtube videos, perform searches on YouTube such as the following:\n",
    "#                     - \"{technology} in [BUSINESS AREA HERE]\"\n",
    "                               \n",
    "#                 Important:\n",
    "#                 - Once you've found the information, immediately stop searching for additional information.\n",
    "#                 - Only return the requested information. NOTHING ELSE!\n",
    "#                 - Do not generate fake information. Only return the information you find. Nothing else!\n",
    "#                 - Do not stop researching until you find the requested information for each business area in the technology.\n",
    "#                 \"\"\"),\n",
    "#             agent=agent,\n",
    "#             expected_output=\"\"\"A JSON object containing the researched information for each business area in the technology.\"\"\",\n",
    "#             callback=self.append_event_callback,\n",
    "#             output_json=BusinessareaInfo,\n",
    "#             async_execution=True\n",
    "#         )"
   ]
  },
  {
   "cell_type": "markdown",
   "id": "88e40e13-0799-4897-8743-580df2d16813",
   "metadata": {},
   "source": [
    "* Some notes about the previous code:\n",
    "    * async_execution=True. This means that the agent can do several tasks at the same time, instead of sequentially. **Important: this option is currently only available if you use the chatGPT LLM from OpenAI. It will not work if you use other LLMs like Llama3 or Mixtral.**"
   ]
  },
  {
   "cell_type": "code",
   "execution_count": null,
   "id": "fad42b9d-d796-45dd-a4ef-e7b1cf40d509",
   "metadata": {},
   "outputs": [],
   "source": []
  }
 ],
 "metadata": {
  "kernelspec": {
   "display_name": "Python 3 (ipykernel)",
   "language": "python",
   "name": "python3"
  },
  "language_info": {
   "codemirror_mode": {
    "name": "ipython",
    "version": 3
   },
   "file_extension": ".py",
   "mimetype": "text/x-python",
   "name": "python",
   "nbconvert_exporter": "python",
   "pygments_lexer": "ipython3",
   "version": "3.11.4"
  }
 },
 "nbformat": 4,
 "nbformat_minor": 5
}
