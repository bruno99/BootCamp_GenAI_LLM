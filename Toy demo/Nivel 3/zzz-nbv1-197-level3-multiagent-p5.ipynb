{
 "cells": [
  {
   "cell_type": "markdown",
   "id": "e79da7b5-0bab-4f22-a41c-b815ebc341da",
   "metadata": {},
   "source": [
    "# Level 3 Multi-Agent App: Part 5\n",
    "* Import tasks into crews.py\n",
    "* Include crew functionality in api.py\n",
    "* Update the GET endpoint\n",
    "* Define the tools\n",
    "* Add tools into agent definition\n",
    "* Run api.py and test it with Postman"
   ]
  },
  {
   "cell_type": "markdown",
   "id": "284bd305-65b2-4e62-b0b4-7aab802241f0",
   "metadata": {},
   "source": [
    "## IMPORTANT: Installation with the exact packages we used\n",
    "* When you download a full stack app you need to make sure that both backend and frontend use the original packages in order to avoid potential errors caused by installing more modern versions of these packages.\n",
    "* Since we used poetry to install the original backend packages, you will now use \"poetry install\" to install them.\n",
    "* At this time, our project still does not have frontend, so we will not install the frontend yet.\n",
    "#### Download the code\n",
    "* Download the code from the github repository.\n",
    "#### Backend installation\n",
    "* Since we used both pyenv and poetry to build this project, you will have to use the following approach to install the backend.\n",
    "* In the terminal, make sure you are in the root directory of the project (v1-197-level3-multiagent-p5).\n",
    "* **Create a virtual environment and use pip install to make sure you install the exact same packages we used**:\n",
    "    * pyenv virtualenv 3.11.4 your-virtual-environment-name\n",
    "    * pyenv activate your-virtual-environment-name\n",
    "    * pip install -r requirements.txt\n",
    "* **Go to the backend directory, create a virtual environment and use poetry install to make sure you install the exact same packages we used**:\n",
    "    * cd backend\n",
    "    * poetry install --no-root\n",
    "#### Ready to go!\n",
    "* You can now see the code of the app in Visual Studio Code.\n",
    "* Relax and review the following steps. Remember, since you have pre-installed the modules you will not have to re-install them again."
   ]
  },
  {
   "cell_type": "markdown",
   "id": "82a88395-a772-4ed9-bfa6-a763e0ef14aa",
   "metadata": {},
   "source": [
    "## We can now import the Tasks into the file crews.py\n",
    "* First we add the corresponding import:"
   ]
  },
  {
   "cell_type": "code",
   "execution_count": null,
   "id": "7bfc6f9c-3646-4881-82f9-e692f1ee53c9",
   "metadata": {},
   "outputs": [],
   "source": [
    "# from tasks import ResearchTasks"
   ]
  },
  {
   "cell_type": "markdown",
   "id": "21491bae-5f5f-4525-ae92-f9f374098eae",
   "metadata": {},
   "source": [
    "* Then we include inside class TechnologyResearchCrew:"
   ]
  },
  {
   "cell_type": "code",
   "execution_count": null,
   "id": "fad42b9d-d796-45dd-a4ef-e7b1cf40d509",
   "metadata": {},
   "outputs": [],
   "source": [
    "# tasks = ResearchTasks(input_id=self.input_id)\n",
    "\n",
    "#         technology_research_tasks = [\n",
    "#             tasks.technology_research(research_agent, technology, businessareas)\n",
    "#             for technology in technologies\n",
    "#         ]\n",
    "\n",
    "#         manage_research_task = tasks.manage_research(\n",
    "#             research_manager, technologies, businessareas, technology_research_tasks)"
   ]
  },
  {
   "cell_type": "markdown",
   "id": "860bd5de-d788-439f-84d0-05577cc57a92",
   "metadata": {},
   "source": [
    "* The previous code iterates over each technology and business area to create the corresponding tasks."
   ]
  },
  {
   "cell_type": "markdown",
   "id": "fa8e4c1e-a1ad-4d87-9c88-7333a8158e49",
   "metadata": {},
   "source": [
    "**This Python code shows a list comprehension** that is used to create a list of `technology_research_tasks`. Here's what each part does in simpler terms:\n",
    "\n",
    "1. **List Comprehension**:\n",
    "   - The code is using a Python feature called \"list comprehension\" to build a list in a compact way. List comprehensions are a concise way to create lists by iterating over an iterable and optionally including a condition to filter elements.\n",
    "\n",
    "2. **Iterating Through `technologies`**:\n",
    "   - `for technology in technologies` indicates that the code is looping through each item in the `technologies` list. Each item in this list is referred to as `technology`.\n",
    "\n",
    "3. **Creating Task for Each Technology**:\n",
    "   - `tasks.technology_research(research_agent, technology, businessareas)` is a function call. The function `technology_research`  takes three arguments:\n",
    "     - `research_agent`: the agent conducting the research.\n",
    "     - `technology`: This is the current item from the `technologies` list being processed in the loop.\n",
    "     - `businessareas`: list of business areas.\n",
    "   \n",
    "4. **List of Results**:\n",
    "   - The result of the function call for each `technology` is added to a new list. This means that for every item in the `technologies` list, the `technology_research` function is called with the current `technology`, the `research_agent`, and `businessareas` as arguments, and the result is stored in the list `technology_research_tasks`."
   ]
  },
  {
   "cell_type": "markdown",
   "id": "6a79f658-b28b-4b86-89b4-023bb4cce0d0",
   "metadata": {},
   "source": [
    "## We can now complete the setup_crew function creating the crew\n",
    "* We will need to import:"
   ]
  },
  {
   "cell_type": "code",
   "execution_count": null,
   "id": "01965f31-5d71-4db7-8b37-fbbbf9dbc80b",
   "metadata": {},
   "outputs": [],
   "source": [
    "# from crewai import Crew"
   ]
  },
  {
   "cell_type": "markdown",
   "id": "0ddd8549-2097-4b80-b1db-e5a968c6427a",
   "metadata": {},
   "source": [
    "* And then, inside the setup_crew function we will add:"
   ]
  },
  {
   "cell_type": "code",
   "execution_count": null,
   "id": "92bae768-a751-4163-b6cb-04d5c1cdf973",
   "metadata": {},
   "outputs": [],
   "source": [
    "# self.crew = Crew(\n",
    "#     agents=[research_manager, research_agent],\n",
    "#     tasks=[*technology_research_tasks, manage_research_task],\n",
    "#     verbose=2,\n",
    "#     )"
   ]
  },
  {
   "cell_type": "markdown",
   "id": "2d547e10-9f4f-4c8a-b1fa-bb1bd3489df4",
   "metadata": {},
   "source": [
    "* Notes about the previous code:\n",
    "    * [*technology_research_tasks]: this is a list inside of a list, it flattens it out."
   ]
  },
  {
   "cell_type": "markdown",
   "id": "204d9e0a-6dd3-45b9-838f-3c0522d7a460",
   "metadata": {},
   "source": [
    "Imagine you have a backpack with several smaller bags inside it, and each small bag has items like books or snacks. Now, if you wanted all those items from the small bags to be in your backpack without the smaller bags, you'd take them out and put them directly into the backpack. \n",
    "\n",
    "In Python, the `[*technology_research_tasks]` notation is a bit like taking all the items out of the smaller bags (sublists) and putting them into the backpack (new list) directly. However, this method just removes one level of bags—it doesn't completely flatten everything if you have multiple layers of small bags. For that, you'd need a different method to make sure every single item is directly in the backpack without any smaller bags left."
   ]
  },
  {
   "cell_type": "markdown",
   "id": "04e0496a-567c-4167-add5-2c4739a63492",
   "metadata": {},
   "source": [
    "## Now we are ready to include the Crew functionality in the api.py file\n",
    "* Let's complete the kickoff_crew function:"
   ]
  },
  {
   "cell_type": "code",
   "execution_count": 1,
   "id": "2454c171-a13d-4afe-b9bf-9ccce70f6fb1",
   "metadata": {},
   "outputs": [],
   "source": [
    "# from crews import TechnologyResearchCrew\n",
    "# from log_manager import append_event, outputs, outputs_lock, Event"
   ]
  },
  {
   "cell_type": "code",
   "execution_count": null,
   "id": "7119f2c1-2b26-4a7e-8d87-50781d0cb957",
   "metadata": {},
   "outputs": [],
   "source": [
    "# def kickoff_crew(input_id, technologies: list[str], businessareas: list[str]):\n",
    "#     print(f\"Running crew for {input_id} with technologies {technologies} and businessareas {businessareas}\")\n",
    "\n",
    "#     results = None\n",
    "#     try:\n",
    "#         technology_research_crew = TechnologyResearchCrew(input_id)\n",
    "#         technology_research_crew.setup_crew(\n",
    "#             technologies, businessareas)\n",
    "#         results = technology_research_crew.kickoff()\n",
    "\n",
    "#     except Exception as e:\n",
    "#         print(f\"CREW FAILED: {str(e)}\")\n",
    "#         append_event(input_id, f\"CREW FAILED: {str(e)}\")\n",
    "#         with outputs_lock:\n",
    "#             outputs[input_id].status = 'ERROR'\n",
    "#             outputs[input_id].result = str(e)\n",
    "\n",
    "#     with outputs_lock:\n",
    "#         outputs[input_id].status = 'COMPLETE'\n",
    "#         outputs[input_id].result = results\n",
    "#         outputs[input_id].events.append(\n",
    "#             Event(timestamp=datetime.now(), data=\"Crew complete\"))"
   ]
  },
  {
   "cell_type": "markdown",
   "id": "fdf438fc-d3f6-4573-ae6b-1e0ed7fd2af1",
   "metadata": {},
   "source": [
    "The previous Python code defines the function named `kickoff_crew` which is designed to start or \"kick off\" a specific crew, handle errors, and update a status system. Here's a breakdown of what each part does:\n",
    "\n",
    "1. **Function Definition**:\n",
    "   - `def kickoff_crew(input_id, technologies: list[str], businessareas: list[str]):` This function is defined to take three parameters:\n",
    "     - `input_id`: An identifier for the crew being kicked off.\n",
    "     - `technologies`: A list of technologies that the crew will work with or explore.\n",
    "     - `businessareas`: A list of business areas related to the technologies.\n",
    "\n",
    "2. **Print Initial Message**:\n",
    "   - `print(f\"Running crew for {input_id} with technologies {technologies} and businessareas {businessareas}\")` This line outputs a message indicating that the crew is starting its operation with specified technologies and business areas.\n",
    "\n",
    "3. **Crew Operation Setup and Execution**:\n",
    "   - `results = None` initializes `results` to `None`, a placeholder to store the results of the crew's operations.\n",
    "   - The `try` block contains code that might raise exceptions, which are errors during execution.\n",
    "   - `technology_research_crew = TechnologyResearchCrew(input_id)` creates an instance of the `TechnologyResearchCrew` class, initializing it with the `input_id`.\n",
    "   - `technology_research_crew.setup_crew(technologies, businessareas)` sets up the crew with the provided technologies and business areas.\n",
    "   - `results = technology_research_crew.kickoff()` attempts to start the crew's operations and store the results in the `results` variable.\n",
    "\n",
    "4. **Error Handling**:\n",
    "   - The `except Exception as e:` block catches any exceptions that occur during the crew setup or kickoff.\n",
    "   - `print(f\"CREW FAILED: {str(e)}\")` and `append_event(input_id, f\"CREW FAILED: {str(e)}\")` log the error message and append this event, indicating the failure.\n",
    "   - Inside the `with outputs_lock:` block, `outputs[input_id].status = 'ERROR'` and `outputs[input_id].result = str(e)` update a shared resource `outputs` (a dictionary) to reflect that an error occurred. The `outputs_lock` ensures that changes to `outputs` are thread-safe, meaning no other thread or process can modify `outputs` while it's being updated here.\n",
    "\n",
    "5. **Finalizing Crew Operation**:\n",
    "   - Another `with outputs_lock:` this block follows to update the status and results of the crew operation, ensuring thread safety.\n",
    "   - `outputs[input_id].status = 'COMPLETE'` updates the status to \"COMPLETE\".\n",
    "   - `outputs[input_id].result = results` updates the `results` of the operation.\n",
    "   - `outputs[input_id].events.append(Event(timestamp=datetime.now(), data=\"Crew complete\"))` adds a new event to the `events` list of `outputs[input_id]`, marking the completion of the crew's tasks.\n",
    "\n",
    "In summary, this function initializes a crew operation with specific technologies and business areas, handles potential errors, and updates a shared status system accordingly, using thread safety mechanisms to ensure data integrity during updates."
   ]
  },
  {
   "cell_type": "markdown",
   "id": "7e70e9d1-7216-40d1-be34-032a16be6e0c",
   "metadata": {},
   "source": [
    "## Let's now update the GET endpoint\n",
    "* We will need to:\n",
    "    * lock the technology\n",
    "    * check to see if it exists\n",
    "    * parse the JSON data\n",
    "    * return everything"
   ]
  },
  {
   "cell_type": "markdown",
   "id": "68c3e375-9b00-41da-a4ab-8b086c87944a",
   "metadata": {},
   "source": [
    "* We will need to add this import:"
   ]
  },
  {
   "cell_type": "code",
   "execution_count": null,
   "id": "03591efc-9b4c-4f13-bf71-03d916415d5e",
   "metadata": {},
   "outputs": [],
   "source": [
    "# import json"
   ]
  },
  {
   "cell_type": "markdown",
   "id": "17f02987-6a83-4445-a351-1af1505c22cd",
   "metadata": {},
   "source": [
    "* Now, the GET end point will be:"
   ]
  },
  {
   "cell_type": "code",
   "execution_count": null,
   "id": "830e4248-73ff-4c85-b864-e94d215e0aca",
   "metadata": {},
   "outputs": [],
   "source": [
    "# @app.route('/api/multiagent/<input_id>', methods=['GET'])\n",
    "# def get_status(input_id):\n",
    "#     with outputs_lock:\n",
    "#         output = outputs.get(input_id)\n",
    "#         if output is None:\n",
    "#             abort(404, description=\"Output not found\")\n",
    "\n",
    "#      # Parse the output.result string into a JSON object\n",
    "#     try:\n",
    "#         result_json = json.loads(output.result)\n",
    "#     except json.JSONDecodeError:\n",
    "#         # If parsing fails, set result_json to the original output.result string\n",
    "#         result_json = output.result\n",
    "\n",
    "#     return jsonify({\n",
    "#         \"input_id\": input_id,\n",
    "#         \"status\": output.status,\n",
    "#         \"result\": result_json,\n",
    "#         \"events\": [{\"timestamp\": event.timestamp.isoformat(), \"data\": event.data} for event in output.events]\n",
    "#     })"
   ]
  },
  {
   "cell_type": "markdown",
   "id": "a475724c-3da9-46d3-9555-21f738dbdf0d",
   "metadata": {},
   "source": [
    "Here's a breakdown of what each part does in simpler terms:\n",
    "\n",
    "1. **Define a Web Address and Method**:\n",
    "   - `@app.route('/api/multiagent/<input_id>', methods=['GET'])` defines a URL endpoint on the web server. This means when someone visits this URL and provides a `input_id` (like `/api/multiagent/123`), the server will execute the `get_status` function.\n",
    "   - `methods=['GET']` specifies that this URL responds to GET requests, which are typically used to retrieve data from a server.\n",
    "\n",
    "2. **Function to Get Output Status**:\n",
    "   - `def get_status(input_id):` defines a function that takes a `input_id` as an argument. This function will process the request and return information about the output.\n",
    "\n",
    "3. **Access Output Information Safely**:\n",
    "   - `with outputs_lock:` ensures that the operation of accessing output information is thread-safe. This means **if multiple people or processes try to access output data at the same time, the `outputs_lock` prevents conflicts and data corruption by allowing only one operation at a time**.\n",
    "\n",
    "4. **Check and Retrieve Output Data**:\n",
    "   - `output = outputs.get(input_id)` attempts to retrieve the search information using the provided `input_id`.\n",
    "   - If no output is found (`if output is None:`), the function responds with an error (`abort(404, description=\"Output not found\")`), indicating that no output was found with the given ID.\n",
    "\n",
    "5. **Handle Output Result Data**:\n",
    "   - The output's result, which is stored as a string, is attempted to be converted into a JSON object using `json.loads(output.result)`. JSON is a common format used to exchange data on the web.\n",
    "   - If the conversion fails due to an error in the format of the string (`except json.JSONDecodeError:`), the function falls back to using the original string format of the result.\n",
    "\n",
    "6. **Return the Output Information**:\n",
    "   - `return jsonify({...})` sends back a structured response in JSON format containing details about the output, such as its ID, status, result, and a list of events associated with the output.\n",
    "     - Each event in the output's list of events is formatted with a timestamp and data, making it easy to read and process.\n",
    "\n",
    "In essence, this function acts as a safe, organized way to access and retrieve detailed information about a specific output on a server, handling errors gracefully and ensuring the data is easy to use for whoever requests it."
   ]
  },
  {
   "cell_type": "markdown",
   "id": "2dd08624-042a-491a-b0cc-399c493dc011",
   "metadata": {},
   "source": [
    "## Now we can add the tools used by the agents\n",
    "* Let's start by the tools/youtube_search_tools.py file"
   ]
  },
  {
   "cell_type": "code",
   "execution_count": null,
   "id": "9eace810-04aa-48a2-87ba-01c08cbe76aa",
   "metadata": {},
   "outputs": [],
   "source": [
    "# from typing import List, Type\n",
    "# from pydantic.v1 import BaseModel, Field\n",
    "# import os\n",
    "# import requests\n",
    "# from crewai_tools import BaseTool\n",
    "\n",
    "\n",
    "# class VideoSearchResult(BaseModel):\n",
    "#     title: str\n",
    "#     video_url: str\n",
    "\n",
    "\n",
    "# class YoutubeVideoSearchToolInput(BaseModel):\n",
    "#     \"\"\"Input for YoutubeVideoSearchTool.\"\"\"\n",
    "#     keyword: str = Field(..., description=\"The search keyword.\")\n",
    "#     max_results: int = Field(\n",
    "#         10, description=\"The maximum number of results to return.\")\n",
    "\n",
    "\n",
    "# class YoutubeVideoSearchTool(BaseTool):\n",
    "#     name: str = \"Search YouTube Videos\"\n",
    "#     description: str = \"Searches YouTube videos based on a keyword and returns a list of video search results.\"\n",
    "#     args_schema: Type[BaseModel] = YoutubeVideoSearchToolInput\n",
    "\n",
    "#     def _run(self, keyword: str, max_results: int = 10) -> List[VideoSearchResult]:\n",
    "#         api_key = os.getenv(\"YOUTUBE_API_KEY\")\n",
    "#         url = \"https://www.googleapis.com/youtube/v3/search\"\n",
    "#         params = {\n",
    "#             \"part\": \"snippet\",\n",
    "#             \"q\": keyword,\n",
    "#             \"maxResults\": max_results,\n",
    "#             \"type\": \"video\",\n",
    "#             \"key\": api_key\n",
    "#         }\n",
    "#         response = requests.get(url, params=params)\n",
    "#         response.raise_for_status()\n",
    "#         items = response.json().get(\"items\", [])\n",
    "\n",
    "#         results = []\n",
    "#         for item in items:\n",
    "#             title = item[\"snippet\"][\"title\"]\n",
    "#             video_id = item[\"id\"][\"videoId\"]\n",
    "#             video_url = f\"https://www.youtube.com/watch?v={video_id}\"\n",
    "#             results.append(VideoSearchResult(\n",
    "#                 title=title,\n",
    "#                 video_url=video_url,\n",
    "#             ))\n",
    "\n",
    "#         return results"
   ]
  },
  {
   "cell_type": "markdown",
   "id": "9e5d6356-672f-4209-bf0f-841125d4e300",
   "metadata": {},
   "source": [
    "The previous code defines a tool for searching YouTube videos based on a keyword. Here's a breakdown of what each part of the code does:\n",
    "\n",
    "1. **Import Statements**: The code starts by importing necessary Python modules and functions:\n",
    "   - `typing.List` and `typing.Type` are used for type hinting.\n",
    "   - `BaseModel` and `Field` from `pydantic` are used to create data models with validation.\n",
    "   - Standard modules `os` and `requests` are used for accessing environment variables and making HTTP requests, respectively.\n",
    "   - `BaseTool` from `crewai_tools` seems to be a base class for creating tools within an application.\n",
    "\n",
    "2. **Data Models**:\n",
    "   - `VideoSearchResult` is a data model to store information about each video search result, specifically the video's title and URL.\n",
    "   - `YoutubeVideoSearchToolInput` is another data model defining the inputs needed for the YouTube video search tool. It includes fields for the search `keyword` and `max_results`, the maximum number of search results to return.\n",
    "\n",
    "3. **YoutubeVideoSearchTool Class**:\n",
    "   - This class extends `BaseTool` and defines a tool for searching YouTube videos. It has attributes for the tool's name, description, and the type of arguments it accepts (`args_schema`).\n",
    "   - **The `_run` method is where the actual search happens**. It uses the YouTube Data API to search for videos:\n",
    "     - **It retrieves the YouTube API key from environment variables (.env file)**. See the next section with more info about this.\n",
    "     - Constructs the API request URL and parameters.\n",
    "     - **Makes an HTTP GET request to the YouTube API**.\n",
    "     - If the response is successful, it processes the JSON data to extract video titles and URLs.\n",
    "     - Each video's information is stored in a `VideoSearchResult` instance, and all instances are collected into a list.\n",
    "     - Finally, it returns the list of search results.\n",
    "\n",
    "This tool effectively encapsulates the functionality to search for YouTube videos based on a keyword and return a specified number of results, handling everything from data validation to making the API call and processing the response."
   ]
  },
  {
   "cell_type": "markdown",
   "id": "dfa01d4f-a80c-4195-affc-83134ecc3af9",
   "metadata": {},
   "source": [
    "## How to get the Google API Key necessary to run the YouTube Search Tool\n",
    "* Go to google and search for \"Google Cloud API\"\n",
    "* Click on [Google Cloud Platform](https://console.cloud.google.com)\n",
    "* If you are not, you will need to register. It is free.\n",
    "* Inside the Google Cloud Platform Console, create a new project. We will call our project level3multiagent\n",
    "* Click on APIs & Services\n",
    "* Make sure your project is selected\n",
    "* Click on Enable APIs and Services\n",
    "* In the API Library search input field, enter \"youtube data api v3\"\n",
    "* Click on Youtube Data API v3\n",
    "* Click on the Enable button\n",
    "* Click on the Create Credentials button\n",
    "* What data will you be accesing: Public Data\n",
    "* Copy your API Key. Keep it confidential and Do not share it with anyone.\n",
    "* **Create the .env file in the root directory of the backend folder of the app**.\n",
    "* In the .env file, enter a new line:\n",
    "    * YOUTUBE_API_KEY=CopyYourApiKeyHere\n",
    "* **Create a .gitignore file** in the root directory of the backend folder of the app.\n",
    "* In the .gitignore file, enter a new line to keep your .env file confidential:\n",
    "    * .env "
   ]
  },
  {
   "cell_type": "markdown",
   "id": "a78f5cc6-ba60-445b-8420-0e9e608a875c",
   "metadata": {},
   "source": [
    "## Add the OpenAI API key and LangSmith credentials in the .env file\n",
    "\n",
    "OPENAI_API_KEY=your_openai_api_key\n",
    "\n",
    "LANGCHAIN_TRACING_V2=true\n",
    "LANGCHAIN_ENDPOINT=https://api.smith.langchain.com\n",
    "LANGCHAIN_API_KEY=your_langchain_api_key\n",
    "LANGCHAIN_PROJECT=your_project_name"
   ]
  },
  {
   "cell_type": "markdown",
   "id": "d7363457-b245-4125-936b-fb7463e1197c",
   "metadata": {},
   "source": [
    "* We will call our LangSmith project level3multiagent-v1. You can call it whatever you want."
   ]
  },
  {
   "cell_type": "markdown",
   "id": "ce780dc5-d7e8-449c-9481-dffd3db7094a",
   "metadata": {},
   "source": [
    "## Let's now prepare the second tool our agents will use: online search\n",
    "* **We will use the SerperDevTool**. It is a good choice because it does not provides excessive search result fields that can confuse our agents (like some other tools do) and it also provides a very useful snippet of the search results.\n",
    "* Besides, **we can import this tool directly form crewai_tools**, as you will see below.\n",
    "* But first we will need to get the API key for Serper"
   ]
  },
  {
   "cell_type": "markdown",
   "id": "2231f118-0df6-46de-a672-637ea02a318c",
   "metadata": {},
   "source": [
    "## How to get the API key for the Serper Tool\n",
    "* Go to [serper.dev](https://serper.dev/)\n",
    "* You will need to register. It is free.\n",
    "* Go to the dashboard.\n",
    "* Click on the API key button.\n",
    "* Copy the API key.\n",
    "* **Go to the .env file** and enter a new line:\n",
    "    * SERPER_API_KEY=yourApiKey  "
   ]
  },
  {
   "cell_type": "markdown",
   "id": "c6beada3-d925-460f-b04f-ce5785ec325e",
   "metadata": {},
   "source": [
    "## Let's add the tools in the agents.py file"
   ]
  },
  {
   "cell_type": "code",
   "execution_count": null,
   "id": "7381d816-abab-442b-bc49-43ab54827db0",
   "metadata": {},
   "outputs": [],
   "source": [
    "# from crewai_tools import SerperDevTool\n",
    "# from tools.youtube_search_tools import YoutubeVideoSearchTool"
   ]
  },
  {
   "cell_type": "code",
   "execution_count": 1,
   "id": "250458b3-7089-4053-9aec-d6354deb2a3a",
   "metadata": {},
   "outputs": [],
   "source": [
    "# class ResearchAgents():\n",
    "\n",
    "#     def __init__(self):\n",
    "#         self.searchInternetTool = SerperDevTool()\n",
    "#         self.youtubeSearchTool = YoutubeVideoSearchTool()\n",
    "#         self.llm = ChatOpenAI(model=\"gpt-4-turbo-preview\")"
   ]
  },
  {
   "cell_type": "markdown",
   "id": "8582f9dc-3125-454b-a176-d341dfd9b43d",
   "metadata": {},
   "source": [
    "## We can now run api.py and test it with Postman\n",
    "* **IMPORTANT: Multi-agent LLM Apps are much more expensive to run than regular LLM Apps**. This is not relevant for our exercise (the following execution using ChatGPT-4 costed us around $0.2 according to our tracking on LangSmith), but it can be if you do a massive use of the app. So, remember to pay attention to costs when developing multi-agent apps.\n",
    "* **In terminal:**\n",
    "    * python api.py\n",
    "* **Open Postman in Visual Studio Code**\n",
    "    * create a new POST request\n",
    "    * http://localhost:3001/api/multiagent\n",
    "    * Body\n",
    "    * Raw.\n",
    "    * Dropdown: JSON\n",
    "    * Enter:  "
   ]
  },
  {
   "cell_type": "code",
   "execution_count": null,
   "id": "c4321d36-0315-47e7-8e7b-19b8fba2f958",
   "metadata": {},
   "outputs": [],
   "source": [
    "{\n",
    "    \"technologies\": [\n",
    "        \"Generative AI\"\n",
    "    ],\n",
    "    \"businessareas\": [\n",
    "        \"Marketing\"\n",
    "    ]\n",
    "}"
   ]
  },
  {
   "cell_type": "markdown",
   "id": "c929b1ca-2847-4bc8-b4e6-1456e4bc6a97",
   "metadata": {},
   "source": [
    "* Click on the Send button.\n",
    "* See how results are generated in Terminal.\n",
    "* Expected output in Postman: "
   ]
  },
  {
   "cell_type": "code",
   "execution_count": null,
   "id": "26f2b0d9-1110-4317-89b1-5c069695e236",
   "metadata": {},
   "outputs": [],
   "source": [
    "# {\n",
    "#     \"input_id\": \"TheRandomJobIdGeneratedByUuid4\"\n",
    "# }"
   ]
  },
  {
   "cell_type": "markdown",
   "id": "a72f9596-477b-4440-9f93-f3835fba07f2",
   "metadata": {},
   "source": [
    "* **Copy the input_id**\n",
    "* Go back to Postman\n",
    "* Now make a GET request\n",
    "* http://localhost:3001/api/multiagent/copyTheJobIdHere\n",
    "* Select Body and none\n",
    "* Click on the Send button\n",
    "* Expected output in Postman:"
   ]
  },
  {
   "cell_type": "code",
   "execution_count": null,
   "id": "a8e9ee23-f36f-44e9-b5bc-ee76a1d5408a",
   "metadata": {},
   "outputs": [],
   "source": [
    "# {\n",
    "#     \"events\": [\n",
    "#         {\n",
    "#             \"data\": \"CREW STARTED\",\n",
    "#             \"timestamp\": \"2024-05-07T20:07:56.046287\"\n",
    "#         },\n",
    "#         {\n",
    "#             \"data\": \"{\\n  \\\"technology\\\": \\\"Generative AI\\\",\\n  \\\"businessarea\\\": \\\"Marketing\\\",\\n  \\\"blog_articles_urls\\\": [\\n    \\\"https://www.digitalfirst.ai/blog/generative-ai\\\",\\n    \\\"https://blog.linkody.com/marketing/generative-ai-for-content-marketing\\\",\\n    \\\"https://www.zoho.com/blog/salesiq/generative-ai-in-marketing.html\\\"\\n  ],\\n  \\\"youtube_videos_urls\\\": [\\n    {\\n      \\\"name\\\": \\\"What Will Happen to Marketing in the Age of AI? | Jessica Apotheker | TED\\\",\\n      \\\"url\\\": \\\"https://www.youtube.com/watch?v=3MwMII8n1qM\\\"\\n    },\\n    {\\n      \\\"name\\\": \\\"How Will Generative AI Shape the Future of Marketing?\\\",\\n      \\\"url\\\": \\\"https://www.youtube.com/watch?v=PVVUPUJeezo\\\"\\n    },\\n    {\\n      \\\"name\\\": \\\"Generative AI for Marketing\\\",\\n      \\\"url\\\": \\\"https://www.youtube.com/watch?v=XwBrlbrLsH0\\\"\\n    }\\n  ]\\n}\",\n",
    "#             \"timestamp\": \"2024-05-07T20:08:39.055261\"\n",
    "#         },\n",
    "#         {\n",
    "#             \"data\": \"{\\n  \\\"businessareas\\\": [\\n    {\\n      \\\"technology\\\": \\\"Generative AI\\\",\\n      \\\"businessarea\\\": \\\"Marketing\\\",\\n      \\\"blog_articles_urls\\\": [\\n        \\\"https://www.digitalfirst.ai/blog/generative-ai\\\",\\n        \\\"https://blog.linkody.com/marketing/generative-ai-for-content-marketing\\\",\\n        \\\"https://www.zoho.com/blog/salesiq/generative-ai-in-marketing.html\\\"\\n      ],\\n      \\\"youtube_videos_urls\\\": [\\n        {\\n          \\\"name\\\": \\\"What Will Happen to Marketing in the Age of AI? | Jessica Apotheker | TED\\\",\\n          \\\"url\\\": \\\"https://www.youtube.com/watch?v=3MwMII8n1qM\\\"\\n        },\\n        {\\n          \\\"name\\\": \\\"How Will Generative AI Shape the Future of Marketing?\\\",\\n          \\\"url\\\": \\\"https://www.youtube.com/watch?v=PVVUPUJeezo\\\"\\n        },\\n        {\\n          \\\"name\\\": \\\"Generative AI for Marketing\\\",\\n          \\\"url\\\": \\\"https://www.youtube.com/watch?v=XwBrlbrLsH0\\\"\\n        }\\n      ]\\n    }\\n  ]\\n}\",\n",
    "#             \"timestamp\": \"2024-05-07T20:09:03.346685\"\n",
    "#         },\n",
    "#         {\n",
    "#             \"data\": \"CREW COMPLETED\",\n",
    "#             \"timestamp\": \"2024-05-07T20:09:03.346972\"\n",
    "#         },\n",
    "#         {\n",
    "#             \"data\": \"Crew complete\",\n",
    "#             \"timestamp\": \"2024-05-07T20:09:03.346990\"\n",
    "#         }\n",
    "#     ],\n",
    "#     \"input_id\": \"40042df2-687f-41a9-abf9-72c1db68755f\",\n",
    "#     \"result\": {\n",
    "#         \"businessareas\": [\n",
    "#             {\n",
    "#                 \"blog_articles_urls\": [\n",
    "#                     \"https://www.digitalfirst.ai/blog/generative-ai\",\n",
    "#                     \"https://blog.linkody.com/marketing/generative-ai-for-content-marketing\",\n",
    "#                     \"https://www.zoho.com/blog/salesiq/generative-ai-in-marketing.html\"\n",
    "#                 ],\n",
    "#                 \"businessarea\": \"Marketing\",\n",
    "#                 \"technology\": \"Generative AI\",\n",
    "#                 \"youtube_videos_urls\": [\n",
    "#                     {\n",
    "#                         \"name\": \"What Will Happen to Marketing in the Age of AI? | Jessica Apotheker | TED\",\n",
    "#                         \"url\": \"https://www.youtube.com/watch?v=3MwMII8n1qM\"\n",
    "#                     },\n",
    "#                     {\n",
    "#                         \"name\": \"How Will Generative AI Shape the Future of Marketing?\",\n",
    "#                         \"url\": \"https://www.youtube.com/watch?v=PVVUPUJeezo\"\n",
    "#                     },\n",
    "#                     {\n",
    "#                         \"name\": \"Generative AI for Marketing\",\n",
    "#                         \"url\": \"https://www.youtube.com/watch?v=XwBrlbrLsH0\"\n",
    "#                     }\n",
    "#                 ]\n",
    "#             }\n",
    "#         ]\n",
    "#     },\n",
    "#     \"status\": \"COMPLETE\"\n",
    "# }"
   ]
  },
  {
   "cell_type": "markdown",
   "id": "2316f770-1ff3-4c29-a2a9-dda71df9a30b",
   "metadata": {},
   "source": [
    "## The backend is now in good shape"
   ]
  },
  {
   "cell_type": "code",
   "execution_count": null,
   "id": "eb13be6e-d474-4941-9701-178e7d3a9b58",
   "metadata": {},
   "outputs": [],
   "source": []
  }
 ],
 "metadata": {
  "kernelspec": {
   "display_name": "Python 3 (ipykernel)",
   "language": "python",
   "name": "python3"
  },
  "language_info": {
   "codemirror_mode": {
    "name": "ipython",
    "version": 3
   },
   "file_extension": ".py",
   "mimetype": "text/x-python",
   "name": "python",
   "nbconvert_exporter": "python",
   "pygments_lexer": "ipython3",
   "version": "3.11.4"
  }
 },
 "nbformat": 4,
 "nbformat_minor": 5
}
