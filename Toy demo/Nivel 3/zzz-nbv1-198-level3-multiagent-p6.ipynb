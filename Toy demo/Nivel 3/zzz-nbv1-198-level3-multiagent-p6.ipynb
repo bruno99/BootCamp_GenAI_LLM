{
 "cells": [
  {
   "cell_type": "markdown",
   "id": "e79da7b5-0bab-4f22-a41c-b815ebc341da",
   "metadata": {},
   "source": [
    "# Level 3 Multi-Agent App: Part 6\n",
    "* Start frontend with Next.js\n",
    "* Create a basic version of page.tsx\n",
    "* Create the Header component\n",
    "* Include the Header component in layout.tsx"
   ]
  },
  {
   "cell_type": "markdown",
   "id": "8c2cf74b-9d68-4a4d-8919-e8c26c92730c",
   "metadata": {},
   "source": [
    "## IMPORTANT: Installation with the exact packages we used\n",
    "* When you download a full stack app you need to make sure that both backend and frontend use the original packages in order to avoid potential errors caused by installing more modern versions of these packages.\n",
    "* Since we used poetry to install the original backend packages, you will now use \"poetry install\" to install them.\n",
    "* At this time, our project still does not have frontend, so we will not install the frontend yet.\n",
    "#### Download the code\n",
    "* Download the code from the github repository.\n",
    "#### Backend installation\n",
    "* Since we used both pyenv and poetry to build this project, you will have to use the following approach to install the backend.\n",
    "* In the terminal, make sure you are in the root directory of the project (v1-198-level3-multiagent-p6).\n",
    "* **Create a virtual environment and use pip install to make sure you install the exact same packages we used**:\n",
    "    * pyenv virtualenv 3.11.4 your-virtual-environment-name\n",
    "    * pyenv activate your-virtual-environment-name\n",
    "    * pip install -r requirements.txt\n",
    "* **Go to the backend directory, create a virtual environment and use poetry install to make sure you install the exact same packages we used**:\n",
    "    * cd backend\n",
    "    * poetry install --no-root\n",
    "#### Frontend installation\n",
    "* Open a second terminal window, make sure you are in the root directory of the project (v1-198-level3-multiagent-p6).\n",
    "* **Go to the frontend directory, and use npm ci to make sure you install the exact same packages we used**:\n",
    "    * cd frontend\n",
    "    * npm ci\n",
    "#### Ready to go!\n",
    "* You can now see the code of the app in Visual Studio Code.\n",
    "* Relax and review the following steps. Remember, since you have pre-installed the modules you will not have to re-install them again."
   ]
  },
  {
   "cell_type": "markdown",
   "id": "c06a53f4-05f3-4456-86d1-60069de2e14f",
   "metadata": {},
   "source": [
    "## Let's now start building the frontend with Next.js\n",
    "* **Remember, in order to use Next.js you need to have Node.js installed in your computer**. If in doubt, review the previous sections where we started explaining Level 3 Apps.\n",
    "* **Create the Next.js frontend template in terminal:**\n",
    "    * npx create-next-app@latest frontend --typescript --tailwind --eslint"
   ]
  },
  {
   "cell_type": "markdown",
   "id": "e76d2f61-c6b8-4981-9b55-49879829f077",
   "metadata": {},
   "source": [
    "Here's a breakdown of what each part of the command does in simple terms:\n",
    "\n",
    "1. **`npx`**: This is a tool that comes with `npm` (Node Package Manager), which helps in executing Node packages without needing to install them globally on your system. It's used here to run the package `create-next-app` directly from the internet, ensuring you're using the latest version without having to permanently install it.\n",
    "\n",
    "2. **`create-next-app@latest`**: This specifies the package to run with `npx`. `create-next-app` is a tool that sets up a starter template for a Next.js application. The `@latest` tag ensures you are using the most recent version of this tool.\n",
    "\n",
    "3. **`frontend`**: This is the name of the directory where your new project will be created. After running the command, you'll have a new folder named `frontend` in your current directory, which will contain all the files of your Next.js project.\n",
    "\n",
    "4. **`--typescript`**: This option tells `create-next-app` to set up the project with TypeScript support. TypeScript is a programming language that adds static types to JavaScript, helping with catching errors early during development.\n",
    "\n",
    "5. **`--tailwind`**: This adds Tailwind CSS to the project. Tailwind CSS is a utility-first CSS framework that allows developers to rapidly style their applications without leaving their HTML (or JSX/TSX).\n",
    "\n",
    "6. **`--eslint`**: This option integrates ESLint into the project. ESLint is a tool for identifying and reporting on patterns found in ECMAScript/JavaScript code, making it easier to write clean and consistent code that follows best practices.\n",
    "\n",
    "Overall, this command quickly sets up a new Next.js application configured with TypeScript, **styled using Tailwind CSS**, and ready for code quality checks with ESLint, all **in the directory named `frontend`**."
   ]
  },
  {
   "cell_type": "markdown",
   "id": "94aa27b5-d1d8-43ae-a10c-72bd3728d895",
   "metadata": {},
   "source": [
    "* After entering the previous command in terminal, click `enter` in all the questions that will appear in terminal.\n",
    "* When the installation is complete:\n",
    "    * cd frontend\n",
    "* **To start the frontend server**:\n",
    "    * npm run dev\n",
    "    * See it in [http://localhost:3000](http://localhost:3000)"
   ]
  },
  {
   "cell_type": "markdown",
   "id": "9af1c010-0ea3-4b7b-aece-1a26e4244edb",
   "metadata": {},
   "source": [
    "## Replace content in app/page.tsx"
   ]
  },
  {
   "cell_type": "code",
   "execution_count": null,
   "id": "0db35f93-1e53-490e-95ac-210cc172eece",
   "metadata": {},
   "outputs": [],
   "source": [
    "export default function Home() {\n",
    "  return (\n",
    "    <div className=\"bg-white min-h-screen text-black\">\n",
    "    Home page\n",
    "    </div>\n",
    "  );\n",
    "}"
   ]
  },
  {
   "cell_type": "markdown",
   "id": "cdd5fa76-41da-40e8-a0df-67b0da5d0f76",
   "metadata": {},
   "source": [
    "* As you can see, we are using Tailwind CSS to style our frontend app. In case of need, review the section about Level 3 RAG App in depth for more info about Tailwind CSS."
   ]
  },
  {
   "cell_type": "markdown",
   "id": "52b3a22e-f9b8-49e0-ac31-f37eb1548359",
   "metadata": {},
   "source": [
    "## Let's create the components folder inside of the frontend folder"
   ]
  },
  {
   "cell_type": "markdown",
   "id": "5ded3826-0a83-4ec4-85d8-1c7a18c3398e",
   "metadata": {},
   "source": [
    "## Now let's create the Header.tsx file inside the components folder"
   ]
  },
  {
   "cell_type": "code",
   "execution_count": 1,
   "id": "e59d8ba2-f37f-42fb-adaa-ec8b9627d68e",
   "metadata": {},
   "outputs": [],
   "source": [
    "# export default function Header() {\n",
    "#     return (\n",
    "#       <div className=\"bg-black\">\n",
    "#         <div className=\"mx-auto py-4 px-5\">\n",
    "#         <h1 className=\"text-white text-xl font-bold\">\n",
    "#             How is this tech used in my business area? A multi-agent LLM App.\n",
    "#           </h1>\n",
    "#         </div>\n",
    "#       </div>\n",
    "#     );\n",
    "#   }"
   ]
  },
  {
   "cell_type": "markdown",
   "id": "d9ac9ed8-cb1b-4e2f-b1e4-1da25b3b1aec",
   "metadata": {},
   "source": [
    "## Include the Header component in app/layout.tsx"
   ]
  },
  {
   "cell_type": "code",
   "execution_count": null,
   "id": "74b65137-96de-4ddd-9592-733f2011ac73",
   "metadata": {},
   "outputs": [],
   "source": [
    "# import Header from \"@/components/Header\";"
   ]
  },
  {
   "cell_type": "code",
   "execution_count": null,
   "id": "a1c794e9-029b-48ee-a382-4f25e5d4c3b1",
   "metadata": {},
   "outputs": [],
   "source": [
    "# export default function RootLayout({\n",
    "#   children,\n",
    "# }: Readonly<{\n",
    "#   children: React.ReactNode;\n",
    "# }>) {\n",
    "#   return (\n",
    "#     <html lang=\"en\">\n",
    "#       <body className={inter.className}>\n",
    "#         <Header />\n",
    "#         {children}\n",
    "#       </body>\n",
    "#     </html>\n",
    "#   );\n",
    "# }"
   ]
  },
  {
   "cell_type": "markdown",
   "id": "d24f1da1-4e92-4137-9a73-a4200b654ebf",
   "metadata": {},
   "source": [
    "## Check changes in http://localhost:3000"
   ]
  },
  {
   "cell_type": "code",
   "execution_count": null,
   "id": "a253b331-73b7-4310-8e67-52874513eac2",
   "metadata": {},
   "outputs": [],
   "source": []
  }
 ],
 "metadata": {
  "kernelspec": {
   "display_name": "Python 3 (ipykernel)",
   "language": "python",
   "name": "python3"
  },
  "language_info": {
   "codemirror_mode": {
    "name": "ipython",
    "version": 3
   },
   "file_extension": ".py",
   "mimetype": "text/x-python",
   "name": "python",
   "nbconvert_exporter": "python",
   "pygments_lexer": "ipython3",
   "version": "3.11.4"
  }
 },
 "nbformat": 4,
 "nbformat_minor": 5
}
