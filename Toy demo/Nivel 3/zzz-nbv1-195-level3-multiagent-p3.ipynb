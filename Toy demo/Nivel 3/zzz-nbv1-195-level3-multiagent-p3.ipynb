{
 "cells": [
  {
   "cell_type": "markdown",
   "id": "e79da7b5-0bab-4f22-a41c-b815ebc341da",
   "metadata": {},
   "source": [
    "# Level 3 Multi-Agent App: Part 3\n",
    "* Include the log_manager functionality (the event logger) in crews.py\n",
    "* Start defining the agents."
   ]
  },
  {
   "cell_type": "markdown",
   "id": "eef3b927-c012-4103-9bd1-89a64562c018",
   "metadata": {},
   "source": [
    "## IMPORTANT: Installation with the exact packages we used\n",
    "* When you download a full stack app you need to make sure that both backend and frontend use the original packages in order to avoid potential errors caused by installing more modern versions of these packages.\n",
    "* Since we used poetry to install the original backend packages, you will now use \"poetry install\" to install them.\n",
    "* At this time, our project still does not have frontend, so we will not install the frontend yet.\n",
    "#### Download the code\n",
    "* Download the code from the github repository.\n",
    "#### Backend installation\n",
    "* Since we used both pyenv and poetry to build this project, you will have to use the following approach to install the backend.\n",
    "* In the terminal, make sure you are in the root directory of the project (v1-195-level3-multiagent-p3).\n",
    "* **Create a virtual environment and use pip install to make sure you install the exact same packages we used**:\n",
    "    * pyenv virtualenv 3.11.4 your-virtual-environment-name\n",
    "    * pyenv activate your-virtual-environment-name\n",
    "    * pip install -r requirements.txt\n",
    "* **Go to the backend directory, create a virtual environment and use poetry install to make sure you install the exact same packages we used**:\n",
    "    * cd backend\n",
    "    * poetry install --no-root\n",
    "#### Ready to go!\n",
    "* You can now see the code of the app in Visual Studio Code.\n",
    "* Relax and review the following steps. Remember, since you have pre-installed the modules you will not have to re-install them again."
   ]
  },
  {
   "cell_type": "markdown",
   "id": "fe095cb5-621a-42e7-885c-cbf4c945a2ee",
   "metadata": {},
   "source": [
    "## Now we can go back to crews.py and start using there the functionality we added in log_manager.py"
   ]
  },
  {
   "cell_type": "markdown",
   "id": "aa7f6e33-31e6-4cba-8a4f-c488d3e831c0",
   "metadata": {},
   "source": [
    "* The first thing we want to do is to record the event when we kickoff the crew. We will do this adding the following line to the kickoff function definition:"
   ]
  },
  {
   "cell_type": "code",
   "execution_count": 2,
   "id": "ac8ccfb3-b2cc-4f36-b8bb-dab342df566c",
   "metadata": {},
   "outputs": [],
   "source": [
    "# from log_manager import append_event\n",
    "\n",
    "# append_event(self.input_id, \"CREW STARTED\")"
   ]
  },
  {
   "cell_type": "markdown",
   "id": "4f9ac760-16e1-41b3-b346-21552d6d08e3",
   "metadata": {},
   "source": [
    "* Similarly, we will add other two lines to log CREW COMPLETED and CREW FAILED. See the whole function definition:"
   ]
  },
  {
   "cell_type": "code",
   "execution_count": null,
   "id": "ea5425aa-06e5-45ca-af4a-f9e2cd419402",
   "metadata": {},
   "outputs": [],
   "source": [
    "# def kickoff(self):\n",
    "#         if not self.crew:\n",
    "#             print(f\"\"\"Crew not found for \n",
    "#             {self.input_id}\"\"\")\n",
    "#             return\n",
    "        \n",
    "#         append_event(self.input_id, \"CREW STARTED\")\n",
    "        \n",
    "#         try:\n",
    "#             print(f\"\"\"Running crew for \n",
    "#             {self.input_id}\"\"\")\n",
    "#             results = self.crew.kickoff()\n",
    "#             append_event(self.input_id, \"CREW COMPLETED\")\n",
    "#             return results\n",
    "\n",
    "#         except Exception as e:\n",
    "#             append_event(self.input_id, \"CREW FAILED\")\n",
    "#             return str(e)"
   ]
  },
  {
   "cell_type": "markdown",
   "id": "4a287be3-88f7-4bc7-8093-d1b448eada41",
   "metadata": {},
   "source": [
    "## Let's now start defining the agents.py file\n",
    "* We will define a very simple crew with 2 levels (manager and employee). You can later make it bigger.\n",
    "* We want to build crews with 2 agents:\n",
    "    * The first agent will be the research manager (will orchestrate the whole process).\n",
    "    * The second agent will be the research agent (will search on youtube and on the Internet).\n",
    "* The first thing we are going to do is to create a class to instantiate agents:"
   ]
  },
  {
   "cell_type": "code",
   "execution_count": 3,
   "id": "d36b2b12-e8e6-4806-9786-d230fa63b799",
   "metadata": {},
   "outputs": [],
   "source": [
    "# from crewai import Agent\n",
    "# from langchain_openai import ChatOpenAI\n",
    "\n",
    "# class ResearchAgents():"
   ]
  },
  {
   "cell_type": "markdown",
   "id": "3ac2fe10-828e-4b71-bb8c-959928cddd81",
   "metadata": {},
   "source": [
    "* Inside the class, we will start defining the class initialization function:"
   ]
  },
  {
   "cell_type": "code",
   "execution_count": null,
   "id": "ec4a0e24-6339-46d4-b350-54556238cfb3",
   "metadata": {},
   "outputs": [],
   "source": [
    "# def __init__(self):\n",
    "#    # TODO: Add tools\n",
    "#    self.llm = ChatOpenAI(model=\"gpt-4-turbo-preview\")"
   ]
  },
  {
   "cell_type": "markdown",
   "id": "c36fc98d-d70c-4a1a-8c5d-dd14480d841a",
   "metadata": {},
   "source": [
    "* Then we will add the agent definition functions.\n",
    "* First, we will define the research manager agent. As you can see, the following function returns a CrewAI agent:"
   ]
  },
  {
   "cell_type": "code",
   "execution_count": null,
   "id": "2cada524-db30-4bb5-ac5d-257cc768e54a",
   "metadata": {},
   "outputs": [],
   "source": [
    "# def research_manager(self, technologies: List[str], businessareas: List[str]) -> Agent:\n",
    "#         return Agent(\n",
    "#             role=\"Research Manager\",\n",
    "#             goal=f\"\"\"Generate a list of JSON objects containing the urls for 3 recent blog articles and \n",
    "#                 the url and title for 3 recent YouTube videos, for each technology in each business area.\n",
    "             \n",
    "#                 Technologies: {technologies}\n",
    "#                 Business Areas: {businessareas}\n",
    "\n",
    "#                 Important:\n",
    "#                 - The final list of JSON objects must include all technologies and business areas. Do not leave any out.\n",
    "#                 - If you can't find information for a specific industry or business area, fill in the information with the word \"MISSING\".\n",
    "#                 - Do not generate fake information. Only return the information you find. Nothing else!\n",
    "#                 - Do not stop researching until you find the requested information for each business area in each technology.\n",
    "#                 - All the technologies and business areas exist so keep researching until you find the information for each one.\n",
    "#                 - Make sure you each researched business area for each technologie contains 3 blog articles and 3 YouTube videos.\n",
    "#                 \"\"\",\n",
    "#             backstory=\"\"\"As a Research Manager, you are responsible for aggregating all the researched information into a list.\"\"\",\n",
    "#             llm=self.llm,\n",
    "#             # TODO: Add tools\n",
    "#             verbose=True,\n",
    "#             allow_delegation=True\n",
    "#         )"
   ]
  },
  {
   "cell_type": "markdown",
   "id": "4f2e8942-7b40-40bf-ad62-c4d739e7fee7",
   "metadata": {},
   "source": [
    "* Some notes about the previous code:\n",
    "    * verbose=True: log events and possible errors\n",
    "    * allow_delegation=True: if the research agent does not provide you satisfactory results, go back to him and ask him to keep working until he does a better job."
   ]
  },
  {
   "cell_type": "markdown",
   "id": "5ee7bfdf-a760-4b07-acaa-b123d4fc4ba4",
   "metadata": {},
   "source": [
    "* Let's now define the second agent:"
   ]
  },
  {
   "cell_type": "code",
   "execution_count": null,
   "id": "ab73d39c-7272-4f5c-a120-fba729c5b172",
   "metadata": {},
   "outputs": [],
   "source": [
    "# def research_agent(self) -> Agent:\n",
    "#         return Agent(\n",
    "#             role=\"Research Agent\",\n",
    "#             goal=\"\"\"Look up the specific business areas for a given technology and find urls for 3 recent blog articles and \n",
    "#                 the url and title for 3 recent YouTube videos in the specified business area. It is your goal to return this collected \n",
    "#                 information in a JSON object\"\"\",\n",
    "#             backstory=\"\"\"As a Research Agent, you are responsible for looking up specific business areas \n",
    "#                 within a technology and gathering relevant information.\n",
    "                \n",
    "#                 Important:\n",
    "#                 - Once you've found the information, immediately stop searching for additional information.\n",
    "#                 - Only return the requested information. NOTHING ELSE!\n",
    "#                 - Do not generate fake information. Only return the information you find. Nothing else!\n",
    "#                 \"\"\",\n",
    "#             # TODO: Add tools\n",
    "#             llm=self.llm,\n",
    "#             verbose=True\n",
    "#         )"
   ]
  }
 ],
 "metadata": {
  "kernelspec": {
   "display_name": "Python 3 (ipykernel)",
   "language": "python",
   "name": "python3"
  },
  "language_info": {
   "codemirror_mode": {
    "name": "ipython",
    "version": 3
   },
   "file_extension": ".py",
   "mimetype": "text/x-python",
   "name": "python",
   "nbconvert_exporter": "python",
   "pygments_lexer": "ipython3",
   "version": "3.11.4"
  }
 },
 "nbformat": 4,
 "nbformat_minor": 5
}
