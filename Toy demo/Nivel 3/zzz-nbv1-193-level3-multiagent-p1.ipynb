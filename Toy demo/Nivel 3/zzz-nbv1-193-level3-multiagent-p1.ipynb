{
 "cells": [
  {
   "cell_type": "markdown",
   "id": "26b58d6b-949b-471c-9cdf-5fce80954396",
   "metadata": {},
   "source": [
    "# Level 3 Multi-Agent App: Part 1\n",
    "* Goals.\n",
    "* Backend setup.\n",
    "* Backend dependencies.\n",
    "* Initial Backend Flask API: initial POST and GET endpoints.\n",
    "* Testing the Backend API with Postman in Visual Studio Code."
   ]
  },
  {
   "cell_type": "markdown",
   "id": "30bc4296-0a6e-4686-9487-5dfa81a8aa81",
   "metadata": {},
   "source": [
    "## IMPORTANT: Installation with the exact packages we used\n",
    "* When you download a full stack app you need to make sure that both backend and frontend use the original packages in order to avoid potential errors caused by installing more modern versions of these packages.\n",
    "* Since we used poetry to install the original backend packages, you will now use \"poetry install\" to install them.\n",
    "* At this time, our project still does not have frontend, so we will not install the frontend yet.\n",
    "#### Download the code\n",
    "* Download the code from the github repository.\n",
    "#### Backend installation\n",
    "* Since we used both pyenv and poetry to build this project, you will have to use the following approach to install the backend.\n",
    "* In the terminal, make sure you are in the root directory of the project (v1-193-level3-multiagent-p1).\n",
    "* **Create a virtual environment and use pip install to make sure you install the exact same packages we used**:\n",
    "    * pyenv virtualenv 3.11.4 your-virtual-environment-name\n",
    "    * pyenv activate your-virtual-environment-name\n",
    "    * pip install -r requirements.txt\n",
    "* **Go to the backend directory, create a virtual environment and use poetry install to make sure you install the exact same packages we used**:\n",
    "    * cd backend\n",
    "    * poetry install --no-root\n",
    "#### Ready to go!\n",
    "* You can now see the code of the app in Visual Studio Code.\n",
    "* Relax and review the following steps. Remember, since you have pre-installed the modules you will not have to re-install them again.\n",
    "* In this part we will only check the backend using the Postman extension in Visual Studio Code."
   ]
  },
  {
   "cell_type": "markdown",
   "id": "586a2281-416e-488f-b47b-c0cb4415cdcc",
   "metadata": {},
   "source": [
    "## Recommendation\n",
    "* Use the free editor Visual Studio Code for this exercise, so you will be able to use the very useful Postman extension there."
   ]
  },
  {
   "cell_type": "markdown",
   "id": "5f548c56-f007-4220-b2b1-1b9331e481f1",
   "metadata": {},
   "source": [
    "## Graphic representation of the app\n",
    "* Remember: in real world you will not start coding immediately.\n",
    "* In real world, a graphic representation of the app comes usually after understanding very well what our customer wants, have a very clear idea of what the use cases of the app will be. That would require to meet with the customer as many times as necessary to understand perfectly what the customer needs.\n",
    "* Very useful in the conceptual stage.\n",
    "* It can be as detailed as desired.\n",
    "* UI:\n",
    "    * input: technologies and business areas\n",
    "    * output: search results (blog articles, youtube videos) and event log.\n",
    "* Backend:\n",
    "    * API to manage inputs and outputs.\n",
    "    * A crew of AI Agents for each request."
   ]
  },
  {
   "cell_type": "markdown",
   "id": "9f6a5f9a-04c6-4546-8963-a7b0b933c507",
   "metadata": {},
   "source": [
    "## Goals\n",
    "* Full Stack Multi-Agent App.\n",
    "* To find blog articles and youtube video interviews talking about selected technologies in the selected business areas. Use case: \"Find youtube video interviews and blog posts about Generative AI in the Customer Service area\".\n",
    "* Using:\n",
    "    * CrewAI (LangChain).\n",
    "    * Next.js frontend (React, Javascript).\n",
    "    * Flask backend (Python).\n",
    "* As always, you will be able to download the code from the Github repository.\n",
    "* We will separate the code from each part so it will be easier to follow, debug, and update when necessary."
   ]
  },
  {
   "cell_type": "markdown",
   "id": "3ea48273-d612-4551-b080-b57c17fe4ce3",
   "metadata": {},
   "source": [
    "## Steps\n",
    "* Backend.\n",
    "* Frontend."
   ]
  },
  {
   "cell_type": "markdown",
   "id": "2c1acef2-fe68-475f-9d71-6e169ed49376",
   "metadata": {},
   "source": [
    "## Backend Setup\n",
    "* Create a new folder for the project.\n",
    "    * mkdir level3multiagent \n",
    "* Create new virtualenv.\n",
    "    * pyenv virtualenv 3.11.4 myvenv\n",
    "    * pyenv activate myvenv  \n",
    "* Inside the project folder, create a project for the backend.\n",
    "    * cd level3multiagent\n",
    "    * mkdir backend\n",
    "    * cd backend\n",
    "* Open the project in your code editor. As always, we will use the free editor Visual Studio Code. You can use the editor of your choice. "
   ]
  },
  {
   "cell_type": "markdown",
   "id": "e7b8dde3-1a8d-4b37-a459-f216b977c0f7",
   "metadata": {},
   "source": [
    "## Create the files of the backend, initially empty just to understand what each of them will do\n",
    "* api.py: backend api with flask.\n",
    "* crews.py: crewai crews definition.\n",
    "* agents.py: crewai agents definition.\n",
    "* tasks.py: crewai tasks definition.\n",
    "* models.py: data formatting with pydantic.\n",
    "* log_manager.py: manage log.\n",
    "* pyproject.toml: defines all dependencies.\n",
    "* inside a new folder called tools:\n",
    "    * youtube_search_tools.py\n",
    "    * `__init__.py`\n",
    "        * The presence of an `__init__.py` file in a directory indicates to Python that the directory should be treated as a package. This is crucial when you are importing modules from a directory. Without an `__init__.py` file, Python will not recognize the directory as a package, and you won't be able to import any submodules."
   ]
  },
  {
   "cell_type": "markdown",
   "id": "229ebb38-7e7c-45ff-ba49-ff978210f8e1",
   "metadata": {},
   "source": [
    "## Let's start filling the project.toml file\n",
    "* As you remember, in previous projects the pyproject.toml file was  created automatically when we created a new poetry app and was filled when we added modules to the project with poetry.\n",
    "* In this case, we are going to start with a pyproject.toml file already filled so you will see an alternative way to install the necessary packages. This way allow us to make sure that you will install the same versions of each module we use."
   ]
  },
  {
   "cell_type": "code",
   "execution_count": null,
   "id": "1c991150-3286-4ad0-9401-41a071456df4",
   "metadata": {},
   "outputs": [],
   "source": [
    "# [tool.poetry]\n",
    "# name = \"level3multiagent\"\n",
    "# version = \"0.1.0\"\n",
    "# description = \"Automate Internet and Youtube Search with CrewAI\"\n",
    "# authors = [\"julio colomer <info@aiaccelera.com>\"]\n",
    "\n",
    "# [tool.poetry.dependencies]\n",
    "# python = \">=3.10.0,<3.12\"\n",
    "# crewai = {extras = [\"tools\"], version = \"^0.22.4\"}\n",
    "# pydantic = \"^2.6.3\"\n",
    "# load-dotenv = \"^0.1.0\"\n",
    "# crewai-tools = \"^0.0.15\"\n",
    "# flask = \"^3.0.2\"\n",
    "# flask-cors = \"^4.0.0\"\n",
    "\n",
    "# [tool.pyright]\n",
    "# # https://github.com/microsoft/pyright/blob/main/docs/configuration.md\n",
    "# useLibraryCodeForTypes = true\n",
    "# exclude = [\".cache\"]\n",
    "\n",
    "# [tool.ruff]\n",
    "# # https://beta.ruff.rs/docs/configuration/\n",
    "# select = ['E', 'W', 'F', 'I', 'B', 'C4', 'ARG', 'SIM']\n",
    "# ignore = ['W291', 'W292', 'W293']\n",
    "\n",
    "# [build-system]\n",
    "# requires = [\"poetry-core>=1.0.0\"]\n",
    "# build-backend = \"poetry.core.masonry.api\""
   ]
  },
  {
   "cell_type": "markdown",
   "id": "e4301f12-f683-4bf2-a251-e76fb179a9e0",
   "metadata": {},
   "source": [
    "The last two blocks are optional. They represent configuration settings for two Python tools, `Pyright` and `Ruff`, which are used for type checking and linting, respectively. Here’s what each part of the configuration means:\n",
    "\n",
    "### Pyright Configuration\n",
    "\n",
    "`[tool.pyright]` - This section of the `pyproject.toml` file specifies settings for Pyright, a static type checker for Python.\n",
    "\n",
    "- `useLibraryCodeForTypes = true` - This option tells Pyright to use type information from library implementations if type stubs (`*.pyi` files) are not available. It allows for more thorough type checking by utilizing actual library code to infer types.\n",
    "\n",
    "- `exclude = [\".cache\"]` - This tells Pyright to exclude certain directories from type checking. Here, the `.cache` directory is excluded, which is commonly used for storing temporary files that do not need to be checked.\n",
    "\n",
    "### Ruff Configuration\n",
    "\n",
    "`[tool.ruff]` - This section configures Ruff, a fast Python linter aimed at providing instant feedback to developers.\n",
    "\n",
    "- `select = ['E', 'W', 'F', 'I', 'B', 'C4', 'ARG', 'SIM']` - This setting specifies which categories of checks Ruff should perform. Each letter or code represents a different category of checks:\n",
    "  - `E` - Errors\n",
    "  - `W` - Warnings\n",
    "  - `F` - Fatal errors\n",
    "  - `I` - Informational messages\n",
    "  - `B` - Best practices\n",
    "  - `C4` - Complexity checks\n",
    "  - `ARG` - Argument-related checks\n",
    "  - `SIM` - Similarity checks\n",
    "\n",
    "- `ignore = ['W291', 'W292', 'W293']` - This list specifies specific warnings that Ruff should ignore:\n",
    "  - `W291` - Trailing whitespace\n",
    "  - `W292` - No newline at end of file\n",
    "  - `W293` - Blank line contains whitespace\n",
    "\n",
    "Overall, these settings in the `pyproject.toml` file are used to customize the behavior of type checking and linting tools within a Python project, thereby helping maintain code quality and consistency according to specified project standards."
   ]
  },
  {
   "cell_type": "markdown",
   "id": "f4042723-2e0a-4b3b-a9f4-895654573ac1",
   "metadata": {},
   "source": [
    "## Let's now go to the terminal to install these dependencies\n",
    "* poetry install --no-root"
   ]
  },
  {
   "cell_type": "markdown",
   "id": "86183377-f658-419a-8b0b-56272a323e6c",
   "metadata": {},
   "source": [
    "The `--no-root` option in the `poetry install` command is used to tell Poetry to skip installing the main project package itself and only install the other packages that the project depends on. It's like saying, \"Set up everything I need for this project, but don't include the project itself.\" This is useful when you're setting up environments for testing or deployment where you don't need the main project package yet, but you do need all its dependencies ready to go."
   ]
  },
  {
   "cell_type": "markdown",
   "id": "902909df-0f62-4d3c-80dd-6533e7b83747",
   "metadata": {},
   "source": [
    "## OK, now let's start working on the api.py file\n",
    "* This is the file where our Flask API will be.\n",
    "* First, let's create the Flask app:"
   ]
  },
  {
   "cell_type": "code",
   "execution_count": null,
   "id": "6c94d7a1-18a4-4f08-9909-58c9abaee9ca",
   "metadata": {},
   "outputs": [],
   "source": [
    "# from flask import Flask, jsonify, request, abort\n",
    "\n",
    "# app = Flask(__name__)"
   ]
  },
  {
   "cell_type": "markdown",
   "id": "83bee7c6-ef33-469d-a072-e9c4e1b1b6e4",
   "metadata": {},
   "source": [
    "Flask is a popular web framework for Python that lets you build web applications quickly and easily. An API (Application Programming Interface) in the context of Flask refers to a set of rules that allow programs to interact with each other. In the case of Flask, this usually means developing web services that can receive and respond to requests over the internet.\n",
    "\n",
    "Using Flask, you can create APIs that other software can communicate with over a network, like how mobile apps might communicate with a server. For example, you could create a Flask API to handle tasks like managing user data for an app, processing orders in an online store, or any other type of data exchange via the web.\n",
    "\n",
    "The official Flask documentation is a great resource for learning how to use Flask, from basic to advanced topics. It includes a quick start guide, patterns for building more complex web applications, and a detailed API reference. You can find the Flask documentation at:\n",
    "\n",
    "[Flask Documentation](https://flask.palletsprojects.com/)\n",
    "\n",
    "This documentation is maintained by the developers of Flask and is regularly updated to reflect the latest version of the framework. It's well-structured for both beginners and experienced developers, making it an excellent place to start learning about Flask."
   ]
  },
  {
   "cell_type": "markdown",
   "id": "465b25d9-543a-404b-bf08-886f81080206",
   "metadata": {},
   "source": [
    "#### Flask vs. FastAPI\n",
    "FastAPI and Flask are both popular web frameworks in Python used for building web applications and APIs. They have different features and design philosophies that make them suitable for different types of projects. Here are the main differences between FastAPI and Flask in simple terms:\n",
    "\n",
    "1. **Performance**:\n",
    "   - **FastAPI**: It is built on Starlette and uses asynchronous request handling, which makes it significantly faster and more scalable than Flask. This means FastAPI can handle more requests per second with fewer resources.\n",
    "   - **Flask**: Traditionally, it does not support asynchronous programming out of the box and uses a synchronous model of handling requests. This can be less efficient under high load or with slow I/O operations.\n",
    "\n",
    "2. **Type Hints and Data Validation**:\n",
    "   - **FastAPI**: Utilizes Python type hints to ensure data validation and serialization. This feature allows developers to define how data should be structured using Python’s standard type hints, and FastAPI automatically handles the validation. Errors in data types or missing fields are caught before they hit your application logic.\n",
    "   - **Flask**: Does not natively use type hints. Data validation and serialization must be handled manually by the developer or with additional libraries like Marshmallow.\n",
    "\n",
    "3. **API Documentation**:\n",
    "   - **FastAPI**: Automatically generates interactive API documentation using Swagger and ReDoc. This means developers and users can see and interact with the API through auto-generated web pages that document how the API works.\n",
    "   - **Flask**: Does not include automatic API documentation. Developers often use extensions like Flask-RESTPlus or Flask-RESTful to achieve similar functionality but need to manually set up much of the documentation.\n",
    "\n",
    "4. **Dependency Injection**:\n",
    "   - **FastAPI**: Supports dependency injection more robustly, allowing developers to create reusable dependencies and inject them wherever needed. This can simplify the code and improve maintainability.\n",
    "   - **Flask**: Has more basic support for dependency injection and often requires additional tools or patterns to manage complex dependencies effectively.\n",
    "\n",
    "5. **Asynchronous Support**:\n",
    "   - **FastAPI**: As mentioned, it supports asynchronous route handlers, making it ideal for applications that perform a lot of background processing, I/O operations, or calling external APIs.\n",
    "   - **Flask**: By default, does not support asynchronous handlers. Although extensions and workarounds like Flask-AsyncIO are available, they are not as seamlessly integrated as in FastAPI.\n",
    "\n",
    "6. **Learning Curve and Ecosystem**:\n",
    "   - **Flask**: Known for its simplicity and minimalistic approach, Flask is often considered easier to learn for beginners. It has a large community and a lot of third-party extensions that make it highly flexible and capable of handling a variety of web development needs.\n",
    "   - **FastAPI**: While also quite intuitive, especially for those familiar with type hints and asynchronous programming, it might require a bit more time to get used to for those new to these concepts. However, it’s rapidly growing in popularity due to its performance and features.\n",
    "\n",
    "In summary, FastAPI tends to be more suitable for high-performance applications and those requiring comprehensive, automatic API documentation and type validation. Flask, on the other hand, may be better for simpler applications, quick development, and for those who prefer a more mature ecosystem with a lot of flexibility through extensions."
   ]
  },
  {
   "cell_type": "markdown",
   "id": "f9e8c0b2-ba95-4132-995a-26518f50cf85",
   "metadata": {},
   "source": [
    "* Let's now create the backend endpoints of the app."
   ]
  },
  {
   "cell_type": "markdown",
   "id": "2394d79c-8d12-446e-b035-7b8de4eafd05",
   "metadata": {},
   "source": [
    "## Endpoing to send data to the backend with the POST method"
   ]
  },
  {
   "cell_type": "code",
   "execution_count": null,
   "id": "d5ed7111-7b15-4a38-99fc-25b1bc2b89e5",
   "metadata": {},
   "outputs": [],
   "source": [
    "# @app.route('/api/multiagent', methods=['POST'])\n",
    "# def run_multiagent():\n",
    "#     return jsonify({\"status\": \"success\"}), 200"
   ]
  },
  {
   "cell_type": "markdown",
   "id": "8671a0da-fb05-4486-91b0-eedd4dfbcacf",
   "metadata": {},
   "source": [
    "The previous code snippet defines a simple Flask API endpoint in our web application. When a POST request is made to the URL '/api/multiagent', the function `run_multiagent()` is called. This function responds by sending back a JSON object containing `{\"status\": \"success\"}` with an HTTP status code of 200, which indicates that the request was successfully processed. Essentially, this API endpoint just acknowledges that it received a POST request by returning a success message.\n",
    "\n",
    "Here's what each part of the code does in simple terms:\n",
    "\n",
    "1. **`@app.route('/api/multiagent', methods=['POST'])`**: This is a decorator that tells Flask to listen for HTTP POST requests at the URL `/api/multiagent`. When such a request is made to the application, Flask will execute the function directly below this decorator, which in this case is `run_multiagent()`.\n",
    "\n",
    "2. **`def run_multiagent():`**: This defines a Python function named `run_multiagent`. It's the function that gets called when a POST request is made to `/api/multiagent`.\n",
    "\n",
    "3. **`return jsonify({\"status\": \"success\"}), 200`**: Inside the function, it sends back a response to whoever made the POST request. The `jsonify({\"status\": \"success\"})` part converts the Python dictionary `{\"status\": \"success\"}` into a JSON format, which is a way to send structured data over the internet. The `200` indicates an HTTP status code, which in this case is the standard code for a successful HTTP request. This tells the requester that their POST was successful.\n",
    "\n",
    "In summary, when a POST request is made to `/api/multiagent`, our Flask application responds with a JSON object that says `{\"status\": \"success\"}` and an HTTP status code of `200`, indicating the request was successful."
   ]
  },
  {
   "cell_type": "markdown",
   "id": "7a9a7bed-d328-478d-a35b-2fa5d3755ab1",
   "metadata": {},
   "source": [
    "* And let's add the following code to start running the application:"
   ]
  },
  {
   "cell_type": "code",
   "execution_count": null,
   "id": "e3dd2ec4-668d-4089-892f-7c0933599a0c",
   "metadata": {},
   "outputs": [],
   "source": [
    "# if __name__ == '__main__':\n",
    "#     app.run(debug=True, port=3001)"
   ]
  },
  {
   "cell_type": "markdown",
   "id": "ecf6eedf-3ef7-41dd-a3ae-7eb59fc00858",
   "metadata": {},
   "source": [
    "As you can see, we will use the port 3001 for our backend. Later, we will set the port 3000 for our frontend."
   ]
  },
  {
   "cell_type": "markdown",
   "id": "41ef8e97-2722-471b-9c7f-a8f0b9a2ef8a",
   "metadata": {},
   "source": [
    "## Run the backend from terminal\n",
    "* python api.py"
   ]
  },
  {
   "cell_type": "markdown",
   "id": "520173d0-2b15-4432-b77c-45459942d641",
   "metadata": {},
   "source": [
    "## Let's test this initial endpoint using Postman\n",
    "* The Visual Studio Code Postman extension allows developers to test and interact with APIs directly within their coding environment, Visual Studio Code.\n",
    "* This tool lets you send different types of requests (like GET or POST) to APIs, organize these requests into collections, and write tests to check the responses, all without having to switch to another application.\n",
    "* Install the Postman extension in your Visual Studio Code:\n",
    "    * Go to Extensions in the sidebar\n",
    "    * Search for Postman\n",
    "    * Install the Extension\n",
    "* Open the Postman Extension\n",
    "    * Follow the instructions to create a free Postman account\n",
    "    * Click on the button New HTTP Request\n",
    "    * Change the method to POST\n",
    "    * Enter the endpoint `http://localhost:3001/api/multiagent`\n",
    "    * Click on the Send button\n",
    "    * You should get {\"status\": \"success\"}\n",
    "    * And the status code 200\n",
    "    * NOTE: If you try this with the code downloaded from Github, you will not have the same result, since the api.py file in the Part 1 code is in a more advanced stage."
   ]
  },
  {
   "cell_type": "markdown",
   "id": "048a3bd4-4ec8-424f-84e0-fa1f53d4cb36",
   "metadata": {},
   "source": [
    "## Endpoing to get data from the backend with the GET method\n",
    "* We want to get the status of a particular input identified by an input_ID."
   ]
  },
  {
   "cell_type": "code",
   "execution_count": null,
   "id": "13854792-4b7f-420f-8d1d-3e9be72c3bcc",
   "metadata": {},
   "outputs": [],
   "source": [
    "# @app.route('/api/multiagent/<input_id>', methods=['GET'])\n",
    "# def get_status(input_id):\n",
    "#     return jsonify({\n",
    "#         \"status\": f\"Getting status for {input_id}\"\n",
    "#     }), 200"
   ]
  },
  {
   "cell_type": "markdown",
   "id": "3f186bb7-38bb-4a84-8997-aec830898767",
   "metadata": {},
   "source": [
    "This Flask code defines a simple web server endpoint that responds to HTTP GET requests. Here’s a breakdown of its components in plain language:\n",
    "\n",
    "1. **`@app.route('/api/multiagent/<input_id>', methods=['GET'])`**:\n",
    "   - `@app.route(...)`: This is a decorator that tells Flask what URL pattern the function should handle. \n",
    "   - `/api/multiagent/<input_id>`: This is the URL path. Here, `<input_id>` acts as a placeholder for a variable part of the URL that you expect to change. For example, if someone visits `/api/multiagent/123`, the `input_id` will be `123`.\n",
    "   - `methods=['GET']`: This specifies that this route should only respond to HTTP GET requests, which are typically used for retrieving data.\n",
    "\n",
    "2. **`def get_status(input_id):`**:\n",
    "   - This defines a function named `get_status` that takes `input_id` as a parameter. The `input_id` will be the value extracted from the URL where the placeholder `<input_id>` is located.\n",
    "\n",
    "3. **`return jsonify({ \"status\": f\"Getting status for {input_id}\" }), 200`**:\n",
    "   - `jsonify(...)`: This function converts the Python dictionary into a JSON format. JSON is a lightweight data-interchange format that's easy for humans to read and write and for machines to parse and generate.\n",
    "   - `{\"status\": f\"Getting status for {input_id}\"}`: Inside `jsonify`, a dictionary is created where there is a key `status` and its value is a string that includes the `input_id` provided in the URL. This string is dynamically generated to include the specific `input_id`.\n",
    "   - `200`: This is the HTTP status code that is returned along with the JSON data. A `200` status code means \"OK\", indicating that the request has succeeded.\n",
    "\n",
    "Overall, when this route is accessed via a URL like `/api/multiagent/123` using a GET request, it will return a JSON object like `{\"status\": \"Getting status for 123\"}` with a status code of `200`, indicating a successful operation."
   ]
  },
  {
   "cell_type": "markdown",
   "id": "42308f6f-2f08-43e4-a7d5-b7bf7f8c3888",
   "metadata": {},
   "source": [
    "## Test the endpoint using Postman\n",
    "* Open the Postman Extension\n",
    "    * Click on the button New HTTP Request\n",
    "    * Change the method to GET\n",
    "    * Enter the endpoint `http://localhost:3001/api/multiagent/123`\n",
    "    * Click on the Send button\n",
    "    * You should get {\"status\": \"Getting the status for 123\"}\n",
    "    * And the status code 200"
   ]
  },
  {
   "cell_type": "markdown",
   "id": "acb54938-1dcd-45ff-bca9-ed57ff0198a9",
   "metadata": {},
   "source": [
    "## How can we validate if the user has sent the necessary data with the POST method?\n",
    "* The user is supposed to send at least one technology and one business area.\n",
    "* This is how we will confirm that the data sent by the user has the necessary items:"
   ]
  },
  {
   "cell_type": "code",
   "execution_count": null,
   "id": "244be332-dec9-4931-94fc-e00490bafbc5",
   "metadata": {},
   "outputs": [],
   "source": [
    "# data = request.json\n",
    "#     if not data or 'technologies' not in data or 'businessareas' not in data:\n",
    "#         abort(400, description=\"Invalid request with missing data.\")"
   ]
  },
  {
   "cell_type": "markdown",
   "id": "1f78610d-8f7b-4628-81bc-620941fbaf9d",
   "metadata": {},
   "source": [
    "This Flask code handles the validation of data received from a request. Here’s a breakdown of what each line does in simple terms:\n",
    "\n",
    "1. **`data = request.json`**:\n",
    "   - This line retrieves JSON data sent in an HTTP request and stores it in the variable `data`. The `request.json` property automatically parses the JSON data from the incoming request.\n",
    "\n",
    "2. **`if not data or 'technologies' not in data or 'businessareas' not in data:`**:\n",
    "   - This line checks for several conditions to validate the data:\n",
    "     - `not data`: Checks if `data` is empty or `None`, meaning no data was sent at all.\n",
    "     - `'technologies' not in data`: Checks if the key `'technologies'` is missing in the data.\n",
    "     - `'businessareas' not in data`: Checks if the key `'businessareas'` is missing in the data.\n",
    "   - If any of these conditions are true, it means the necessary data has not been provided correctly.\n",
    "\n",
    "3. **`abort(400, description=\"Invalid request with missing data.\")`**:\n",
    "   - If the above conditions are met (meaning the data is invalid or incomplete), this line stops further processing of the request and sends an HTTP 400 error response back to the client.\n",
    "   - HTTP 400 stands for \"Bad Request\", which is typically used when the request made by the client was incorrect or corrupted and the server cannot process it.\n",
    "   - The `description=\"Invalid request with missing data.\"` provides a clearer explanation of what went wrong, helping the client understand that they need to include both 'technologies' and 'businessareas' in their request data.\n",
    "\n",
    "Overall, this code ensures that the necessary pieces of data ('technologies' and 'businessareas') are included in the request. If they aren't, it promptly informs the client of the error, preventing any further processing that would fail due to missing information."
   ]
  },
  {
   "cell_type": "markdown",
   "id": "71943f5e-9cfb-4200-a1d9-0f2839492924",
   "metadata": {},
   "source": [
    "## Let's test this validation using Postman\n",
    "* Open the Postman Extension\n",
    "    * Click on the button New HTTP Request\n",
    "    * Change the method to POST\n",
    "    * Enter the endpoint `http://localhost:3001/api/multiagent`\n",
    "    * Click on the Send button\n",
    "    * You should get the error message \"Unsupported Media Type\"\n",
    "* Open the Postman Extension\n",
    "    * Click on the button New HTTP Request\n",
    "    * Change the method to POST\n",
    "    * Enter the endpoint `http://localhost:3001/api/multiagent`\n",
    "    * Select Body > raw\n",
    "    * Select JSON in the dropdown\n",
    "    * Enter {\"technologies\": \"Generative AI\"}\n",
    "    * Click on the Send button\n",
    "    * You should get the error message \"Invalid request with missing data\"\n",
    "    * And the status code 400\n",
    "* * Open the Postman Extension\n",
    "    * Click on the button New HTTP Request\n",
    "    * Change the method to POST\n",
    "    * Enter the endpoint `http://localhost:3001/api/multiagent`\n",
    "    * Select Body > raw\n",
    "    * Select JSON in the dropdown\n",
    "    * Enter {\"technologies\": \"Generative AI\", \"businessareas\": \"Customer Service\"}\n",
    "    * Click on the Send button\n",
    "    * You should get {\"status\": \"success\"}\n",
    "    * And the status code 200\n",
    "    * NOTE: If you try this with the code downloaded from Github, you will not have the same result, since the api.py file in the Part 1 code is in a more advanced stage."
   ]
  },
  {
   "cell_type": "markdown",
   "id": "ac4f2fbd-bf55-4f80-9982-75a2acfa6474",
   "metadata": {},
   "source": [
    "## Once we have our basic endpoints running, let's start preparing our crew of agents\n",
    "* First, we will create an input id and a way to store technology and business area data in the POST endpoint:"
   ]
  },
  {
   "cell_type": "code",
   "execution_count": 1,
   "id": "bde17a8c-c578-4088-a2d1-f4a0ba363840",
   "metadata": {},
   "outputs": [],
   "source": [
    "# input_id = str(uuid4())\n",
    "# technologies = data['technologies']\n",
    "# businessareas = data['businessareas']"
   ]
  },
  {
   "cell_type": "markdown",
   "id": "a112682c-cbe4-4a05-ba7c-0ee8cfa3091b",
   "metadata": {},
   "source": [
    "* We will need to add:\n",
    "    * import uuid as uuid4\n",
    "* Then, let's prepare the way to run the crew: "
   ]
  },
  {
   "cell_type": "code",
   "execution_count": null,
   "id": "a9d992d9-1eaa-47e0-b4d9-4620d75512b5",
   "metadata": {},
   "outputs": [],
   "source": [
    "# thread = Thread(target=kickoff_crew, args=(\n",
    "#      input_id, technologies, businessareas))\n",
    "# thread.start()"
   ]
  },
  {
   "cell_type": "markdown",
   "id": "04ee29d9-6d79-4cfe-b191-edbf67c36aba",
   "metadata": {},
   "source": [
    "This previous code involves creating and starting a new thread to perform a task. Here's a breakdown of what each part does in simple terms:\n",
    "\n",
    "1. **Thread Creation**: \n",
    "   - `Thread`: This is a class from Python's threading module that is used to run code in a separate thread of execution. Threads allow a program to run multiple operations concurrently.\n",
    "   - `target=kickoff_crew`: This specifies the function that should be run in the new thread. In this case, `kickoff_crew` is the function that will be executed.\n",
    "   - `args=(input_id, technologies, businessareas)`: These are the arguments that the `kickoff_crew` function needs to perform its task. The arguments are passed as a tuple.\n",
    "\n",
    "2. **Thread Start**:\n",
    "   - `thread.start()`: This method is called to start the thread. Once called, the thread will begin to run the `kickoff_crew` function with the provided arguments.\n",
    "\n",
    "The use of a thread here allows the `kickoff_crew` function to operate independently of the main program flow. This is particularly useful in a web application like one built with Flask, where you might want to perform background tasks (like processing data or handling asynchronous operations) without blocking the main process that handles user requests. Thus, while the main Flask application continues to remain responsive to user inputs, the `kickoff_crew` function can execute concurrently in the background."
   ]
  },
  {
   "cell_type": "markdown",
   "id": "fc1b9a56-4895-473c-9a80-e43ae4f54061",
   "metadata": {},
   "source": [
    "* We will need to add:\n",
    "    * from threading import Thread"
   ]
  },
  {
   "cell_type": "markdown",
   "id": "36db003d-a985-4e42-b546-f22c9c4450df",
   "metadata": {},
   "source": [
    "## Let's now start defining the kickoff_crew function\n",
    "* We will list the TODO's we will need to prepare in order to complete this fuction."
   ]
  },
  {
   "cell_type": "code",
   "execution_count": 2,
   "id": "e31f7864-0fe8-478f-b8ac-6633ec206f7d",
   "metadata": {},
   "outputs": [],
   "source": [
    "# def kickoff_crew(input_id, technologies: list[str], businessareas: list[str]):\n",
    "#     print(f\"Running crew for {input_id} with technologies {technologies} and businessareas {businessareas}\")\n",
    "    \n",
    "#     # TODO: SETUP THE CREW HERE\n",
    "\n",
    "#     # TODO: RUN THE CREW HERE\n",
    "    \n",
    "#     # TODO: LET APP KNOW WE ARE DONE"
   ]
  },
  {
   "cell_type": "markdown",
   "id": "8ad8f024-1803-4c3b-a46a-702f98c84541",
   "metadata": {},
   "source": [
    "## Let's update what we return from the POST endpoint\n",
    "* We will comment out the previous return so you can see it there."
   ]
  },
  {
   "cell_type": "code",
   "execution_count": 3,
   "id": "253a1173-9802-4347-b37c-d509c8252618",
   "metadata": {},
   "outputs": [],
   "source": [
    "# return jsonify({\"input_id\": input_id}), 200"
   ]
  },
  {
   "cell_type": "markdown",
   "id": "2cb25d88-527a-449d-995c-c131b49262c3",
   "metadata": {},
   "source": [
    "Now, we have a web server endpoint that handles a specific task involving technologies and business areas, using a POST method for data submission. Here’s a breakdown of the code:\n",
    "\n",
    "1. **`@app.route('/api/multiagent', methods=['POST'])`**:\n",
    "   - This decorator defines a route for the Flask app. It specifies that the URL `/api/multiagent` will handle HTTP POST requests. POST methods are commonly used when the client needs to send data to the server to be processed.\n",
    "\n",
    "2. **`def run_multiagent():`**:\n",
    "   - This function, `run_multiagent`, is executed whenever the `/api/multiagent` URL is accessed with a POST request.\n",
    "\n",
    "3. **`data = request.json`**:\n",
    "   - This line captures JSON data sent in the POST request and stores it in the variable `data`.\n",
    "\n",
    "4. **Validation Check**:\n",
    "   - `if not data or 'technologies' not in data or 'businessareas' not in data:`: This checks if the data is null, or if key components (`technologies` or `businessareas`) are missing. If any of these conditions are true, it triggers the next line.\n",
    "   - `abort(400, description=\"Invalid request with missing data.\")`: This line sends an HTTP 400 error response back to the client, indicating that the request was malformed due to missing necessary data.\n",
    "\n",
    "5. **Processing the Valid Request**:\n",
    "   - `input_id = str(uuid4())`: Generates a unique identifier (UUID) for the request. This UUID is a random string that helps in uniquely identifying this particular set of data or process.\n",
    "   - `technologies = data['technologies']` and `businessareas = data['businessareas']`: These lines extract the 'technologies' and 'businessareas' values from the request data.\n",
    "\n",
    "6. **Multi-threading**:\n",
    "   - `thread = Thread(target=kickoff_crew, args=(input_id, technologies, businessareas))`: This line creates a new thread. Threading allows the server to handle other tasks while this particular task runs in the background.\n",
    "   - `thread.start()`: Starts the execution of the thread. The function `kickoff_crew` will run in this thread, processing the `input_id`, `technologies`, and `businessareas`.\n",
    "\n",
    "7. **Response to Client**:\n",
    "   - `return jsonify({\"input_id\": input_id}), 200`: After starting the thread, the function immediately returns a JSON response containing the `input_id` and a status code of 200. The status code 200 indicates that the request has been successfully received and started processing. The client receives the `input_id` as confirmation that the data is being processed.\n",
    "\n",
    "Overall, this Flask code handles POST requests by validating the input data, starting a background process for data handling, and immediately returning a response to the client, allowing the server to remain responsive."
   ]
  },
  {
   "cell_type": "markdown",
   "id": "f64fad81-401b-4d83-8a11-6b67fd26ed9e",
   "metadata": {},
   "source": [
    "## Let's test this using Postman\n",
    "* * Open the Postman Extension\n",
    "    * Click on the button New HTTP Request\n",
    "    * Change the method to POST\n",
    "    * Enter the endpoint `http://localhost:3001/api/multiagent`\n",
    "    * Select Body > raw\n",
    "    * Select JSON in the dropdown\n",
    "    * Enter {\"technologies\": \"Generative AI\", \"businessareas\": \"Customer Service\"}\n",
    "    * Click on the Send button\n",
    "    * You should get {\"input_id\": \"...the uuid4 here...\"}\n",
    "    * And the status code 200"
   ]
  },
  {
   "cell_type": "code",
   "execution_count": null,
   "id": "b84c2207-8a42-460f-80b2-20e5bc5fbdd4",
   "metadata": {},
   "outputs": [],
   "source": []
  }
 ],
 "metadata": {
  "kernelspec": {
   "display_name": "Python 3 (ipykernel)",
   "language": "python",
   "name": "python3"
  },
  "language_info": {
   "codemirror_mode": {
    "name": "ipython",
    "version": 3
   },
   "file_extension": ".py",
   "mimetype": "text/x-python",
   "name": "python",
   "nbconvert_exporter": "python",
   "pygments_lexer": "ipython3",
   "version": "3.11.4"
  }
 },
 "nbformat": 4,
 "nbformat_minor": 5
}
