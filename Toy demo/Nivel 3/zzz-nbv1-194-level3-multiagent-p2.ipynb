{
 "cells": [
  {
   "cell_type": "markdown",
   "id": "e79da7b5-0bab-4f22-a41c-b815ebc341da",
   "metadata": {},
   "source": [
    "# Level 3 Multi-Agent App: Part 2\n",
    "* Initial definition of the Crew Class.\n",
    "* Initial definition of the Event Logging functionality."
   ]
  },
  {
   "cell_type": "markdown",
   "id": "cdf83557-9174-46f6-bcf9-aad0625b5570",
   "metadata": {},
   "source": [
    "## IMPORTANT: Installation with the exact packages we used\n",
    "* When you download a full stack app you need to make sure that both backend and frontend use the original packages in order to avoid potential errors caused by installing more modern versions of these packages.\n",
    "* Since we used poetry to install the original backend packages, you will now use \"poetry install\" to install them.\n",
    "* At this time, our project still does not have frontend, so we will not install the frontend yet.\n",
    "#### Download the code\n",
    "* Download the code from the github repository.\n",
    "#### Backend installation\n",
    "* Since we used both pyenv and poetry to build this project, you will have to use the following approach to install the backend.\n",
    "* In the terminal, make sure you are in the root directory of the project (v1-194-level3-multiagent-p2).\n",
    "* **Create a virtual environment and use pip install to make sure you install the exact same packages we used**:\n",
    "    * pyenv virtualenv 3.11.4 your-virtual-environment-name\n",
    "    * pyenv activate your-virtual-environment-name\n",
    "    * pip install -r requirements.txt\n",
    "* **Go to the backend directory, create a virtual environment and use poetry install to make sure you install the exact same packages we used**:\n",
    "    * cd backend\n",
    "    * poetry install --no-root\n",
    "#### Ready to go!\n",
    "* You can now see the code of the app in Visual Studio Code.\n",
    "* Relax and review the following steps. Remember, since you have pre-installed the modules you will not have to re-install them again."
   ]
  },
  {
   "cell_type": "markdown",
   "id": "6ce5e88e-2c4d-48d7-afd3-19ecda2f08f6",
   "metadata": {},
   "source": [
    "## Let's start working on the crews.py file\n",
    "* The goal is to create a crew of agents for every request the user sends us. In other words, each time a user request a task (online research about some technology in some business area), we want to create a separate crew of agents to do that.\n",
    "* Let's start defining a class to instantiate crews. We will call it the TechnologyResearchCrew Class:"
   ]
  },
  {
   "cell_type": "code",
   "execution_count": 1,
   "id": "daee7e1d-8b21-4f09-81a6-27d107447531",
   "metadata": {},
   "outputs": [],
   "source": [
    "# class TechnologyResearchCrew:"
   ]
  },
  {
   "cell_type": "markdown",
   "id": "018d4824-52d9-49f2-95ca-a1b25da6b0ac",
   "metadata": {},
   "source": [
    "* Next, inside the class definition, we are going to include the class initialization, initially just with the input_id, still no crew, and ChatOpenAI as our LLM:"
   ]
  },
  {
   "cell_type": "code",
   "execution_count": null,
   "id": "0fc8bbee-23a8-43bd-9445-8d248da32c29",
   "metadata": {},
   "outputs": [],
   "source": [
    "# class TechnologyResearchCrew:\n",
    "#     def __init__(self, input_id: str):\n",
    "#         self.input_id = input_id\n",
    "#         self.crew = None\n",
    "#         self.llm = ChatOpenAI(model=\"gpt-4-turbo-preview\")"
   ]
  },
  {
   "cell_type": "markdown",
   "id": "cfa31456-5c52-4299-b597-f1d787df0988",
   "metadata": {},
   "source": [
    "* Next, inside the class definition, we will start defining the function for seting up the crew itself with the technologies and the business areas as arguments:"
   ]
  },
  {
   "cell_type": "code",
   "execution_count": 6,
   "id": "a224ec5a-ac7a-489a-858b-e7b405575c23",
   "metadata": {},
   "outputs": [],
   "source": [
    "# class TechnologyResearchCrew:\n",
    "#     def __init__(self, input_id: str):\n",
    "#         self.input_id = input_id\n",
    "#         self.crew = None\n",
    "#         self.llm = ChatOpenAI(model=\"gpt-4-turbo-preview\")\n",
    "\n",
    "#     def setup_crew(self, technologies: list[str], businessareas: list[str]):\n",
    "#         print(f\"\"\"Setting up crew for\n",
    "#         {self.input_id} with technologies {technologies}\n",
    "#         and businessareas {businessareas}\"\"\")\n",
    "\n",
    "#         # TODO: SETUP AGENTS\n",
    "#         # TODO: SETUP TASKS\n",
    "#         # TODO: CREATE CREW"
   ]
  },
  {
   "cell_type": "markdown",
   "id": "14d2c1b8-cdc9-4c72-b109-d009c0e9d686",
   "metadata": {},
   "source": [
    "* Next, inside the class definition, we will start defining the function to kickoff the crew:"
   ]
  },
  {
   "cell_type": "code",
   "execution_count": null,
   "id": "27316cd4-95d5-418f-af0e-611f7e55825d",
   "metadata": {},
   "outputs": [],
   "source": [
    "# class TechnologyResearchCrew:\n",
    "#     def __init__(self, input_id: str):\n",
    "#         self.input_id = input_id\n",
    "#         self.crew = None\n",
    "#         self.llm = ChatOpenAI(model=\"gpt-4-turbo-preview\")\n",
    "\n",
    "#     def setup_crew(self, technologies: list[str], businessareas: list[str]):\n",
    "#         print(f\"\"\"Setting up crew for\n",
    "#         {self.input_id} with technologies {technologies}\n",
    "#         and businessareas {businessareas}\"\"\")\n",
    "\n",
    "#         # TODO: SETUP AGENTS\n",
    "#         # TODO: SETUP TASKS\n",
    "#         # TODO: CREATE CREW\n",
    "\n",
    "#     def kickoff(self):\n",
    "#         if not self.crew:\n",
    "#             print(f\"\"\"Crew not found for \n",
    "#             {self.input_id}\"\"\")\n",
    "#             return\n",
    "#         try:\n",
    "#             print(f\"\"\"Running crew for \n",
    "#             {self.input_id}\"\"\")\n",
    "#             results = self.crew.kickoff()\n",
    "#             return results\n",
    "\n",
    "#         except Exception as e:\n",
    "#             return str(e)"
   ]
  },
  {
   "cell_type": "markdown",
   "id": "70b36637-63a6-4abf-be79-323ce526a7e8",
   "metadata": {},
   "source": [
    "This previous code defines a class called `TechnologyResearchCrew` that manages a team (or \"crew\") for technology research projects. Here’s what each part of the code does in simple terms:\n",
    "\n",
    "1. **Class Definition**:\n",
    "   - `class TechnologyResearchCrew:` starts the definition of a class, which is a blueprint for creating objects. Each object created from this class can have its own characteristics and behaviors.\n",
    "\n",
    "2. **Constructor Method (`__init__`)**:\n",
    "   - `def __init__(self, input_id: str):` is the constructor method of the class. It initializes new objects. When you create a new `TechnologyResearchCrew` object, you need to provide an `input_id` (a string) that identifies the crew.\n",
    "   - `self.input_id = input_id` stores the `input_id` provided when the object is created.\n",
    "   - `self.crew = None` initializes an attribute `crew` to `None`, intended to be set up later with actual crew details.\n",
    "   - `self.llm = ChatOpenAI(model=\"gpt-4-turbo-preview\")` creates an instance of a language model from OpenAI called `ChatOpenAI`, using the model \"gpt-4-turbo-preview\".\n",
    "\n",
    "3. **Setup Method (`setup_crew`)**:\n",
    "   - `def setup_crew(self, technologies: list[str], businessareas: list[str]):` defines a method that takes two lists as arguments: `technologies` and `businessareas`. These lists contain strings detailing different technologies and business areas relevant to the crew’s research.\n",
    "   - Inside this method, a message is printed that includes the `input_id`, the technologies, and the business areas. This indicates that the crew is being set up with these specifics.\n",
    "   - There are comments (`# TODO:`) suggesting that future steps should include setting up agents, tasks, and creating the crew. These parts of the method are not yet implemented.\n",
    "\n",
    "4. **Kickoff Method (`kickoff`)**:\n",
    "   - `def kickoff(self):` defines a method that starts or \"kicks off\" the crew's activities.\n",
    "   - `if not self.crew:` checks if `self.crew` is `None`. If it is, it prints a message saying no crew is found and returns nothing, stopping further execution of the method.\n",
    "   - If `self.crew` is not `None`, it prints a message indicating that the crew is running.\n",
    "   - `results = self.crew.kickoff()` attempts to call the `kickoff` method on `self.crew` and stores the results.\n",
    "   - The `try...except` block is used to handle any exceptions that might occur during the execution of the crew's kickoff. If an exception occurs, it catches the exception and returns its message as a string."
   ]
  },
  {
   "cell_type": "markdown",
   "id": "d69985e6-aaae-4ea6-86aa-744636af1508",
   "metadata": {},
   "source": [
    "## Let's now start working with the log_manager.py file\n",
    "* Here is where we are going to include the functionality to be able to display the log of events as they occur.\n",
    "* First, we will define the classes for the information we want to store and display in the log.\n",
    "* We will use the @dataclass decorator to create models."
   ]
  },
  {
   "cell_type": "code",
   "execution_count": null,
   "id": "99a236cd-5708-482f-be18-54d775140eae",
   "metadata": {},
   "outputs": [],
   "source": [
    "# from dataclasses import dataclass\n",
    "# from datetime import datetime\n",
    "# from typing import List, Dict\n",
    "\n",
    "# @dataclass\n",
    "# class Event:\n",
    "#     timestamp: datetime\n",
    "#     data: str\n",
    "\n",
    "\n",
    "# @dataclass\n",
    "# class Output:\n",
    "#     status: str\n",
    "#     events: List[Event]\n",
    "#     result: str"
   ]
  },
  {
   "cell_type": "markdown",
   "id": "60d0bf79-06fb-4ca8-8b71-23ce5a8557e3",
   "metadata": {},
   "source": [
    "This previous code defines two data structures using the `dataclass` decorator from the `dataclasses` module, which simplifies the creation of classes primarily used for storing data. Here’s a breakdown of each part:\n",
    "\n",
    "1. **Imports**:\n",
    "   - `from dataclasses import dataclass` imports the `dataclass` decorator, which automatically adds special methods like `__init__` (constructor), `__repr__` (representation), and others to the classes it decorates.\n",
    "   - `from datetime import datetime` imports the `datetime` class from the `datetime` module, which is used to handle dates and times in Python.\n",
    "   - `from typing import List, Dict` imports type hints (`List` and `Dict`), which are used to specify the types of elements in lists and dictionaries, respectively. This helps with code readability and error checking during development.\n",
    "\n",
    "2. **Event Class**:\n",
    "   - `@dataclass` is a decorator that tells Python this class is a data class, meaning it will be used primarily to store data and doesn't need complex methods.\n",
    "   - `class Event:` defines a class named `Event`.\n",
    "   - `timestamp: datetime` declares a class attribute `timestamp`, which is expected to be an instance of `datetime`. This will store the point in time when the event occurred.\n",
    "   - `data: str` declares another attribute `data`, which is expected to be a string.\n",
    "\n",
    "3. **Output Class**:\n",
    "   - `@dataclass` again, applied to the `Output` class.\n",
    "   - `class Output:` defines a class named `Output`.\n",
    "   - `status: str` declares an attribute `status`, which is a string.\n",
    "   - `events: List[Event]` declares an attribute `events`, which is a list where each element is an instance of the `Event` class. This can be used to store multiple events associated with the process or operation being described by this `Output` object.\n",
    "   - `result: str` declares another attribute `result`, a string.\n",
    "\n",
    "By using `dataclasses`, the code is made cleaner and more manageable, automatically providing commonly used methods and ensuring that the classes are straightforward to instantiate and use primarily for holding data."
   ]
  },
  {
   "cell_type": "markdown",
   "id": "afecd116-dfaa-42ab-8558-3e900469b090",
   "metadata": {},
   "source": [
    "* Now, let's start defining the function to add events and tasks (we will call them all \"events\") to the log.\n",
    "* To avoid possible errors in the storing process, we want to add one new event at a time to the \"database\". For that, we will lock our data and use the append_event function to add one event at a time.\n",
    "* **For the sake of simplicity, in this demo we will use a Dictionary instead of a database. We will call the dictionary \"outputs\"**."
   ]
  },
  {
   "cell_type": "code",
   "execution_count": 5,
   "id": "31f6c1e7-00e1-4f16-8c40-d94f7f1dfcb4",
   "metadata": {},
   "outputs": [],
   "source": [
    "# from threading import Lock\n",
    "\n",
    "# outputs_lock = Lock()\n",
    "# outputs: Dict[str, \"Output\"] = {}\n",
    "\n",
    "# def append_event(input_id: str, event_data: str):\n",
    "#     with outputs_lock:\n",
    "#         if input_id not in outputs:\n",
    "#             print(f\"Start output {input_id}\")\n",
    "#             outputs[input_id] = Output(\n",
    "#                 status='STARTED',\n",
    "#                 events=[],\n",
    "#                 result='')\n",
    "#         else:\n",
    "#             print(\"Appending event for output\")\n",
    "            \n",
    "#         outputs[input_id].events.append(\n",
    "#             Event(timestamp=datetime.now(), data=event_data))"
   ]
  },
  {
   "cell_type": "markdown",
   "id": "a8e20c6c-1b15-49f6-a473-2d8c82db28ca",
   "metadata": {},
   "source": [
    "Here's a breakdown of the previous code in simple terms:\n",
    "\n",
    "1. **Import Statements**:\n",
    "    - `from threading import Lock`: Imports `Lock` to ensure that multiple threads don't access the same resource at the same time, preventing data corruption.\n",
    "\n",
    "2. **Global Variables**:\n",
    "    - `outputs_lock`: A lock object to control the access to the `outputs` dictionary in a thread-safe manner.\n",
    "    - `outputs`: A dictionary that maps output identifiers (as strings) to `Output` objects.\n",
    "\n",
    "3. **Function - append_event**:\n",
    "    - `append_event(input_id: str, event_data: str)`: This function is used to add an event to a job. It takes two parameters:\n",
    "        - `input_id`: Identifier of the output (**sorry for the confusing name: input_id is the unique identifier of each search, so we use it to keep track of each output in the process**).\n",
    "        - `event_data`: Data related to the event to be appended to the output.\n",
    "    - Inside the function:\n",
    "        - `with outputs_lock`: This block ensures that the code inside it will only be executed by one thread at a time. This is crucial for avoiding race conditions where multiple threads might modify the `outputs` dictionary simultaneously.\n",
    "        - The function first checks if the `input_id` exists in the `outputs` dictionary:\n",
    "            - If not present, it prints a start message and creates a new `Output` object with the status 'STARTED', an empty list of events, and an empty result. This output is then added to the `outputs` dictionary.\n",
    "            - If present, it simply prints that an event is being appended.\n",
    "        - An `Event` object is created with the current datetime and provided `event_data`, and this event is appended to the list of events for the specified output."
   ]
  },
  {
   "cell_type": "code",
   "execution_count": null,
   "id": "ae75d07b-b56b-4f79-bc9f-cc5fa44a3d0e",
   "metadata": {},
   "outputs": [],
   "source": []
  }
 ],
 "metadata": {
  "kernelspec": {
   "display_name": "Python 3 (ipykernel)",
   "language": "python",
   "name": "python3"
  },
  "language_info": {
   "codemirror_mode": {
    "name": "ipython",
    "version": 3
   },
   "file_extension": ".py",
   "mimetype": "text/x-python",
   "name": "python",
   "nbconvert_exporter": "python",
   "pygments_lexer": "ipython3",
   "version": "3.11.4"
  }
 },
 "nbformat": 4,
 "nbformat_minor": 5
}
