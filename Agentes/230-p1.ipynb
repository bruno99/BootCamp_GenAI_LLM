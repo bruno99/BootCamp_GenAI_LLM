{
 "cells": [
  {
   "cell_type": "markdown",
   "id": "ef9d5ffe-4e80-45de-b72d-5f39f54effc0",
   "metadata": {},
   "source": [
    "# CrewAI In Depth"
   ]
  },
  {
   "cell_type": "markdown",
   "id": "1ea1effc-970e-493a-b8bf-d9627034ac67",
   "metadata": {},
   "source": [
    "## Traditional App Development vs. LLM and Multi-Agent App Development"
   ]
  },
  {
   "cell_type": "markdown",
   "id": "fe968552-c9ff-4b06-9489-72b77b9fe335",
   "metadata": {},
   "source": [
    "#### Traditional App Development (Example: any traditional software application)\n",
    "* Clearly defined input formats: string, integer, etc.\n",
    "* Clearly defined transformations to apply to the inputs: math calculation, loops, etc.\n",
    "* Clearly defined output formats: string, integer, etc.\n",
    "* If you run the program again, for the same input you will have always the same output."
   ]
  },
  {
   "cell_type": "markdown",
   "id": "00f91bd3-f96e-4ab3-acbf-9d3fcf071a26",
   "metadata": {},
   "source": [
    "#### LLM and Multi-Agent App Development (Example: ChatGPT)\n",
    "* Fuzzy inputs: open-ended text, it can be different types of text (string, markdown, tabular data, math operation, etc). You don't know what the user is going to enter as input.\n",
    "* Fuzzy transformations: You don't know if the LLM will transform the input into a list, write a paragraph, answer a question, brainstorm new ideas, perform logic reasoning, math reasoning, etc.\n",
    "* Fuzzy output: open-ended text, it can be different types of text (paragraph, numbers, json, markdown, etc).\n",
    "* If you run the program again, for the same input you will NOT have always the same output."
   ]
  },
  {
   "cell_type": "markdown",
   "id": "3c950ae6-4386-4dc6-a62f-fa144d69e390",
   "metadata": {},
   "source": [
    "## Key elements of Multi-Agent Apps"
   ]
  },
  {
   "cell_type": "markdown",
   "id": "58fb9c34-ec02-49b3-9840-11dbfbddcb8a",
   "metadata": {},
   "source": [
    "#### Role Playing\n",
    "* A good role definition can make a huge difference on the responses you are going to get from agents."
   ]
  },
  {
   "cell_type": "markdown",
   "id": "454202c7-deca-44ab-8aba-78c6519a21f2",
   "metadata": {},
   "source": [
    "#### Focus\n",
    "* Multiple specialized agents have better results than one know-it-all agent."
   ]
  },
  {
   "cell_type": "markdown",
   "id": "5f515b33-502f-427d-aa49-396ea77180c1",
   "metadata": {},
   "source": [
    "#### Tools\n",
    "* Do not overload your agents with too many tools.\n",
    "* Choose the tools carefully."
   ]
  },
  {
   "cell_type": "markdown",
   "id": "57823c61-c465-40d7-b109-d290fa373c11",
   "metadata": {},
   "source": [
    "#### Cooperation\n",
    "* Take feedback.\n",
    "* Delegate tasks."
   ]
  },
  {
   "cell_type": "markdown",
   "id": "7e86371d-4a11-4387-aa6d-b69c1b4dff57",
   "metadata": {},
   "source": [
    "#### Guardrails\n",
    "* To avoid:\n",
    "    * Hallucinations.\n",
    "    * Infinite loops.\n",
    "    * Etc.\n",
    "* To enforce:\n",
    "    * Steps.\n",
    "    * Output format.\n",
    "    * Etc."
   ]
  },
  {
   "cell_type": "markdown",
   "id": "57c999da-86f3-4fea-9462-34578e34cfea",
   "metadata": {},
   "source": [
    "#### Memory\n",
    "* Memory is the factor that can make a bigger impact in the performance of your agents.\n",
    "* Memory = ability for the agent to remember what it has done previously and to use that to inform new decisions and new executions.\n",
    "* In CrewAI you have 3 types of memory for free, out of the box:\n",
    "    *  Short-term memory:\n",
    "        *  Lives only during the Crew execution and\n",
    "        *  It is shared accross all Agents of the Crew.\n",
    "    *  Long-term memory:\n",
    "        *  Lives even after the Crew finishes.\n",
    "        *  Stored in a database locally.\n",
    "        *  Allows the Agents to learn from previous executions.\n",
    "        *  Leads to \"self-improving\" agents.\n",
    "    *  Entity memory.\n",
    "        *  Lives only during the Crew execution.\n",
    "        *  Stores the subjects that are being discussed: people names, company names, locations, etc."
   ]
  },
  {
   "cell_type": "markdown",
   "id": "6860a4b6-700c-40f4-8961-f31a52084235",
   "metadata": {},
   "source": [
    "## How do multi-agents collaborate? \"Processes\" define how agents collaborate.\n",
    "* Sequentially: one task after the other.\n",
    "* Hierarchical: one manager and one team.\n",
    "    * The manager always remember the initial goal.\n",
    "    * The manager delegates.\n",
    "    * The manager reviews and can ask for further improvements. \n",
    "* In parallel.\n",
    "    * Asyncronously. "
   ]
  },
  {
   "cell_type": "markdown",
   "id": "b56fcce2-0a48-4309-b400-e2ea1c3232f1",
   "metadata": {},
   "source": [
    "## How can it be delegation among Agents?\n",
    "* Delegation: agents ask questions to each other.\n",
    "    * This can happen in any kind of process: sequential, hierarchical and in parallel."
   ]
  },
  {
   "cell_type": "markdown",
   "id": "ec132bf7-6057-4e19-b8ab-6d9178801a3d",
   "metadata": {},
   "source": [
    "## Exception Handling in CrewAI\n",
    "* By default, CrewAI does not stop the app when it finds an error. Instead, the Crew tries to use an alternative way."
   ]
  },
  {
   "cell_type": "markdown",
   "id": "4da0155b-0eb1-436d-921f-08c4a5e62243",
   "metadata": {},
   "source": [
    "## Multi-Agent App Setup with CrewAI"
   ]
  },
  {
   "cell_type": "markdown",
   "id": "0a8e9639-4d20-4276-aa3a-e4be4635ec13",
   "metadata": {},
   "source": [
    "#### Recommended: create new virtualenv\n",
    "* pyenv virtualenv 3.11.4 your_venv_name\n",
    "* pyenv activate your_venv_name\n",
    "* pip install jupyterlab\n",
    "* jupyter lab"
   ]
  },
  {
   "cell_type": "markdown",
   "id": "7214ae5d-f4a2-4b3e-ac74-89694bd99a77",
   "metadata": {},
   "source": [
    "* Install:\n",
    "    * crewai\n",
    "    * crewai_tools\n",
    "    * langchain_community "
   ]
  },
  {
   "cell_type": "code",
   "execution_count": 1,
   "id": "6df6ccfb-620b-4a15-bbd7-139d10bc9d26",
   "metadata": {},
   "outputs": [],
   "source": [
    "#!pip install crewai==0.28.8 crewai_tools==0.1.6 langchain_community==0.0.29"
   ]
  },
  {
   "cell_type": "markdown",
   "id": "518d916d-7240-44c0-b6cd-3500dccd310c",
   "metadata": {},
   "source": [
    "* Import warnings package to ignore warnings:"
   ]
  },
  {
   "cell_type": "code",
   "execution_count": 3,
   "id": "24a10186-6267-45d2-b699-2b4ccd77b282",
   "metadata": {},
   "outputs": [],
   "source": [
    "import warnings\n",
    "warnings.filterwarnings('ignore')"
   ]
  },
  {
   "cell_type": "markdown",
   "id": "4aeee23b-b3cf-42e6-8ed1-f44b381b7407",
   "metadata": {},
   "source": [
    "## .env file"
   ]
  },
  {
   "cell_type": "markdown",
   "id": "ad431751-81fc-4366-b0cd-fa3383883b4a",
   "metadata": {},
   "source": [
    "#### .env File\n",
    "Remember to include:\n",
    "OPENAI_API_KEY=your_openai_api_key\n",
    "\n",
    "LANGCHAIN_TRACING_V2=true\n",
    "LANGCHAIN_ENDPOINT=https://api.smith.langchain.com\n",
    "LANGCHAIN_API_KEY=your_langchain_api_key\n",
    "LANGCHAIN_PROJECT=your_project_name"
   ]
  },
  {
   "cell_type": "markdown",
   "id": "6bf26db9-8078-4f72-bef7-8678fd0c5d13",
   "metadata": {},
   "source": [
    "## Basic CrewAI imports: Agent, Task and Crew modules"
   ]
  },
  {
   "cell_type": "code",
   "execution_count": 6,
   "id": "2c693f1a-28eb-4cb9-bb5c-6decde0679ea",
   "metadata": {},
   "outputs": [],
   "source": [
    "from crewai import Agent, Task, Crew"
   ]
  },
  {
   "cell_type": "markdown",
   "id": "a551089b-2f76-4959-8f87-73ef4d727471",
   "metadata": {},
   "source": [
    "## LLM Selection"
   ]
  },
  {
   "cell_type": "markdown",
   "id": "aebd210c-7732-4b0c-8578-2204254b7666",
   "metadata": {},
   "source": [
    "* The best LLM to use with CrewAI is ChatGPT-4.\n",
    "* Remember, ChatGPT-4 is the most expensive model of OpenAI.\n",
    "* For this demo we are going to choose a different LLM, the more convenient ChatGPT-3.5 version.\n",
    "* We need to make sure to get our OpenAI API Key from the .env file:"
   ]
  },
  {
   "cell_type": "code",
   "execution_count": 7,
   "id": "c947c947-1dbc-409a-957c-39ff35054a9e",
   "metadata": {},
   "outputs": [],
   "source": [
    "import os\n",
    "from dotenv import load_dotenv, find_dotenv\n",
    "_ = load_dotenv(find_dotenv())\n",
    "openai_api_key = os.environ[\"OPENAI_API_KEY\"]"
   ]
  },
  {
   "cell_type": "code",
   "execution_count": 8,
   "id": "1d65f3a3-2ec0-4966-9927-5b193989a713",
   "metadata": {},
   "outputs": [],
   "source": [
    "os.environ[\"OPENAI_MODEL_NAME\"] = 'gpt-3.5-turbo'"
   ]
  },
  {
   "cell_type": "markdown",
   "id": "595164c1-13a9-482d-a44b-3c0a461f2693",
   "metadata": {},
   "source": [
    "* To try it with ChatGPT-4, comment out the previous cell and uncomment the following one:"
   ]
  },
  {
   "cell_type": "code",
   "execution_count": 9,
   "id": "25f0c50e-700c-4831-bbaa-adbeb78165c0",
   "metadata": {},
   "outputs": [],
   "source": [
    "# os.environ[\"OPENAI_MODEL_NAME\"] = 'gpt-4-turbo'"
   ]
  },
  {
   "cell_type": "markdown",
   "id": "7fcf8369-8d5b-4b69-94a6-7e0f41070588",
   "metadata": {},
   "source": [
    "## Multi-Agent App Creation process with CrewAI\n",
    "* App planning.\n",
    "* Import pre-built tools and create custom tools.\n",
    "* Create the Agents.\n",
    "* Create the Tasks.\n",
    "* Create the Crew.\n",
    "* Run the Crew with the input.\n",
    "* Optional: display output in the notebook."
   ]
  },
  {
   "cell_type": "markdown",
   "id": "7ccb984e-cf9b-4d19-a550-69d12f57db9c",
   "metadata": {},
   "source": [
    "## App Planning\n",
    "#### Mental Framework for Agent Creation\n",
    "* Think like a manager.\n",
    "    * What is the goal?\n",
    "    * What is necessary process to follow in order to reach the goal?\n",
    "    * What kind of people I would hire to get this done?\n",
    "        * roles.\n",
    "        * goals.\n",
    "        * backstories.\n",
    "* Be as specific as possible when you define Agents and Tasks.\n",
    "\n",
    "#### Define goal. Examples:\n",
    "* Research and write an article about a topic.\n",
    "* Provide customer support about a product.\n",
    "* Create a customer outreach campaign.\n",
    "* Plan an event.\n",
    "* Financial Analysis.\n",
    "* Tailor job applications.\n",
    "#### Define use case. Example:\n",
    "* Analyze a job offer.\n",
    "* Analyze a candidate resume.\n",
    "* Customize the resume for the offer.\n",
    "* Prepare talking points for job interview.\n",
    "#### Define input. Example:\n",
    "* Python dictionary:\n",
    "    * Resume of the candidate\n",
    "    * URL of the job offer\n",
    "    * GitHub profile of the candidate\n",
    "    * Intro of the candidate\n",
    "* **Important: you will interpolate input items in Agent and Task definitions**\n",
    "#### Define output. Example:\n",
    "* Customized resume.\n",
    "* Talking points for job interview."
   ]
  },
  {
   "cell_type": "markdown",
   "id": "810bc095-68ee-4cff-aea4-1aea9cc04ac5",
   "metadata": {},
   "source": [
    "## Import tools"
   ]
  },
  {
   "cell_type": "markdown",
   "id": "e2a869f2-6866-4f56-b29e-3513da844f46",
   "metadata": {},
   "source": [
    "#### What makes a great tool?\n",
    "* Versatile.\n",
    "    * Able to accept fuzzy inputs and outputs. \n",
    "* Fault-tolerant.\n",
    "    * Do not stop execution. Fail gracefully, send the error message back to the agent, and try again. \n",
    "* Implement Smart Caching.\n",
    "    * Having a caching layer that prevents innecessary requests is crucial.\n",
    "    * **CrewAI offers Cross-Agent Caching**: if one Agent tries to use a tool with a given set of arguments, and another agent tries to use the same tool with the same set of arguments -even if they are different Agents- they are going to use a caching layer so the second time they use the tool they are not going to make the API call. That:\n",
    "        * Prevents unnecessary requests.\n",
    "        * Prevents hitting rate limits (number of requests per second allowed for an API call).\n",
    "        * Saves execution time. Retrieving cached results is much faster than an API call."
   ]
  },
  {
   "cell_type": "markdown",
   "id": "4e15908e-2bc9-4abe-9383-23b7ba988f4b",
   "metadata": {},
   "source": [
    "#### Import Pre-Built Tools\n",
    "* CrewAI pre-built tools.\n",
    "* LangChain pre-built tools."
   ]
  },
  {
   "cell_type": "markdown",
   "id": "b91092a5-165d-42ef-8541-a1d560f95956",
   "metadata": {},
   "source": [
    "#### Examples of Pre-Built Tools\n",
    "* SerperDevTool: google search (requires API Key)\n",
    "* ScrapeWebsiteTool: scrape content from URL.\n",
    "* WebsiteSearchTool: RAG over a website."
   ]
  },
  {
   "cell_type": "code",
   "execution_count": 12,
   "id": "0a2d569d-8465-4361-87f6-917190f9ea5b",
   "metadata": {},
   "outputs": [],
   "source": [
    "from crewai_tools import SerperDevTool, \\\n",
    "                         ScrapeWebsiteTool, \\\n",
    "                         WebsiteSearchTool"
   ]
  },
  {
   "cell_type": "markdown",
   "id": "dbe07489-e7c9-4dab-a47e-13d0dec2aa09",
   "metadata": {},
   "source": [
    "* We can configure the tool so it will only be used to scrape content from this specific URL:"
   ]
  },
  {
   "cell_type": "code",
   "execution_count": 24,
   "id": "a1ffc84b-a9eb-4302-9a0a-0bf8fd37b728",
   "metadata": {},
   "outputs": [],
   "source": [
    "# docs_scrape_tool = ScrapeWebsiteTool(\n",
    "#     website_url=\"https://aiaccelera.com/ai-consulting-for-businesses/\"\n",
    "# )"
   ]
  },
  {
   "cell_type": "code",
   "execution_count": 39,
   "id": "00b4efb7-b81d-4038-8866-05869d18b7f7",
   "metadata": {},
   "outputs": [],
   "source": [
    "from crewai_tools import DirectoryReadTool, \\\n",
    "                         FileReadTool"
   ]
  },
  {
   "cell_type": "code",
   "execution_count": 25,
   "id": "8a477182-e5ae-42f9-91e5-328d0d9426ad",
   "metadata": {},
   "outputs": [],
   "source": [
    "# directory_read_tool = DirectoryReadTool(directory='./my_directory')\n",
    "# file_read_tool = FileReadTool()\n",
    "# search_tool = SerperDevTool()"
   ]
  },
  {
   "cell_type": "markdown",
   "id": "34ece583-b770-4895-93a4-988c89a886c2",
   "metadata": {},
   "source": [
    "* MDXSearchTool: RAG over a file."
   ]
  },
  {
   "cell_type": "code",
   "execution_count": 27,
   "id": "adff407c-87c7-482f-9fd3-de5fe64ee9c4",
   "metadata": {},
   "outputs": [],
   "source": [
    "# from crewai_tools import MDXSearchTool\n",
    "\n",
    "# semantic_search_document = MDXSearchTool(mdx='./my_document.md')"
   ]
  },
  {
   "cell_type": "markdown",
   "id": "626985ad-fd88-4657-8429-b209eb2312be",
   "metadata": {},
   "source": [
    "#### Create Custom Tools"
   ]
  },
  {
   "cell_type": "markdown",
   "id": "4f07df82-8faa-43b2-be54-363d80def3fb",
   "metadata": {},
   "source": [
    "- Every Tool needs to have a `name` and a `description`.\n",
    "- You can customize the code with your logic in the `_run` function."
   ]
  },
  {
   "cell_type": "code",
   "execution_count": 15,
   "id": "7d69869d-e92a-431c-afd5-64a2d89ff675",
   "metadata": {},
   "outputs": [],
   "source": [
    "from crewai_tools import BaseTool\n",
    "\n",
    "class EmotionAnalysisTool(BaseTool):\n",
    "    name: str = \"Emotion Analysis Tool\"\n",
    "    description: str = (\"Examines the emotional tone of written content \"\n",
    "         \"to promote positive and captivating interactions.\")\n",
    "    \n",
    "    def _run(self, text: str) -> str:\n",
    "        return \"positive\"\n"
   ]
  },
  {
   "cell_type": "code",
   "execution_count": 28,
   "id": "2d08521c-660c-4d0a-b5f1-7e5c0ab231c0",
   "metadata": {},
   "outputs": [],
   "source": [
    "# emotion_analysis_tool = EmotionAnalysisTool()"
   ]
  },
  {
   "cell_type": "markdown",
   "id": "9d8445ae-fce3-4835-842a-6c160edda6f4",
   "metadata": {},
   "source": [
    "#### How to assign tools\n",
    "* We can assign tools at:\n",
    "    * Agent Level: the Agent can use the tool in any task.\n",
    "    * or at Task Level: the Agent can only use the tool when performing this particular task. Task tools override Agent tools."
   ]
  },
  {
   "cell_type": "markdown",
   "id": "b3dfb2cd-a273-4363-b81c-a993f8520f3f",
   "metadata": {},
   "source": [
    "## Create Agents"
   ]
  },
  {
   "cell_type": "markdown",
   "id": "73b31f14-52fc-4082-8c4f-9a6c57837f62",
   "metadata": {},
   "source": [
    "Creating an Agent in CrewAI is very simple using the Agent module. In order to define the agent, we need to specify:\n",
    "* Role: role name.\n",
    "* Goal.\n",
    "* Backstory: role definition."
   ]
  },
  {
   "cell_type": "code",
   "execution_count": 35,
   "id": "ee0cda74-78fc-42f7-9af8-8f4ff7893bf8",
   "metadata": {},
   "outputs": [],
   "source": [
    "# content_coordinator = Agent(\n",
    "#     role=\"Content Coordinator\",\n",
    "#     goal=\"Develop captivating and precise content about {topic}\",\n",
    "#     backstory=\"You are engaged in preparing a blog post \"\n",
    "#               \"concerning the subject: {topic}. \"\n",
    "#               \"You gather data that assists the \"\n",
    "#               \"audience in acquiring knowledge \"\n",
    "#               \"and making educated choices. \"\n",
    "#               \"Your efforts lay the groundwork for \"\n",
    "#               \"the Content Writer to create a detailed piece on this topic.\",\n",
    "#     allow_delegation=False,\n",
    "#     verbose=True\n",
    "# )\n"
   ]
  },
  {
   "cell_type": "markdown",
   "id": "e6bf2a30-845d-4117-9b5f-0070d4581eb3",
   "metadata": {},
   "source": [
    "* Note: using multiple strings instead of the triple quote docsctring `\"\"\"` we avoid whitespaces and newline characters and that way our backstory is better formatted to pass it to the LLM.\n",
    "* As you can see, we are interpolating the variable `{topic}`. This variable would come from the input.\n",
    "* `allow_delegation=False`: this agent is not allowed to delegate tasks to other agent.\n",
    "* Note: by default, `allow_delegation` is set to True.\n",
    "* `verbose=True`: display log of events and thoughts of the agent."
   ]
  },
  {
   "cell_type": "markdown",
   "id": "2e8cb95e-3433-4ca7-b35f-a36f9e1cc81c",
   "metadata": {},
   "source": [
    "* Agents can use tools:"
   ]
  },
  {
   "cell_type": "code",
   "execution_count": null,
   "id": "3ecf9e83-b985-4918-bad1-e7f70cd3ed1c",
   "metadata": {},
   "outputs": [],
   "source": [
    "# location_manager = Agent(\n",
    "#     role=\"Location Manager\",\n",
    "#     goal=\"Locate and reserve a suitable venue \"\n",
    "#     \"in accordance with the specifics of the event\",\n",
    "#     tools=[search_tool, scrape_tool],\n",
    "#     verbose=True,\n",
    "#     backstory=(\n",
    "#         \"With a sharp eye for space and \"\n",
    "#         \"a grasp of event coordination, \"\n",
    "#         \"you specialize in identifying and booking \"\n",
    "#         \"the ideal location that aligns with the event's motif, \"\n",
    "#         \"capacity, and financial limits.\"\n",
    "#     )\n",
    "# )"
   ]
  },
  {
   "cell_type": "markdown",
   "id": "7106ba23-c4c0-46d2-9ca5-23d70772d656",
   "metadata": {},
   "source": [
    "## Create Tasks"
   ]
  },
  {
   "cell_type": "markdown",
   "id": "89d00fe0-c3fb-4524-8190-f5cabd1f638e",
   "metadata": {},
   "source": [
    "#### Key elements of well defined tasks\n",
    "* Clear description of the task.\n",
    "* Clear and concise expectation."
   ]
  },
  {
   "cell_type": "markdown",
   "id": "0080463b-5da4-4828-bdd1-e44233faaba8",
   "metadata": {},
   "source": [
    "Creating a Task in CrewAI is very simple using the Task module. In order to define the task, we need to specify:\n",
    "* Task Description.\n",
    "* Expected Output.\n",
    "* Agent that will perform the task."
   ]
  },
  {
   "cell_type": "code",
   "execution_count": 34,
   "id": "4e0da416-8556-4f82-8e84-614ac40baa6f",
   "metadata": {},
   "outputs": [],
   "source": [
    "# content_planning_task = Task(\n",
    "#     description=(\n",
    "#         \"1. Focus on the most current trends, influential figures, \"\n",
    "#             \"and significant updates on {topic}.\\n\"\n",
    "#         \"2. Define the intended audience, taking into account \"\n",
    "#             \"their interests and concerns.\\n\"\n",
    "#         \"3. Create a thorough content framework that includes \"\n",
    "#             \"an opening, main points, and a call to engage.\\n\"\n",
    "#         \"4. Incorporate relevant SEO terms and necessary data or references.\"\n",
    "#     ),\n",
    "#     expected_output=\"An extensive content strategy document \"\n",
    "#         \"with a framework, analysis of the audience, \"\n",
    "#         \"SEO terms, and references.\",\n",
    "#     agent=planner,\n",
    "# )"
   ]
  },
  {
   "cell_type": "markdown",
   "id": "2768f155-23fb-4371-8570-5af0e1fbcc36",
   "metadata": {},
   "source": [
    "* Tasks can include tools:"
   ]
  },
  {
   "cell_type": "code",
   "execution_count": 32,
   "id": "644049c9-ea52-4fb5-ae55-5855d5ae974d",
   "metadata": {},
   "outputs": [],
   "source": [
    "# customized_outreach_task = Task(\n",
    "#     description=(\n",
    "#         \"Leverage the insights from \"\n",
    "#         \"the lead profiling analysis on {lead_name}, \"\n",
    "#         \"to devise a targeted outreach initiative \"\n",
    "#         \"directed at {key_decision_maker}, \"\n",
    "#         \"the {position} at {lead_name}. \"\n",
    "#         \"This initiative should highlight their latest {milestone} \"\n",
    "#         \"and how our solutions can aid their objectives. \"\n",
    "#         \"Your messaging should align \"\n",
    "#         \"with {lead_name}'s organizational culture and ethics, \"\n",
    "#         \"showing a profound grasp of \"\n",
    "#         \"their industry and requirements.\\n\"\n",
    "#         \"Avoid presumptions and strictly \"\n",
    "#         \"rely on verified information.\"\n",
    "#     ),\n",
    "#     expected_output=(\n",
    "#         \"A sequence of customized email templates \"\n",
    "#         \"designed for {lead_name}, \"\n",
    "#         \"specifically aimed at {key_decision_maker}. \"\n",
    "#         \"Each template should weave \"\n",
    "#         \"an engaging story that ties our solutions \"\n",
    "#         \"to their recent successes and aspirations. \"\n",
    "#         \"Ensure the tone is captivating, formal, \"\n",
    "#         \"and consistent with {lead_name}'s business ethos.\"\n",
    "#     ),\n",
    "#     tools=[emotion_analysis_tool, search_tool],\n",
    "#     agent=lead_sales_rep,\n",
    "# )"
   ]
  },
  {
   "cell_type": "markdown",
   "id": "44195084-88bc-494d-a452-e33d85d67a43",
   "metadata": {},
   "source": [
    "#### Hyperparameters you can use with CrewAI when you define a Task\n",
    "* Set a context.\n",
    "* Set a callback.\n",
    "* Override Agent tools with Task tools.\n",
    "* Force human input before end of task.\n",
    "* Execute asynchronously.\n",
    "* Output as Pydantic Object.\n",
    "* Output as JSON Object.\n",
    "* Output as a file.\n",
    "* Run in parallel."
   ]
  },
  {
   "cell_type": "markdown",
   "id": "5e347c4d-e912-46eb-8327-39a32aeb9624",
   "metadata": {},
   "source": [
    "#### Creating Location Pydantic Object\n",
    "\n",
    "- Create a class `LocationDetails` using [Pydantic BaseModel](https://docs.pydantic.dev/latest/api/base_model/).\n",
    "- Agents will populate this object with information about different locations by creating different instances of it."
   ]
  },
  {
   "cell_type": "code",
   "execution_count": 40,
   "id": "83bc733a-decf-422e-8fa5-5b7b505077f4",
   "metadata": {},
   "outputs": [],
   "source": [
    "from pydantic import BaseModel\n",
    "# Define a Pydantic model for location details \n",
    "# (demonstrating Output as Pydantic)\n",
    "class LocationDetails(BaseModel):\n",
    "    name: str\n",
    "    address: str\n",
    "    capacity: int\n",
    "    booking_status: str"
   ]
  },
  {
   "cell_type": "markdown",
   "id": "e5fd3f95-1f04-45dd-bf60-25674e424a1c",
   "metadata": {},
   "source": [
    "- By using `output_json`, you can specify the structure of the output you want. In this case, the Pydantic model.\n",
    "- By using `output_file`, you can get your output in a file.\n",
    "- By setting `human_input=True`, the task will ask for human feedback (whether you like the results or not) before finalising it."
   ]
  },
  {
   "cell_type": "code",
   "execution_count": 31,
   "id": "8b1b847f-e410-4d94-ba39-27f81f420cd6",
   "metadata": {},
   "outputs": [],
   "source": [
    "# location_task = Task(\n",
    "#     description=\"Locate a facility in {event_city} \"\n",
    "#                 \"that fulfills the requirements for {event_topic}.\",\n",
    "#     expected_output=\"Complete information about a selected \"\n",
    "#                     \"facility you identified to host the event.\",\n",
    "#     human_input=True,\n",
    "#     output_json=LocationDetails,\n",
    "#     output_file=\"location_details.json\",  \n",
    "#     agent=location_coordinator\n",
    "# )\n"
   ]
  },
  {
   "cell_type": "markdown",
   "id": "2f7763ec-c954-49fd-8de6-535e6747d582",
   "metadata": {},
   "source": [
    "- By setting `async_execution=True`, it means the task can run in parallel with the tasks which come after it."
   ]
  },
  {
   "cell_type": "code",
   "execution_count": null,
   "id": "9d752904-41ea-490b-8a29-bd4155e7c003",
   "metadata": {},
   "outputs": [],
   "source": [
    "# catering_task = Task(\n",
    "#     description=\"Arrange catering and \"\n",
    "#                  \"equipment for a gathering \"\n",
    "#                  \"with {expected_participants} attendees \"\n",
    "#                  \"on {tentative_date}.\",\n",
    "#     expected_output=\"Verification of all logistics preparations \"\n",
    "#                     \"including food service and equipment arrangement.\",\n",
    "#     human_input=True,\n",
    "#     async_execution=True,\n",
    "#     agent=catering_manager\n",
    "# )\n"
   ]
  },
  {
   "cell_type": "markdown",
   "id": "15e0c31c-f5f4-44f3-a802-8a851b428b71",
   "metadata": {},
   "source": [
    "- You can pass a list of tasks as `context` to a task.\n",
    "- The task then takes into account the output of those tasks in its execution.\n",
    "- The task will not run until it has the output(s) from those tasks.\n",
    "- The following task will output a file called `tailored_resume.md`"
   ]
  },
  {
   "cell_type": "code",
   "execution_count": 23,
   "id": "47cad36b-dd1a-42b3-8e91-71eddf9f28d6",
   "metadata": {},
   "outputs": [],
   "source": [
    "# resume_customization_task = Task(\n",
    "#     description=(\n",
    "#         \"Utilize the profile and job specifications collected from \"\n",
    "#         \"prior tasks to customize the resume, emphasizing the most \"\n",
    "#         \"pertinent sections. Use tools to refine and improve the \"\n",
    "#         \"resume content. Ensure this is the most effective resume possible but \"\n",
    "#         \"refrain from fabricating any details. Revise every segment, \"\n",
    "#         \"including the opening summary, employment history, skills, \"\n",
    "#         \"and education sections, all to better reflect the candidate's \"\n",
    "#         \"capabilities and alignment with the job description.\"\n",
    "#     ),\n",
    "#     expected_output=(\n",
    "#         \"A revised resume that adeptly showcases the candidate's \"\n",
    "#         \"skills and experiences pertinent to the job.\"\n",
    "#     ),\n",
    "#     output_file=\"customized_resume.md\",\n",
    "#     context=[research_task, profile_task],\n",
    "#     agent=resume_strategist\n",
    "# )\n"
   ]
  },
  {
   "cell_type": "markdown",
   "id": "2a78293b-137c-4267-8395-2418e0e831ca",
   "metadata": {},
   "source": [
    "## Create Crew"
   ]
  },
  {
   "cell_type": "markdown",
   "id": "e6ddfbb6-f2bd-436f-842b-f1e414f30120",
   "metadata": {},
   "source": [
    "* By default, in CrewAI the tasks will be performed sequentially, so the order of the task in the list matters.\n",
    "    * The output of task1 is going to be sent as part of the input of task2. "
   ]
  },
  {
   "cell_type": "code",
   "execution_count": null,
   "id": "3f53e6f7-aaa9-4f34-ab63-402d9a4488f5",
   "metadata": {},
   "outputs": [],
   "source": [
    "# crew = Crew(\n",
    "#     agents=[planner, writer, editor],\n",
    "#     tasks=[plan, write, edit],\n",
    "#     verbose=2\n",
    "# )"
   ]
  },
  {
   "cell_type": "markdown",
   "id": "fae5c33d-8174-4737-99bd-801db5f1a9bb",
   "metadata": {},
   "source": [
    "* `memory=True` enables all the 3 memory types for this Crew (short-term, long-term and entity memories)."
   ]
  },
  {
   "cell_type": "code",
   "execution_count": 36,
   "id": "7ebe4b31-d2ad-49f6-9ca0-96f76fb7af8f",
   "metadata": {},
   "outputs": [],
   "source": [
    "# crew = Crew(\n",
    "#   agents=[support_agent, quality_assurance_agent],\n",
    "#   tasks=[inquiry_resolution, quality_assurance_review],\n",
    "#   verbose=2,\n",
    "#   memory=True\n",
    "# )"
   ]
  },
  {
   "cell_type": "markdown",
   "id": "c53033ac-4e6a-4286-8f27-80404d2b4eff",
   "metadata": {},
   "source": [
    "* If you set `async_execution=True` for several tasks, the order for them will not matter in the Crew's tasks list."
   ]
  },
  {
   "cell_type": "markdown",
   "id": "c5c7fc0f-8797-4efe-b7a2-9805f1dbe393",
   "metadata": {},
   "source": [
    "- If you set `human_input=True` for some tasks, the execution of the Crew will ask for your input before it finishes running.\n",
    "- When it asks for feedback, use your mouse pointer to first click in the text box before typing anything."
   ]
  },
  {
   "cell_type": "markdown",
   "id": "89fd7d76-352a-4907-b4b6-331dbf17fb51",
   "metadata": {},
   "source": [
    "- The `Process` class helps to delegate the workflow to the Agents (kind of like a Manager at work)\n",
    "- In the example below, it will run this hierarchically.\n",
    "- `manager_llm` lets you choose the \"manager\" LLM you want to use. This manager will delegate in the Agents of the Crew to perform their tasks.\n",
    "- In future versions of CrewAI you will be able to set the Manager Agent yourself. By now, you can select the LLM who will act as the manager agent and CrewAI will create this agent internally for you.\n",
    "- See that the Crew Manager kickoffs the Crew."
   ]
  },
  {
   "cell_type": "code",
   "execution_count": 37,
   "id": "325f77dc-7e40-4ad2-8ae0-2bd82fdc654c",
   "metadata": {},
   "outputs": [],
   "source": [
    "# from crewai import Crew, Process\n",
    "# from langchain_openai import ChatOpenAI\n",
    "\n",
    "# # Define the crew with agents and tasks\n",
    "# financial_analysis_crew = Crew(\n",
    "#     agents=[data_analyst, \n",
    "#             trading_strategist, \n",
    "#             execution_agent, \n",
    "#             risk_management_exec],\n",
    "    \n",
    "#     tasks=[data_analysis_task, \n",
    "#            trading_strategy_task, \n",
    "#            execution_task, \n",
    "#            risk_management_task],\n",
    "    \n",
    "#     manager_llm=ChatOpenAI(model=\"gpt-4-turbo\", \n",
    "#                            temperature=0.7),\n",
    "#     process=Process.hierarchical,\n",
    "#     verbose=True\n",
    "# )"
   ]
  },
  {
   "cell_type": "markdown",
   "id": "dcc1f320-55b5-4e30-81ec-536cf48c71c7",
   "metadata": {},
   "source": [
    "## Run Crew with the Input"
   ]
  },
  {
   "cell_type": "code",
   "execution_count": 38,
   "id": "e8e6fec4-341c-4722-8820-af65a5f044e6",
   "metadata": {},
   "outputs": [],
   "source": [
    "# inputs = {\n",
    "#     \"customer\": \"AI Accelera\",\n",
    "#     \"person\": \"Julio Colomer\",\n",
    "#     \"inquiry\": \"I need help with setting up a Multi-Agent App \"\n",
    "#                \"and kicking it off, specifically \"\n",
    "#                \"how can I add memory? \"\n",
    "#                \"Can you provide guidance?\"\n",
    "# }\n",
    "# result = crew.kickoff(inputs=inputs)"
   ]
  },
  {
   "cell_type": "markdown",
   "id": "d7db4e3c-3bd8-40c2-9702-3ee798209550",
   "metadata": {},
   "source": [
    "## Optional: Display results in Notebook"
   ]
  },
  {
   "cell_type": "markdown",
   "id": "6672b987-b0d7-4685-bfd4-046cd573b047",
   "metadata": {},
   "source": [
    "- Display the generated `file_name.md` file.\n",
    "\n",
    "**Note**: After `kickoff` execution has successfully ran, wait an extra 45 seconds for the `file_name.md` file to be generated. If you try to run the code below before the file has been generated, your output would look like:\n",
    "\n",
    "```\n",
    "file_name.md\n",
    "```\n",
    "\n",
    "If you see this output, wait some more and than try again."
   ]
  },
  {
   "cell_type": "code",
   "execution_count": null,
   "id": "4faca88b-225e-49e5-8c13-431e789a07e0",
   "metadata": {},
   "outputs": [],
   "source": [
    "# from IPython.display import Markdown\n",
    "\n",
    "# Markdown(result)"
   ]
  },
  {
   "cell_type": "code",
   "execution_count": null,
   "id": "e7c90654-83ac-4bf2-8d0d-9a6c4f5c5565",
   "metadata": {},
   "outputs": [],
   "source": [
    "# import json\n",
    "# from pprint import pprint\n",
    "\n",
    "# with open('venue_details.json') as f:\n",
    "#    data = json.load(f)\n",
    "\n",
    "# pprint(data)"
   ]
  },
  {
   "cell_type": "markdown",
   "id": "305e8a56-48ca-4e4f-8e84-fafee3cd0106",
   "metadata": {},
   "source": [
    "## Interesting Links to learn more\n",
    "* **crewai.com** to learn more about CrewAI.\n",
    "    * Documentation.\n",
    "    * How To Guides.\n",
    "    * Chat with the documentation.\n",
    "    * Enterprise solutions.\n",
    "        * In beta.\n",
    "        * Looking for early adopters: waiting list.\n",
    "        * Turn any Crew into an API within seconds.\n",
    "        * Connect to your apps using hooks, REST, gRPC and more.\n",
    "        * Get access to templates, customo tools and early UI.\n",
    "        * Get business support, SLA, private VTC.\n",
    "* **CrewAI Plus** (in beta, by invitation only).\n",
    "    * Deploy your Crews from GitHub.\n",
    "    * Transform your Crews in APIs in a matter of minutes.\n",
    "        * Enter your private variables.\n",
    "        * Have the URL of your API with SSL, hosted in a private VTC, outscaling, everything that makes it ready for a production use case.\n",
    "    * Sidebar:\n",
    "        * Crews.\n",
    "        * Templates.\n",
    "        * Dashboad.\n",
    "        * UI Studio.\n",
    "        * Storage.\n",
    "        * Connectors."
   ]
  },
  {
   "cell_type": "code",
   "execution_count": null,
   "id": "969b0e6a-4e63-4884-a5fc-a6c3022eb209",
   "metadata": {},
   "outputs": [],
   "source": []
  }
 ],
 "metadata": {
  "kernelspec": {
   "display_name": "Python 3 (ipykernel)",
   "language": "python",
   "name": "python3"
  },
  "language_info": {
   "codemirror_mode": {
    "name": "ipython",
    "version": 3
   },
   "file_extension": ".py",
   "mimetype": "text/x-python",
   "name": "python",
   "nbconvert_exporter": "python",
   "pygments_lexer": "ipython3",
   "version": "3.11.4"
  }
 },
 "nbformat": 4,
 "nbformat_minor": 5
}
