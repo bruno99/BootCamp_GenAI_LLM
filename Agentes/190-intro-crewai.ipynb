{
 "cells": [
  {
   "cell_type": "markdown",
   "id": "a52fb0bf-0576-41ca-9562-3a75a45ff46a",
   "metadata": {},
   "source": [
    "# Intro to CrewAI"
   ]
  },
  {
   "cell_type": "markdown",
   "id": "ce0bf0b5-175e-4906-ace7-0565c634460a",
   "metadata": {},
   "source": [
    "## What is CrewAI?\n",
    "* CrewAI is an open source framework to build multi-agent LLM apps.\n",
    "* CrewAI is built on top of LangChain.\n",
    "* CrewAI can be used with LangChain."
   ]
  },
  {
   "cell_type": "markdown",
   "id": "fba53fbe-fd5e-49ee-b9f0-af42d5837b9d",
   "metadata": {},
   "source": [
    "## Some people call it Agents, others call it Automations\n",
    "* Use LLM to reason.\n",
    "    * what content to create.\n",
    "    * what tool to use.\n",
    "* Tools:\n",
    "    * search online.\n",
    "    * connect to your CRM.\n",
    "    * manage my email.\n",
    "    * etc."
   ]
  },
  {
   "cell_type": "markdown",
   "id": "9c0ffd0c-ed1d-4474-97dc-8711e3b30c69",
   "metadata": {},
   "source": [
    "## How to design a Multi-Agent LLM app\n",
    "* Key: conceptual understanding. Business leaders are in the best position to design multi-agent systems conceptually.\n",
    "    * role description.\n",
    "    * tasks description.\n",
    "    * expected outcome."
   ]
  },
  {
   "cell_type": "markdown",
   "id": "885c4c6c-57e0-4059-889c-0c60e6a9ca48",
   "metadata": {},
   "source": [
    "## What Enterprise customers are looking for in multi-agent LLM apps\n",
    "* Enterprise customers want their Marketing and Sales teams to use Multi-Agent LLM Apps  without the need to know how to program and not having to worry about SLA, SLO, compliance."
   ]
  },
  {
   "cell_type": "markdown",
   "id": "723e5344-afa8-4df7-9b82-66218fa2a3f0",
   "metadata": {},
   "source": [
    "\"SLO,\" \"SLA,\" and \"compliance\" are terms often used in business and IT contexts to describe standards and agreements related to service performance and regulatory adherence. Here's a breakdown of each term:\n",
    "\n",
    "1. **SLO (Service Level Objective)**: This is a specific measurable characteristic of the Service Level Agreement (SLA) such as availability, throughput, frequency, response time, or quality. SLOs are specific goals set for the performance of a service. For example, an SLO might specify that a website should be available 99.9% of the time.\n",
    "\n",
    "2. **SLA (Service Level Agreement)**: This is a formal agreement between a service provider and a customer that outlines the expected level of service. An SLA includes all service level objectives (SLOs) and specifies the metrics by which the service is measured, as well as remedies or penalties should agreed-on service levels not be achieved. It often defines the terms of engagement and the standards to which the services will adhere. For instance, an SLA between a cloud service provider and a business might state that critical cloud-based applications will experience less than 5 minutes of downtime per month and define compensation if this is not met.\n",
    "\n",
    "3. **Compliance**: In a business context, compliance refers to a company’s adherence to laws, regulations, guidelines, and specifications relevant to its business. Violations of regulatory compliance regulations can result in legal punishment, including federal fines. Compliance is essential across various aspects, including environmental, health and safety, financial, and cyber-security standards. For instance, a company handling customer data might need to comply with regulations like GDPR in the EU or HIPAA in the US to ensure data protection and privacy.\n",
    "\n",
    "Each of these components plays a crucial role in ensuring that services are delivered efficiently, transparently, and in line with both customer expectations and regulatory requirements."
   ]
  },
  {
   "cell_type": "markdown",
   "id": "ff3c90a3-9bdc-4945-b6a8-06994b5ce4f3",
   "metadata": {},
   "source": [
    "## Main use cases of CrewAI:\n",
    "* **Sales**. Empower Sales people to do more and focus on the right leads and deals. How can a multi-agent app research on a new lead and prepare the Sales Rep to initiate the sales process with it:\n",
    "    * lead report.\n",
    "    * sales strategy for the lead.\n",
    "    * email draft.\n",
    "* **Prospecting**. How to reach out to new people apart from inbound marketing.\n",
    "* **Content marketing**.\n",
    "    * How do I create meaningful content through agents instead of lame content with chatGPT.\n",
    "    * How can agents learn from the metrics of my previous content in order to know how to write new efficient content."
   ]
  },
  {
   "cell_type": "markdown",
   "id": "b58b72ed-8f5f-4c2b-9d84-5b7527e1447b",
   "metadata": {},
   "source": [
    "## Use case draft: How can a multi-agent app help a HR Recruiter?\n",
    "Email Management. Resume screening. Recruiter screening emails fron candidates:\n",
    "* The first agent filters out the noise. It is automatically connected to your gmail account.\n",
    "    * Reads the candidate emails you receive and decides if the sender is worthy to engage or not. Filters the profiles you said you are interested about.\n",
    "* The second agent verifies the information about the senders. It search online to confirm if the info in their resumes in true, see if their online profile has any other relevant information.\n",
    "* A third agent can look at the roles you are trying to fill, the candidate resumes you have selected, and scoring the candidates."
   ]
  },
  {
   "cell_type": "markdown",
   "id": "28f9ada5-8b58-4ccc-9bc5-b743043cc2c1",
   "metadata": {},
   "source": [
    "## How many levels should your multi-agent app have?\n",
    "* Recommended: do not create multi-agent apps with too many hierarchy levels. Build simple multi-agent networks and then make them work together."
   ]
  },
  {
   "cell_type": "markdown",
   "id": "1e64420d-5b42-43f8-bc24-4c801a526564",
   "metadata": {},
   "source": [
    "## Recommendations about LLMs\n",
    "* OpenAI: once you scale, very expensive, and it will be slow if you work with a lot of data and multi-agents.\n",
    "* OpenSource LLMs + Finetuning + Locally run: cheaper, finetuning elevates performance, local keeps data privacy.\n",
    "    * Careful: Many experts are not recommending finetuning. Too complex to build and maintain.\n",
    " \n",
    "* Each agent of the multi-agent app can use a different LLM."
   ]
  },
  {
   "cell_type": "markdown",
   "id": "0f6c65ff-d510-443d-b1bf-6456fbe95d5f",
   "metadata": {},
   "source": [
    "## CrewAI Quickstart and Documentation\n",
    "* The best way to learn CrewAI will be to re-create the previous LangGraph project using CrewAI. You will see the common ground with LangGraph and the simplifications CrewAI includes.\n",
    "* After this basic CrewAI project, we will show a very detailed Level 3 CrewAI project in 9 parts.\n",
    "* To go deeper into CrewAI, to to the [CrewAI Documentation](https://docs.crewai.com/), where you will find detailed information about:\n",
    "    * Core concepts.\n",
    "    * How-To Guides.\n",
    "    * Examples. "
   ]
  },
  {
   "cell_type": "code",
   "execution_count": null,
   "id": "322d4e76-d0cc-42ce-9010-eb8cae8df45a",
   "metadata": {},
   "outputs": [],
   "source": []
  }
 ],
 "metadata": {
  "kernelspec": {
   "display_name": "Python 3 (ipykernel)",
   "language": "python",
   "name": "python3"
  },
  "language_info": {
   "codemirror_mode": {
    "name": "ipython",
    "version": 3
   },
   "file_extension": ".py",
   "mimetype": "text/x-python",
   "name": "python",
   "nbconvert_exporter": "python",
   "pygments_lexer": "ipython3",
   "version": "3.11.4"
  }
 },
 "nbformat": 4,
 "nbformat_minor": 5
}
