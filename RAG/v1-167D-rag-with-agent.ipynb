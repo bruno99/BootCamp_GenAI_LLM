{
 "cells": [
  {
   "cell_type": "markdown",
   "id": "4ef2fb29-27a2-4dc8-9344-7a531a66d4e3",
   "metadata": {},
   "source": [
    "# RAG with an Agent\n",
    "* We will build a basic agent for doing retrieval when necessary and also holding a conversation."
   ]
  },
  {
   "cell_type": "markdown",
   "id": "48a17168-db5b-4293-b155-b28635041dc3",
   "metadata": {},
   "source": [
    "## Dependencies\n",
    "* Note: we will use a FAISS vector database."
   ]
  },
  {
   "cell_type": "code",
   "execution_count": 1,
   "id": "2b061f3d-6e6a-4c3e-9daf-856597af46c1",
   "metadata": {},
   "outputs": [
    {
     "name": "stdout",
     "output_type": "stream",
     "text": [
      "\n",
      "\u001b[1m[\u001b[0m\u001b[34;49mnotice\u001b[0m\u001b[1;39;49m]\u001b[0m\u001b[39;49m A new release of pip is available: \u001b[0m\u001b[31;49m23.1.2\u001b[0m\u001b[39;49m -> \u001b[0m\u001b[32;49m24.0\u001b[0m\n",
      "\u001b[1m[\u001b[0m\u001b[34;49mnotice\u001b[0m\u001b[1;39;49m]\u001b[0m\u001b[39;49m To update, run: \u001b[0m\u001b[32;49mpython3.11 -m pip install --upgrade pip\u001b[0m\n",
      "Note: you may need to restart the kernel to use updated packages.\n"
     ]
    }
   ],
   "source": [
    "%pip install --upgrade --quiet  langchain langchain-community langchainhub langchain-openai faiss-cpu"
   ]
  },
  {
   "cell_type": "markdown",
   "id": "81b9cd1b-e9d8-4963-9842-d334cf5e98be",
   "metadata": {},
   "source": [
    "## .env File\n",
    "* Our LangSmith project name: RAGwithAgent"
   ]
  },
  {
   "cell_type": "code",
   "execution_count": 2,
   "id": "f74334e9-fd55-4d6f-b95c-2e3c56196d4a",
   "metadata": {},
   "outputs": [],
   "source": [
    "import os\n",
    "from dotenv import load_dotenv, find_dotenv\n",
    "_ = load_dotenv(find_dotenv())\n",
    "openai_api_key = os.environ[\"OPENAI_API_KEY\"]"
   ]
  },
  {
   "cell_type": "markdown",
   "id": "a658626b-ea9e-4d8c-946c-a0a6f06c232b",
   "metadata": {},
   "source": [
    "## Open LangSmith to track the following operations\n",
    "* smith.langchain.com"
   ]
  },
  {
   "cell_type": "markdown",
   "id": "a53fc1ec-5bc7-4161-b8b4-a0918db0f5d7",
   "metadata": {},
   "source": [
    "## First we will build the retriever"
   ]
  },
  {
   "cell_type": "code",
   "execution_count": 3,
   "id": "03d26793-6f3b-4e4e-9473-6c34676d9fe2",
   "metadata": {},
   "outputs": [],
   "source": [
    "from langchain_community.document_loaders import TextLoader\n",
    "\n",
    "loader = TextLoader(\"data/state_of_the_union.txt\")\n",
    "documents = loader.load()"
   ]
  },
  {
   "cell_type": "code",
   "execution_count": 4,
   "id": "45c72246-cd97-4b0a-9951-0ca13640b6ce",
   "metadata": {},
   "outputs": [],
   "source": [
    "from langchain_community.vectorstores import FAISS\n",
    "from langchain_openai import OpenAIEmbeddings\n",
    "from langchain_text_splitters import CharacterTextSplitter\n",
    "\n",
    "text_splitter = CharacterTextSplitter(chunk_size=1000, chunk_overlap=0)\n",
    "texts = text_splitter.split_documents(documents)\n",
    "embeddings = OpenAIEmbeddings()\n",
    "db = FAISS.from_documents(texts, embeddings)"
   ]
  },
  {
   "cell_type": "code",
   "execution_count": 5,
   "id": "03aa95cd-ad9b-4103-ab2c-06ac35f1ca8a",
   "metadata": {},
   "outputs": [],
   "source": [
    "retriever = db.as_retriever()"
   ]
  },
  {
   "cell_type": "markdown",
   "id": "44fea90d-7057-4df3-a5ff-4b396a01fc4b",
   "metadata": {},
   "source": [
    "## Then we will create a tool so the agent can use the previous retriever"
   ]
  },
  {
   "cell_type": "code",
   "execution_count": 6,
   "id": "0801524f-aafb-4709-a1e0-566b5d7b0626",
   "metadata": {},
   "outputs": [],
   "source": [
    "from langchain.tools.retriever import create_retriever_tool\n",
    "\n",
    "tool = create_retriever_tool(\n",
    "    retriever,\n",
    "    \"search_state_of_union\",\n",
    "    \"Searches and returns excerpts from the 2022 State of the Union.\",\n",
    ")\n",
    "tools = [tool]"
   ]
  },
  {
   "cell_type": "markdown",
   "id": "9d84e166-7851-42c7-9a5c-7a00e20500df",
   "metadata": {},
   "source": [
    "## Now we will build the Agent"
   ]
  },
  {
   "cell_type": "code",
   "execution_count": 7,
   "id": "96f97264-7720-4167-b349-b84721931fd5",
   "metadata": {},
   "outputs": [
    {
     "data": {
      "text/plain": [
       "[SystemMessagePromptTemplate(prompt=PromptTemplate(input_variables=[], template='You are a helpful assistant')),\n",
       " MessagesPlaceholder(variable_name='chat_history', optional=True),\n",
       " HumanMessagePromptTemplate(prompt=PromptTemplate(input_variables=['input'], template='{input}')),\n",
       " MessagesPlaceholder(variable_name='agent_scratchpad')]"
      ]
     },
     "execution_count": 7,
     "metadata": {},
     "output_type": "execute_result"
    }
   ],
   "source": [
    "from langchain import hub\n",
    "\n",
    "prompt = hub.pull(\"hwchase17/openai-tools-agent\")\n",
    "prompt.messages"
   ]
  },
  {
   "cell_type": "code",
   "execution_count": 8,
   "id": "9b255a88-ad72-4e5f-8ba2-fa28db17bd7f",
   "metadata": {},
   "outputs": [],
   "source": [
    "from langchain_openai import ChatOpenAI\n",
    "\n",
    "llm = ChatOpenAI(temperature=0)"
   ]
  },
  {
   "cell_type": "code",
   "execution_count": 9,
   "id": "066f5f34-e8b9-473a-ab87-ed74c90c0df1",
   "metadata": {},
   "outputs": [],
   "source": [
    "from langchain.agents import AgentExecutor, create_openai_tools_agent\n",
    "\n",
    "agent = create_openai_tools_agent(llm, tools, prompt)\n",
    "agent_executor = AgentExecutor(agent=agent, tools=tools)"
   ]
  },
  {
   "cell_type": "markdown",
   "id": "ba013b56-8a81-4a9b-9349-f99df3226856",
   "metadata": {},
   "source": [
    "## We can now have a normal conversation with the Agent"
   ]
  },
  {
   "cell_type": "code",
   "execution_count": 10,
   "id": "ac2b23b2-a703-45b0-938b-5a611ed7f2f5",
   "metadata": {},
   "outputs": [],
   "source": [
    "result = agent_executor.invoke({\"input\": \"hi, im bob\"})"
   ]
  },
  {
   "cell_type": "code",
   "execution_count": 11,
   "id": "b901a421-fc81-40d7-91c5-6fa253c14082",
   "metadata": {},
   "outputs": [
    {
     "data": {
      "text/plain": [
       "'Hello Bob! How can I assist you today?'"
      ]
     },
     "execution_count": 11,
     "metadata": {},
     "output_type": "execute_result"
    }
   ],
   "source": [
    "result[\"output\"]"
   ]
  },
  {
   "cell_type": "markdown",
   "id": "023db06c-c8fc-446b-bd3c-adbd0b65c847",
   "metadata": {},
   "source": [
    "## The Agent will do RAG when we ask someting related with the private document"
   ]
  },
  {
   "cell_type": "code",
   "execution_count": 12,
   "id": "436ef516-601e-45ab-92a6-85f15e4ea9fe",
   "metadata": {},
   "outputs": [],
   "source": [
    "result = agent_executor.invoke(\n",
    "    {\n",
    "        \"input\": \"what did the president say about ketanji brown jackson in the most recent state of the union?\"\n",
    "    }\n",
    ")"
   ]
  },
  {
   "cell_type": "code",
   "execution_count": 13,
   "id": "5ae3d200-3c98-403f-9798-35e26722c899",
   "metadata": {},
   "outputs": [
    {
     "data": {
      "text/plain": [
       "\"In the most recent State of the Union address, President Biden honored Justice Stephen Breyer and announced the nomination of Circuit Court of Appeals Judge Ketanji Brown Jackson to the United States Supreme Court. President Biden described Judge Ketanji Brown Jackson as one of the nation's top legal minds who will continue Justice Breyer's legacy of excellence. The President highlighted her qualifications and the broad range of support she has received since her nomination.\""
      ]
     },
     "execution_count": 13,
     "metadata": {},
     "output_type": "execute_result"
    }
   ],
   "source": [
    "result[\"output\"]"
   ]
  },
  {
   "cell_type": "code",
   "execution_count": 14,
   "id": "d3904842-68da-4f8e-8c48-d5fbc4448f46",
   "metadata": {},
   "outputs": [],
   "source": [
    "result = agent_executor.invoke(\n",
    "    {\"input\": \"how long ago did the president nominate ketanji brown jackson?\"}\n",
    ")"
   ]
  },
  {
   "cell_type": "code",
   "execution_count": 15,
   "id": "696ffe5f-0693-4b74-b8d5-f408c14d4abd",
   "metadata": {},
   "outputs": [
    {
     "data": {
      "text/plain": [
       "'President Biden nominated Ketanji Brown Jackson 4 days ago.'"
      ]
     },
     "execution_count": 15,
     "metadata": {},
     "output_type": "execute_result"
    }
   ],
   "source": [
    "result[\"output\"]"
   ]
  },
  {
   "cell_type": "code",
   "execution_count": null,
   "id": "1278e60c-cf66-4613-83e9-6d3026932b80",
   "metadata": {},
   "outputs": [],
   "source": []
  }
 ],
 "metadata": {
  "kernelspec": {
   "display_name": "Python 3 (ipykernel)",
   "language": "python",
   "name": "python3"
  },
  "language_info": {
   "codemirror_mode": {
    "name": "ipython",
    "version": 3
   },
   "file_extension": ".py",
   "mimetype": "text/x-python",
   "name": "python",
   "nbconvert_exporter": "python",
   "pygments_lexer": "ipython3",
   "version": "3.11.4"
  }
 },
 "nbformat": 4,
 "nbformat_minor": 5
}
