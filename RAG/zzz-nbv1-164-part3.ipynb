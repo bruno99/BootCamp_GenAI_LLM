{
 "cells": [
  {
   "cell_type": "markdown",
   "id": "6acc115e-9a8b-4935-b264-9ad05c7e2e3c",
   "metadata": {},
   "source": [
    "# Part 3"
   ]
  },
  {
   "cell_type": "markdown",
   "id": "96f0f5c1-117b-452d-a036-00c54b93bc32",
   "metadata": {},
   "source": [
    "## IMPORTANT: Installation with the exact packages we used\n",
    "* When you download a full stack app you need to make sure that both backend and frontend use the original packages in order to avoid potential errors caused by installing more modern versions of these packages.\n",
    "* Since we used pip to install the original backend packages and froze them using pip freeze, you will now use \"pip install -r requirements.txt\" to install them. Since we also used poetry, you will also use \"poetry install\".\n",
    "* Since we used npx to install the original frontend packages, you will now use \"npm ci\" to install them.\n",
    "#### Download the code\n",
    "* Download the code from the github repository.\n",
    "#### Backend installation\n",
    "* Since we used both pyenv and poetry to build this project, you will have to use the following approach to install the backend.\n",
    "* In the terminal, make sure you are in the root directory of the project (v1-164-part3). Pay attention: the root directory of the project and the backend directory have an identic name. Do not mistake them, be sure you are in the root directory of the project now.\n",
    "* **Create a virtual environment and use pip install to make sure you install the exact same packages we used**:\n",
    "    * pyenv virtualenv 3.11.4 your-virtual-environment-name\n",
    "    * pyenv activate your-virtual-environment-name\n",
    "    * pip install -r requirements.txt\n",
    "* **Go to the backend directory, create a virtual environment and use poetry install to make sure you install the exact same packages we used**:\n",
    "    * cd v1-164-part3\n",
    "    * poetry install\n",
    "#### Frontend installation\n",
    "* Open a second terminal window, make sure you are in the root directory of the project (v1-164-part3). Pay attention: the root directory of the project and the backend directory have an identic name. Do not mistake them, be sure you are in the root directory of the project now.\n",
    "* **Go to the frontend directory, and use npm ci to make sure you install the exact same packages we used**:\n",
    "    * cd frontend\n",
    "    * npm ci\n",
    "#### Ready to go!\n",
    "* You can now see the code of the app in Visual Studio Code.\n",
    "* Relax and review the following steps. Remember, since you have pre-installed the modules you will not have to re-install them again.\n",
    "* **IMPORTANT**: due to the changes we have done in rag_chain.py, if you try to run the backend now you will see an error message. For this lecture, just run the frontend and wait until the following lecture to run the backend."
   ]
  },
  {
   "cell_type": "markdown",
   "id": "71e22c43-c75d-436b-984a-0dd2de379bbb",
   "metadata": {},
   "source": [
    "## Let's update app/server.py to avoid getting a CORS error"
   ]
  },
  {
   "cell_type": "code",
   "execution_count": null,
   "id": "f27e04fe-1494-457d-8d28-78a153f5520e",
   "metadata": {},
   "outputs": [],
   "source": [
    "# app.add_middleware(\n",
    "#     CORSMiddleware,\n",
    "#     allow_origins=[\n",
    "#         \"http://localhost:3000\"\n",
    "#     ],\n",
    "#     allow_credentials=True,\n",
    "#     allow_methods=[\"*\"],\n",
    "#     allow_headers=[\"*\"],\n",
    "# )"
   ]
  },
  {
   "cell_type": "markdown",
   "id": "5a607f30-de25-4c35-956f-047ce3bbdd62",
   "metadata": {},
   "source": [
    "Imagine you have a house (your server or backend, where all your data lives) and a mailbox at the end of the driveway (your frontend, where users interact with your data, like a website). Normally, the mailbox can only receive letters (data) from your house. But what if you want your friend from the house across the street (another website) to be able to send letters to your mailbox, too?\n",
    "\n",
    "This piece of code is like telling your mailbox to accept letters not just from your house but also from your friend's house at \"http://localhost:3000\". It's setting up rules for what's allowed:\n",
    "\n",
    "- **allow_origins=[\"http://localhost:3000\"]**: Only letters from your house and your friend's house at \"http://localhost:3000\" are allowed. No one else can send letters to your mailbox.\n",
    "  \n",
    "- **allow_credentials=True**: If your friend's letter includes a secret handshake or password (like cookies or authentication information), it's allowed. This makes sure that even private or secure communications can happen between your houses.\n",
    "\n",
    "- **allow_methods=[\"*\"]**: Your friend can send letters in any way they want - by air, by bike, by mail, etc. (This means any type of request like GET, POST, DELETE, etc. is allowed.)\n",
    "\n",
    "- **allow_headers=[\"*\"]**: No matter what's written on the envelope (headers in web requests), the letter will be accepted. This could be anything from what type of letter it is to what language it's written in.\n",
    "\n",
    "In technical terms, this code is configuring CORS (Cross-Origin Resource Sharing) for your app. CORS is a policy that browsers use to secure web applications by only allowing them to make requests to the same server they were loaded from unless explicitly allowed by the server. This code snippet is setting up your app to explicitly allow requests from \"http://localhost:3000\", including requests with credentials, and to accept requests of any method and headers.\n",
    "\n",
    "**Important:** For this change to work, you will need to restart the frontend server.\n",
    "* CRTL C to stop it.\n",
    "* `npm start` to restart it.    "
   ]
  },
  {
   "cell_type": "markdown",
   "id": "2ac866ce-5c19-4197-8d92-741c2e941aec",
   "metadata": {},
   "source": [
    "## Functionality to input and submit messages\n",
    "Using React.js, now we will add the functionality to input and submit messages. See the changes we introduce in frontend/src/App.tsx. See the updates in the textarea and the button (the code is commented out here because we are not going to run it. You can download the code from github and see it in your editor)."
   ]
  },
  {
   "cell_type": "code",
   "execution_count": null,
   "id": "a80af31a-3fe7-4933-9a32-5b6b7aea3552",
   "metadata": {},
   "outputs": [],
   "source": [
    "# <textarea\n",
    "#   className=\"form-textarea w-full p-2 border rounded text-white bg-gray-900 border-gray-600 resize-none h-auto\"\n",
    "#   placeholder=\"The user will ask questions about the PDFs here.\"\n",
    "#   onKeyUp={handleKeyPress}\n",
    "#   onChange={(e) => setInputValue(e.target.value)}\n",
    "#   value={inputValue}>\n",
    "# </textarea>\n",
    "# <button\n",
    "#   className=\"mt-2 bg-green-600 hover:bg-green-700 text-white font-bold py-2 px-4 rounded\"\n",
    "#   onClick={() => handleSendMessage(inputValue.trim())}\n",
    "# >\n",
    "#   Send\n",
    "# </button>"
   ]
  },
  {
   "cell_type": "markdown",
   "id": "0b00d3ee-bb32-4a27-9376-a5f7a282f952",
   "metadata": {},
   "source": [
    "This code is about a box where you can type a message and a button to send that message. It's like writing a note and having a button to deliver it. Here's what each part does in simple terms:\n",
    "\n",
    "1. **The Box to Write Your Message (Textarea):**\n",
    "   - You'll see \"The user will ask questions about the PDFs here.\" inside the box when it's empty, guiding you on what to do.\n",
    "   - As you type or when you press keys, the box does special things:\n",
    "     - It remembers what you're typing so it can be sent when you're ready.\n",
    "     - If you do something special with your keyboard, like pressing certain keys, it notices that too (that's what `handleKeyPress` is about).\n",
    "\n",
    "2. **The Send Button:**\n",
    "   - Clicking this button takes whatever you've written in the message box, trims any extra spaces from the beginning and end (so if you accidentally hit the spacebar too many times, it won't matter), and then does something with that message, like sending it off so others can read it.\n",
    "  \n",
    "Here's a breakdown of what each part does:\n",
    "\n",
    "### Textarea\n",
    "- **Functionality**: \n",
    "  - **Typing Behavior**: When the user types or modifies the text (`onChange`), it updates a variable (`inputValue`) to reflect what's currently in the box. This ensures the application knows what the user has typed.\n",
    "  - **Key Press**: Detects when a key is pressed and released (`onKeyUp`) and calls a function (`handleKeyPress`), which could be used for actions like sending the message with the Enter key.\n",
    "  \n",
    "### Button\n",
    "- **Functionality**: When clicked (`onClick`), it triggers a function (`handleSendMessage`) that likely sends the message typed in the textbox. Before sending, it trims (`trim()`) the `inputValue` to remove any extra spaces at the beginning or end of the message."
   ]
  },
  {
   "cell_type": "markdown",
   "id": "dd719edf-6e0e-42e0-b9f9-c1d769d25cc0",
   "metadata": {},
   "source": [
    "For the previous code to work, we will need to add the following after function App():"
   ]
  },
  {
   "cell_type": "code",
   "execution_count": 1,
   "id": "1864b02f-3555-48b6-b328-8ed4fee05de4",
   "metadata": {},
   "outputs": [],
   "source": [
    "# const [inputValue, setInputValue] = useState(\"\")"
   ]
  },
  {
   "cell_type": "markdown",
   "id": "2e4506ef-1c48-4a7c-8caf-d7cc60c8f63d",
   "metadata": {},
   "source": [
    "The previous line of code is like setting up a magic notebook in a computer program made with React. The notebook starts empty, but you can write something in it, erase it all, or change the text whenever you want. Here's how it works:\n",
    "\n",
    "- **`const [inputValue, setInputValue] = useState(\"\")`** is a special spell in React that creates a piece of memory, called \"state,\" for storing information that can change over time. In this case, it's for keeping track of what someone might type into a box on a website.\n",
    "\n",
    "- **`inputValue`** is like the current page of the notebook. It shows you what's written there right now. Initially, it's just an empty page (`\"\"` means nothing is written yet).\n",
    "\n",
    "- **`setInputValue`** is like a pen that lets you change what's written on the current page. Whenever you want to write something new or erase everything to start over, you use this pen.\n",
    "\n",
    "- **`useState(\"\")`** is how you tell the computer to get the notebook and pen ready. The `\"\"` part is like saying, \"The notebook is empty when we start.\"\n",
    "\n",
    "So, this code is basically setting up an empty notebook and a pen for writing in it, waiting for you to write something down, erase it, or change it as needed while using the website."
   ]
  },
  {
   "cell_type": "code",
   "execution_count": null,
   "id": "ed059ef1-0741-4940-9956-579f85c9ac78",
   "metadata": {},
   "outputs": [],
   "source": [
    "# const handleKeyPress = (event: React.KeyboardEvent<HTMLTextAreaElement>) => {\n",
    "#     if (event.key === \"Enter\" && !event.shiftKey) {\n",
    "#       handleSendMessage(inputValue.trim())\n",
    "#     }\n",
    "#   }"
   ]
  },
  {
   "cell_type": "markdown",
   "id": "daa0574c-99d3-4980-8ebe-5e0089a228cd",
   "metadata": {},
   "source": [
    "The previous code is used in our textarea. In simple terms, it is like a smart assistant that's watching over a textbox where you can type messages. Imagine you're writing a note to a friend on a computer, and instead of looking for a \"Send\" button after typing your message, you simply press the \"Enter\" key to send it quickly. But, if you want to add a new line to your message, holding the \"Shift\" key while pressing \"Enter\" lets you do that without sending the message. Here's how it works:\n",
    "\n",
    "- **The Assistant's Job (handleKeyPress function)**: This assistant pays attention every time you press a key on your keyboard while typing in the message box.\n",
    "\n",
    "- **Listening for the \"Enter\" Key**: The assistant is specifically looking for the moment you press the \"Enter\" key. \n",
    "\n",
    "- **Checking Your Intent**:\n",
    "  - If you just press \"Enter\" without holding any other key (like \"Shift\"), the assistant understands that you want to send your message right away. Before sending, it cleans up your message by trimming any extra space at the beginning or end.\n",
    "  - If you're holding down the \"Shift\" key when you press \"Enter\", the assistant knows you're trying to add a new line to your message instead of sending it. So, it does nothing, letting you continue typing.\n",
    "\n",
    "- **Action on \"Enter\"**: When it's just the \"Enter\" key (with no \"Shift\" key), the assistant calls another function (`handleSendMessage`) and gives it your cleaned-up message to be sent off, just like hitting a \"Send\" button.\n",
    "\n",
    "So, this code is essentially making it easy and quick for you to send messages or add new lines to them while typing, making your conversation flow smoothly."
   ]
  },
  {
   "cell_type": "code",
   "execution_count": null,
   "id": "50d5a5a2-6eb4-4410-9457-367af0e8465b",
   "metadata": {},
   "outputs": [],
   "source": [
    "# const [messages, setMessages] = useState<Message[]>([]);\n",
    "\n",
    "# const setPartialMessage = (chunk: string, sources: string[] = []) => {\n",
    "#     setMessages(prevMessages => {\n",
    "#       let lastMessage = prevMessages[prevMessages.length - 1];\n",
    "#       if (prevMessages.length === 0 || !lastMessage.isUser) {\n",
    "#         return [...prevMessages.slice(0, -1), {\n",
    "#           message: lastMessage.message + chunk,\n",
    "#           isUser: false,\n",
    "#           sources: lastMessage.sources ? [...lastMessage.sources, ...sources] : sources\n",
    "#         }];\n",
    "#       }\n",
    "\n",
    "#       return [...prevMessages, {message: chunk, isUser: false, sources}];\n",
    "#     })\n",
    "#   }\n",
    "\n",
    "#   function handleReceiveMessage(data: string) {\n",
    "#     let parsedData = JSON.parse(data);\n",
    "\n",
    "#     if (parsedData.answer) {\n",
    "#       setPartialMessage(parsedData.answer.content)\n",
    "#     }\n",
    "\n",
    "#     if (parsedData.docs) {\n",
    "#       setPartialMessage(\"\", parsedData.docs.map((doc: any) => doc.metadata.source))\n",
    "#     }\n",
    "#   }\n",
    "\n",
    "#   const handleSendMessage = async (message: string) => {\n",
    "#     setInputValue(\"\")\n",
    "\n",
    "#     setMessages(prevMessages => [...prevMessages, {message, isUser: true}]);\n",
    "\n",
    "#     await fetchEventSource(`${process.env.REACT_APP_BACKEND_URL}/rag/stream`, {\n",
    "#       method: 'POST',\n",
    "#       headers: {\n",
    "#         'Content-Type': 'application/json',\n",
    "#       },\n",
    "#       body: JSON.stringify({\n",
    "#         input: {\n",
    "#           question: message,\n",
    "#         }\n",
    "#       }),\n",
    "#       onmessage(event) {\n",
    "#         if (event.event === \"data\") {\n",
    "#           handleReceiveMessage(event.data);\n",
    "#         }\n",
    "#       },\n",
    "#     })\n",
    "#   }"
   ]
  },
  {
   "cell_type": "markdown",
   "id": "c1015dbe-cf84-4d20-a166-faf24f8666e2",
   "metadata": {},
   "source": [
    "The previous code is used in our button. In simple terms, this code is part of a messaging system where someone can ask questions and get answers. Let's break it down into simpler parts:\n",
    "\n",
    "**Starting With an Empty Box of Messages**\n",
    "- **`const [messages, setMessages] = useState<Message[]>([]);`**: Think of `messages` as an empty box where all the messages will be kept. When someone sends a message or gets an answer, it's added to this box. `setMessages` is a way to put messages into the box or change them.\n",
    "\n",
    "**Adding Pieces to Messages**\n",
    "- **`setPartialMessage` function**: Sometimes, when you get an answer, it doesn't all come at once. This function helps add pieces of the answer to the conversation. It checks the last message:\n",
    "  - If the last message is also from the assistant, it adds the new piece to it.\n",
    "  - If the last message is from the user or there's no message yet, it starts a new message from the assistant.\n",
    "  - It can also add where the information came from (sources) to the message.\n",
    "\n",
    "**Listening for Answers**\n",
    "- **`handleReceiveMessage` function**: This is like having your ear to the ground, listening for any replies coming back after you ask a question.\n",
    "  - It first translates the reply from a special code (JSON) into something understandable.\n",
    "  - If there's an answer, it uses `setPartialMessage` to add it to the conversation.\n",
    "  - If there are documents mentioned in the reply, it lists their sources as part of the conversation.\n",
    "\n",
    "**Sending a Question**\n",
    "- **`handleSendMessage` function**: When you have a question:\n",
    "  - It first clears the box where you type your question, getting it ready for the next one.\n",
    "  - It adds your question to the box of messages, marking it as something you asked.\n",
    "  - Then, it sends your question to a special place on the internet (like sending a letter), hoping to get an answer back.\n",
    "  - It stays alert, listening for any reply to your question. When a reply comes, it uses `handleReceiveMessage` to add the answer to your conversation.\n",
    "\n",
    "In simple terms, this code is all about asking questions and getting answers in a conversation. It makes sure your questions are added to the conversation, listens for answers, and adds those answers to the conversation when they arrive, piece by piece, including where the information came from."
   ]
  },
  {
   "cell_type": "markdown",
   "id": "4e2b2767-0e22-43c5-9124-5c73a43d486d",
   "metadata": {},
   "source": [
    "## We can now complete our React component in App.tsx\n",
    "* See the final code in your editor."
   ]
  },
  {
   "cell_type": "markdown",
   "id": "0fb80bb2-2852-4ac6-b753-e2b6f0de894d",
   "metadata": {},
   "source": [
    "This code sets up a simple web application where users can interact with an AI assistant where you can ask questions and receive answers about your private PDFs, similar to how you might chat with a friend online. Here's what's happening in simpler terms:\n",
    "\n",
    "### Setting Up the Conversation\n",
    "- **Storing Messages**: It keeps track of all the messages sent back and forth in the conversation. Think of it as a notebook where every new message, whether from you (the user) or the AI assistant, gets written down on a new line.\n",
    "- **Writing and Sending Messages**: When you type a message and decide to send it, the app does a few things:\n",
    "  - Clears the text box so you can type something new next time.\n",
    "  - Adds your message to the notebook of conversation.\n",
    "  - Sends your message to a special address (think of it like a postal address for the AI on the internet) so the AI can read it and respond.\n",
    "- **Listening for AI's Response**: After sending your message, the app waits and listens for the AI's reply, ready to add it to the notebook once it arrives.\n",
    "\n",
    "### Receiving and Showing Messages\n",
    "- **Adding AI's Messages**: When the AI sends a message back, the app decides how to add it to the notebook. If the AI sends a long reply in parts, the app knows how to put these parts together so the conversation makes sense.\n",
    "- **Displaying Source Links**: Sometimes, the AI's messages include sources or references. The app knows how to show these sources as clickable links, in case you want to learn more about what the AI is talking about.\n",
    "\n",
    "### The User Interface\n",
    "- **Looks and Feel**: The app has a clean and simple look, designed for easy reading and writing. It's set up a bit like a messaging app on your phone but used through a web browser.\n",
    "- **Interactive Elements**: There's a text box where you can type your questions or messages, and a \"Send\" button to click when you're ready to send your message to the AI. After you send a message, you'll see it appear in the conversation history, along with the AI's responses.\n",
    "\n",
    "### Under the Hood\n",
    "- **Handling Technical Details**: The app takes care of some technical stuff in the background, like formatting the messages so they're easy to read and ensuring the conversation flows smoothly, even if the internet connection is a bit slow or if the AI has a lot to say in response.\n",
    "\n",
    "In essence, this code creates a friendly space on your computer or phone where you can ask questions and receive answers about your private PDFs from an AI assistant, with the whole conversation neatly displayed on your screen."
   ]
  },
  {
   "cell_type": "markdown",
   "id": "d4b32db8-7be6-42a4-81d2-9f061d2046a3",
   "metadata": {},
   "source": [
    "## Now, let's make a quick addition to app/server.py"
   ]
  },
  {
   "cell_type": "code",
   "execution_count": 3,
   "id": "2455bf49-d0ef-422d-9d0f-0d42e235c5b2",
   "metadata": {},
   "outputs": [],
   "source": [
    "# app.mount(\"/rag/static\", StaticFiles(directory=\"./pdf-documents\"), name=\"static\")"
   ]
  },
  {
   "cell_type": "markdown",
   "id": "290b8385-cfce-489b-b966-0d5c95d02037",
   "metadata": {},
   "source": [
    "**Serves Static Files**: \n",
    "   - The `app.mount(\"/rag/static\", StaticFiles(directory=\"./pdf-documents\"), name=\"static\")` part sets up a special folder in the app where files don't change, like images or documents. It's saying, \"Hey, if anyone asks for something from `/rag/static`, you'll find it in a folder called `./pdf-documents` on this computer.\" This is useful for when you want to make certain files available to users, like PDFs or images that are part of your app's content."
   ]
  },
  {
   "cell_type": "code",
   "execution_count": null,
   "id": "23a4768a-4306-4c3a-a197-041bf7b3bea6",
   "metadata": {},
   "outputs": [],
   "source": []
  }
 ],
 "metadata": {
  "kernelspec": {
   "display_name": "Python 3 (ipykernel)",
   "language": "python",
   "name": "python3"
  },
  "language_info": {
   "codemirror_mode": {
    "name": "ipython",
    "version": 3
   },
   "file_extension": ".py",
   "mimetype": "text/x-python",
   "name": "python",
   "nbconvert_exporter": "python",
   "pygments_lexer": "ipython3",
   "version": "3.11.4"
  }
 },
 "nbformat": 4,
 "nbformat_minor": 5
}
