{
 "cells": [
  {
   "cell_type": "markdown",
   "id": "465c003a-29cf-4cfe-a0c6-d36c04ae2b37",
   "metadata": {},
   "source": [
    "# QA over SQL data"
   ]
  },
  {
   "cell_type": "markdown",
   "id": "96a73fbf-e241-499d-a235-32a87b46ee7c",
   "metadata": {},
   "source": [
    "## Intro\n",
    "* We will create a Q&A app over tabular data in databases.\n",
    "* These app will allow us to **ask a question about the data in a database and get back a natural language answer**.\n",
    "* **Building Q&A systems of SQL databases requires executing model-generated SQL queries. There are inherent risks in doing this**. Make sure that your database connection permissions are always scoped as narrowly as possible for your chain's needs."
   ]
  },
  {
   "cell_type": "markdown",
   "id": "be46161e-45e9-46d7-8214-bcbea10aff2e",
   "metadata": {},
   "source": [
    "## Setup"
   ]
  },
  {
   "cell_type": "markdown",
   "id": "871e0018-cba4-4959-881a-0a65093d202d",
   "metadata": {},
   "source": [
    "#### Recommended: create new virtualenv\n",
    "* mkdir your_project_name\n",
    "* cd your_project_name\n",
    "* pyenv virtualenv 3.11.4 your_venv_name\n",
    "* pyenv activate your_venv_name\n",
    "* pip install jupyterlab\n",
    "* jupyter lab"
   ]
  },
  {
   "cell_type": "code",
   "execution_count": 1,
   "id": "57f9e964-c5c2-4a13-b9ed-c449362ae7dc",
   "metadata": {},
   "outputs": [],
   "source": [
    "#!pip install python-dotenv"
   ]
  },
  {
   "cell_type": "markdown",
   "id": "af743328-1bc8-4b01-85fb-fcb21c6499c2",
   "metadata": {},
   "source": [
    "#### .env File\n",
    "Remember to include:\n",
    "OPENAI_API_KEY=your_openai_api_key\n",
    "\n",
    "LANGCHAIN_TRACING_V2=true\n",
    "LANGCHAIN_ENDPOINT=https://api.smith.langchain.com\n",
    "LANGCHAIN_API_KEY=your_langchain_api_key\n",
    "LANGCHAIN_PROJECT=your_project_name"
   ]
  },
  {
   "cell_type": "markdown",
   "id": "863dd299-0780-49ad-a1b7-b76e249350da",
   "metadata": {},
   "source": [
    "We will call our LangSmith project **qaFromSQL**."
   ]
  },
  {
   "cell_type": "code",
   "execution_count": 1,
   "id": "fecd39d0-e72e-4bc2-8a68-2fa4008ea365",
   "metadata": {},
   "outputs": [],
   "source": [
    "import os\n",
    "from dotenv import load_dotenv, find_dotenv\n",
    "_ = load_dotenv(find_dotenv())\n",
    "openai_api_key = os.environ[\"OPENAI_API_KEY\"]"
   ]
  },
  {
   "cell_type": "markdown",
   "id": "03f4a923-b19e-498e-9be5-e47ec4a77d80",
   "metadata": {},
   "source": [
    "#### Install LangChain"
   ]
  },
  {
   "cell_type": "code",
   "execution_count": 3,
   "id": "c1cf94ae-6c39-4475-9c5b-4b74d8d78753",
   "metadata": {},
   "outputs": [],
   "source": [
    "#!pip install langchain"
   ]
  },
  {
   "cell_type": "markdown",
   "id": "189e9e17-dfb0-4fd3-85b9-1fba83771941",
   "metadata": {},
   "source": [
    "## Connect with an LLM"
   ]
  },
  {
   "cell_type": "code",
   "execution_count": 4,
   "id": "148df8e0-361d-4ddd-8709-af48fa1648d1",
   "metadata": {},
   "outputs": [],
   "source": [
    "#!pip install langchain-openai"
   ]
  },
  {
   "cell_type": "markdown",
   "id": "a1998155-91de-4cbc-bc88-8d77beefb51b",
   "metadata": {},
   "source": [
    "* NOTE: Since right now is the best LLM in the market, we will use OpenAI by default. You will see how to connect with other Open Source LLMs like Llama3 or Mistral in a next lesson."
   ]
  },
  {
   "cell_type": "code",
   "execution_count": 2,
   "id": "6ae8595e-5c07-4b02-8a79-db55fd357527",
   "metadata": {},
   "outputs": [],
   "source": [
    "from langchain_openai import ChatOpenAI\n",
    "\n",
    "llm = ChatOpenAI(model=\"gpt-3.5-turbo-0125\")"
   ]
  },
  {
   "cell_type": "code",
   "execution_count": 6,
   "id": "bc942a2e-b9d3-4f5f-a612-f212cacc8bdd",
   "metadata": {},
   "outputs": [],
   "source": [
    "#!pip install langchain-community"
   ]
  },
  {
   "cell_type": "markdown",
   "id": "85a99a77-abc6-412a-b9dc-651e00fe5867",
   "metadata": {},
   "source": [
    "## Connect with the database\n",
    "* In this example we will use a SQLite connection with the `street_tree_db` database we have in the `data` folder.\n",
    "* **Remember to download the data folder from the Github repository**.\n",
    "* The `data` folder must be in the root directory of this app.\n",
    "* We can interface with the database using the SQLAlchemy-driven `SQLDatabase` class:"
   ]
  },
  {
   "cell_type": "code",
   "execution_count": 3,
   "id": "ae1ca291-4c3f-47a6-8854-42d2ac953c15",
   "metadata": {},
   "outputs": [],
   "source": [
    "from langchain_community.utilities import SQLDatabase\n",
    "\n",
    "sqlite_db_path = \"data/street_tree_db.sqlite\"\n",
    "\n",
    "db = SQLDatabase.from_uri(f\"sqlite:///{sqlite_db_path}\")"
   ]
  },
  {
   "cell_type": "markdown",
   "id": "c39a7a0a-059c-496f-91ee-1303aa1bb6ae",
   "metadata": {},
   "source": [
    "We can create a simple chain that takes a question and does the following:\n",
    "* Convert the question into a SQL query;\n",
    "* Execute the query;\n",
    "* Use the result to answer the original question.\n",
    "\n",
    "The first step in a SQL chain is to take the user input and convert it to a SQL query. LangChain comes with a **built-in chain** for this, `create_sql_query_chain`:"
   ]
  },
  {
   "cell_type": "code",
   "execution_count": 4,
   "id": "bd9b7787-2076-4d6a-94ad-8c815fb1ff61",
   "metadata": {},
   "outputs": [
    {
     "data": {
      "text/plain": [
       "'SELECT COUNT(DISTINCT \"qSpecies\") AS \"TotalSpecies\" FROM street_trees;'"
      ]
     },
     "execution_count": 4,
     "metadata": {},
     "output_type": "execute_result"
    }
   ],
   "source": [
    "from langchain.chains import create_sql_query_chain\n",
    "\n",
    "chain = create_sql_query_chain(llm, db)\n",
    "\n",
    "response = chain.invoke({\"question\": \"How many species of trees are in San Francisco?\"})\n",
    "\n",
    "response"
   ]
  },
  {
   "cell_type": "markdown",
   "id": "c0c5f7fa-0147-423f-8793-22fdbdacdd29",
   "metadata": {},
   "source": [
    "* We can execute the query to make sure it's valid:"
   ]
  },
  {
   "cell_type": "code",
   "execution_count": 5,
   "id": "3b598141-a7c3-4209-b0cf-626b28d677b4",
   "metadata": {},
   "outputs": [
    {
     "data": {
      "text/plain": [
       "'[(148,)]'"
      ]
     },
     "execution_count": 5,
     "metadata": {},
     "output_type": "execute_result"
    }
   ],
   "source": [
    "db.run(response)"
   ]
  },
  {
   "cell_type": "markdown",
   "id": "71188e6d-8b78-4162-804a-918d54449b17",
   "metadata": {},
   "source": [
    "* We can also inspect the chain directly for its prompts:"
   ]
  },
  {
   "cell_type": "code",
   "execution_count": 6,
   "id": "01fe095e-a138-4d5e-a02a-14c6d38d1786",
   "metadata": {},
   "outputs": [
    {
     "name": "stdout",
     "output_type": "stream",
     "text": [
      "You are a SQLite expert. Given an input question, first create a syntactically correct SQLite query to run, then look at the results of the query and return the answer to the input question.\n",
      "Unless the user specifies in the question a specific number of examples to obtain, query for at most 5 results using the LIMIT clause as per SQLite. You can order the results to return the most informative data in the database.\n",
      "Never query for all columns from a table. You must query only the columns that are needed to answer the question. Wrap each column name in double quotes (\") to denote them as delimited identifiers.\n",
      "Pay attention to use only the column names you can see in the tables below. Be careful to not query for columns that do not exist. Also, pay attention to which column is in which table.\n",
      "Pay attention to use date('now') function to get the current date, if the question involves \"today\".\n",
      "\n",
      "Use the following format:\n",
      "\n",
      "Question: Question here\n",
      "SQLQuery: SQL Query to run\n",
      "SQLResult: Result of the SQLQuery\n",
      "Answer: Final answer here\n",
      "\n",
      "Only use the following tables:\n",
      "\u001b[33;1m\u001b[1;3m{table_info}\u001b[0m\n",
      "\n",
      "Question: \u001b[33;1m\u001b[1;3m{input}\u001b[0m\n"
     ]
    }
   ],
   "source": [
    "chain.get_prompts()[0].pretty_print()"
   ]
  },
  {
   "cell_type": "markdown",
   "id": "71ef39e5-1b37-4673-aa4c-951fbb3e6e3f",
   "metadata": {},
   "source": [
    "* Now that we've generated a SQL query, we'll want to execute it.\n",
    "* **This is the most dangerous part of creating a SQL chain**. Consider carefully if it is OK to run automated queries over your data. Minimize the database connection permissions as much as possible.\n",
    "* **Consider adding a human approval step to you chains before query execution**.\n",
    "* We can use the QuerySQLDatabaseTool to easily add query execution to our chain:"
   ]
  },
  {
   "cell_type": "code",
   "execution_count": 7,
   "id": "3e849055-8d6b-49ed-b8b3-aeb95e04b208",
   "metadata": {},
   "outputs": [
    {
     "data": {
      "text/plain": [
       "'[(\"Arbutus \\'Marina\\' :: Hybrid Strawberry Tree\",), (\\'Afrocarpus gracilior :: Fern Pine\\',), (\"Thuja occidentalis \\'Emerald\\' :: Emerald Arborvitae\",), (\"Magnolia grandiflora \\'Little Gem\\' :: Little Gem Magnolia\",), (\\'Platanus x hispanica :: Sycamore: London Plane\\',), (\\'Ulmus parvifolia :: Chinese Elm\\',), (\\'Leptospermum laevigatum :: Australian Tea Tree\\',), (\"Olea europaea \\'Fruitless\\' :: Fruitless Olive\",), (\\'Ficus rubiginosa :: Port Jackson Fig\\',), (\\'Cycas revoluta :: Sago palm\\',), (\\'Lophostemon confertus :: Brisbane Box\\',), (\\'Podocarpus gracilor :: Fern Pine\\',), (\\'Eriobotrya deflexa :: Bronze Loquat\\',), (\\'Ligustrum lucidum :: Glossy Privet\\',), (\\'Syagrus romanzoffianum :: Queen Palm\\',), (\"Ficus microcarpa nitida \\'Green Gem\\' :: Indian Laurel Fig Tree \\'Green Gem\\'\",), (\\'Prunus cerasifera :: Cherry Plum\\',), (\\':: To Be Determine\\',), (\\'Myoporum laetum :: Myoporum\\',), (\\'Tristaniopsis laurina :: Swamp Myrtle\\',), (\\'Ginkgo biloba :: Maidenhair Tree\\',), (\\'Pyrus calleryana :: Ornamental Pear\\',), (\"Morus alba \\'Fruitless\\' :: Fruitless Mulberry\",), (\\'Magnolia grandiflora :: Southern Magnolia\\',), (\\'Pittosporum undulatum :: Victorian Box\\',), (\\'Lyonothamnus floribundus subsp. asplenifolius :: Santa Cruz Ironwood\\',), (\\'Leptospermum scoparium :: New Zealand Tea Tree\\',), (\\'Tree(s) ::\\',), (\\'Acer rubrum :: Red Maple\\',), (\\':: Tree\\',), (\\'Carpinus betulus :: European Hornbeam\\',), (\\'Ilex aquifolium :: European Holly\\',), (\\'Lagunaria patersonii :: Primrose Tree\\',), (\\'Pinus radiata :: Monterey Pine\\',), (\\'Prunus laurocerasus :: English laurel\\',), (\\'Cercis occidentalis :: Western Redbud\\',), (\\'Prunus serrulata :: Ornamental Cherry\\',), (\\'Maytenus boaria :: Mayten\\',), (\\'Arbutus unedo :: Strawberry Tree\\',), (\\'Callistemon citrinus :: Lemon Bottlebrush\\',), (\\'Cordyline australis :: Dracena Palm\\',), (\\'Quercus suber :: Cork Oak\\',), (\\'Pseudotsuga menziesii :: Douglas Fir\\',), (\\'Quercus agrifolia :: Coast Live Oak\\',), (\\'Olea Majestic Beauty ::\\',), (\\'Platanus racemosa :: California Sycamore\\',), (\\'Metrosideros excelsa :: New Zealand Xmas Tree\\',), (\\'Quercus tomentella :: Island oak\\',), (\\'Olea europaea :: Olive Tree\\',), (\\'Quercus spp :: Oak\\',), (\\'Platanus occidentalis :: American sycamore\\',), (\\'Hakea suaveolens :: Sweet Hakea Tree\\',), (\\'Acacia melanoxylon :: Blackwood Acacia\\',), (\\'Potential Site :: Potential Site\\',), (\\'Ligustrum japonicum :: Japanese Privet\\',), (\\'Liquidambar styraciflua :: American Sweet Gum\\',), (\"Prunus subhirtella \\'autumnalis\\' :: Higan Cherry\",), (\\'Acer palmatum :: Japanese Maple\\',), (\\'Juniperus chinensis :: Juniper\\',), (\\'Ficus retusa nitida :: Banyan Fig\\',), (\\'Acacia decurrens :: Acacia: Silver Wattle\\',), (\\'Cupressus macrocarpa :: Monterey Cypress\\',), (\\'Archontophoenix cunninghamiana :: King Palm\\',), (\\'Rhamnus alaternus :: Italian Buckthorn\\',), (\\'Schinus molle :: California Pepper\\',), (\\'Crataegus phaenopyrum :: Washington Hawthorn\\',), (\\'Elaeocarpus decipiens :: Japanese Blueberry Tree\\',), (\\'Aesculus x carnea :: Red Horse Chestnut\\',), (\"Platanus x hispanica \\'Columbia\\' :: Columbia Hybrid Plane Tree\",), (\\'Eucalyptus camaldulensis :: River Red Gum\\',), (\\'Pinus pinea :: Italian Stone Pine\\',), (\\'Eucalyptus citriodora :: Lemon scented eucalyptus\\',), (\\'Schinus terebinthifolius :: Brazilian Pepper\\',), (\"Magnolia grandiflora \\'Saint Mary\\' :: Saint Mary Magnolia\",), (\\'Magnolia spp :: Magnolia\\',), (\\'Phoenix dactylifera :: Date Palm\\',), (\\'Pyrus kawakamii :: Evergreen Pear\\',), (\\'Corymbia ficifolia :: Red Flowering Gum\\',), (\\'Acacia stenophylla :: Shoestring Acacia\\',), (\\'Eriobotrya japonica :: Edible Loquat\\',), (\\'Hymenosporum flavum :: Sweetshade\\',), (\"Olea europaea \\'Wilsonii\\' :: Wilson Olive Semi-fruitless\",), (\\'::\\',), (\\'Tilia cordata :: Littleleaf Linden\\',), (\\'Eucalyptus polyanthemos :: Silver Dollar Eucalyptus\\',), (\\'Melaleuca quinquenervia :: Cajeput\\',), (\\'Agonis flexuosa :: Peppermint Willow\\',), (\\'Koelreuteria paniculata :: Golden Rain Tree\\',), (\\'Yucca elephantipes :: Giant Yucca\\',), (\"Populus nigra \\'Italica\\' :: Lombardy Poplar\",), (\\'Eucalyptus globulus :: Blue Gum\\',), (\\'Ficus microcarpa :: Chinese Banyan\\',), (\"Acacia baileyana \\'Purpurea\\' :: Purple-leaf Acacia\",), (\\'Acer buergeranum :: Trident Maple\\',), (\\'Cinnamomum camphora :: Camphor Tree\\',), (\\'Howea belmoreana :: Belmore Sentry Palm\\',), (\\'Pinus canariensis :: Canary Island Pine\\',), (\"Ceanothus \\'Ray Hartman\\' :: California Lilac \\'Ray Hartman\\'\",), (\\'Butia catarinensis :: Butia\\',), (\\'Acacia spp :: Acacia Spp\\',), (\\'Jacaranda mimosifolia :: Jacaranda\\',), (\"Eucalyptus nicholii :: Nichol\\'s Willow-Leafed Peppermint\",), (\\'Prunus spp :: Flowering Plum\\',), (\"Acer rubrum \\'October Glory\\' :: Red October Glory Maple\",), (\\'Umbellularia californica :: California Bay\\',), (\\'Melaleuca ericifolia :: Heath Melaleuca\\',), (\\'Prunus caroliniana :: Carolina Cherry Laurel\\',), (\\'Callistemon viminalis :: Weeping Bottlebrush\\',), (\\'Tristania conferta ::\\',), (\\'Magnolia champaca :: Champa\\',), (\"Acer rubrum \\'Armstrong\\' :: Armstrong Red Maple\",), (\"Pyrus calleryana \\'Bradford\\' :: Ornamental Pear: Bradford\",), (\\'Ulmus spp :: Elm Spp\\',), (\\'Photinia fraseri :: Photinia: Chinese photinia\\',), (\"Tristaniopsis laurina \\'Elegant\\' :: Small-leaf Tristania \\'Elegant\\'\",), (\\'Quercus virginiana :: Southern Live Oak\\',), (\\'Laurus nobilis :: Sweet Bay: Grecian Laurel\\',), (\\'Griselinia lucida :: Griselinia\\',), (\"Dodonaea viscosa \\'Purpurea\\' :: Purple Hopseed Bush\",), (\\'Sequoia sempervirens :: Coast Redwood\\',), (\"Ginkgo biloba \\'Autumn Gold\\' :: Ginkgo: Autumn Gold\",), (\"Ulmus carpinifolia \\'Frontier\\' :: Frontier Elm \\'Frontier\\'\",), (\\'Geijera parviflora :: Australian Willow\\',), (\"Laurus x \\'Saratoga\\' :: Hybrid Laurel\",), (\\'Melaleuca styphelliodes :: Paperbark Tree\\',), (\"Prunus serrulata \\'Kwanzan\\' :: Kwanzan Flowering Cherry\",), (\\'Acer japonicum :: Japanese Maple\\',), (\\'Araucaria heterophylla :: Norfolk Island Pine\\',), (\\'Washingtonia robusta :: Mexican Fan Palm\\',), (\\'Lagerstroemia indica :: Crape Myrtle\\',), (\\'Magnolia doltsopa :: Himalayan Magnolia\\',), (\\'Syzygium paniculatum :: Brush Cherry\\',), (\\'Pinus thunbergii :: Japanese Black Pine\\',), (\\'Cercis canadensis :: Eastern Redbud\\',), (\\'Eucalyptus Spp :: Eucalyptus\\',), (\\'Persea americana :: Avocado\\',), (\\'Pistacia chinensis :: Chinese Pistache\\',), (\"Maytenus boaria \\'Green Showers\\' :: Meyten Tree \\'Green Showers\\'\",), (\"Magnolia grandiflora \\'Russet\\' :: Russet Magnolia\",), (\\'Prunus lyonii :: Catalina Cherry\\',), (\"Aesculus x carnea \\'Briotii\\' :: Ruby Horse Chestnut\",), (\"Magnolia grandiflora \\'Majestic Beauty\\' :: Majestic Beauty Magnolia\",), (\\'Prunus spp :: Almond Tree\\',), (\\'Nerium oleander :: Oleander\\',), (\"Acacia baileyana :: Bailey\\'s Acacia\",), (\\'Grevillea robusta :: Silk Oak Tree\\',), (\\'Zelkova serrata :: Sawleaf Zelkova\\',), (\\'Fraxinus uhdei :: Shamel Ash: Evergreen Ash\\',)]'"
      ]
     },
     "execution_count": 7,
     "metadata": {},
     "output_type": "execute_result"
    }
   ],
   "source": [
    "from langchain_community.tools.sql_database.tool import QuerySQLDataBaseTool\n",
    "\n",
    "execute_query = QuerySQLDataBaseTool(db=db)\n",
    "\n",
    "write_query = create_sql_query_chain(llm, db)\n",
    "\n",
    "chain = write_query | execute_query\n",
    "\n",
    "chain.invoke({\"question\": \"How many species of trees are in San Francisco?\"})"
   ]
  },
  {
   "cell_type": "markdown",
   "id": "f52988b3-93fd-4190-b6a5-0755fe28ecf9",
   "metadata": {},
   "source": [
    "* Now that we've got a way to automatically generate and execute queries, we just need to **combine the original question and SQL query result to generate a final answer**.\n",
    "* We can do this by passing question and result to the LLM once more:"
   ]
  },
  {
   "cell_type": "code",
   "execution_count": 8,
   "id": "d24dee97-465f-4979-9afe-79e0b7eb6f3f",
   "metadata": {},
   "outputs": [
    {
     "data": {
      "text/plain": [
       "'There are 148 species of trees in San Francisco.'"
      ]
     },
     "execution_count": 8,
     "metadata": {},
     "output_type": "execute_result"
    }
   ],
   "source": [
    "from operator import itemgetter\n",
    "\n",
    "from langchain_core.output_parsers import StrOutputParser\n",
    "from langchain_core.prompts import PromptTemplate\n",
    "from langchain_core.runnables import RunnablePassthrough\n",
    "\n",
    "answer_prompt = PromptTemplate.from_template(\n",
    "    \"\"\"Given the following user question, corresponding SQL query, and SQL result, answer the user question.\n",
    "\n",
    "Question: {question}\n",
    "SQL Query: {query}\n",
    "SQL Result: {result}\n",
    "Answer: \"\"\"\n",
    ")\n",
    "\n",
    "chain = (\n",
    "    RunnablePassthrough.assign(query=write_query).assign(\n",
    "        result=itemgetter(\"query\") | execute_query\n",
    "    )\n",
    "    | answer_prompt\n",
    "    | llm\n",
    "    | StrOutputParser()\n",
    ")\n",
    "\n",
    "chain.invoke({\"question\": \"How many species of trees are in San Francisco?\"})"
   ]
  },
  {
   "cell_type": "markdown",
   "id": "7fc31c07-a003-403d-bea6-c8965f9e8b38",
   "metadata": {},
   "source": [
    "* Let's review what is happening in the above LCEL:\n",
    "    * After the first RunnablePassthrough.assign, we have a runnable with two elements:\n",
    "{\"question\": question, \"query\": write_query.invoke(question)}\n",
    "    * write_query will generate a SQL query in service of answering the question.\n",
    "    * After the second RunnablePassthrough.assign, we have added a third element \"result\" that contains execute_query.invoke(query), where query was computed in the previous step.\n",
    "    * These three inputs are formatted into the prompt and passed into the LLM.\n",
    "    * The StrOutputParser() plucks out the string content of the output message."
   ]
  },
  {
   "cell_type": "code",
   "execution_count": null,
   "id": "6903027c-722c-4b9f-8717-b3affb844227",
   "metadata": {},
   "outputs": [],
   "source": []
  }
 ],
 "metadata": {
  "kernelspec": {
   "display_name": "Python 3 (ipykernel)",
   "language": "python",
   "name": "python3"
  },
  "language_info": {
   "codemirror_mode": {
    "name": "ipython",
    "version": 3
   },
   "file_extension": ".py",
   "mimetype": "text/x-python",
   "name": "python",
   "nbconvert_exporter": "python",
   "pygments_lexer": "ipython3",
   "version": "3.12.1"
  }
 },
 "nbformat": 4,
 "nbformat_minor": 5
}
