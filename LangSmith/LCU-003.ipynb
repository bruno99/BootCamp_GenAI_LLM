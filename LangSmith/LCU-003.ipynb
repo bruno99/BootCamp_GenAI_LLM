{
 "cells": [
  {
   "cell_type": "markdown",
   "id": "109e7c75-e985-48b0-965c-0563c6c7b4d9",
   "metadata": {},
   "source": [
    "## LangSmith At Work"
   ]
  },
  {
   "cell_type": "markdown",
   "id": "f9a78fdb-fd9e-435b-b633-d0bbc7aef180",
   "metadata": {},
   "source": [
    "## Basic Project\n",
    "* See the other notebook to see the code of the basic project."
   ]
  },
  {
   "cell_type": "markdown",
   "id": "cbec1345-1986-4c30-9e90-c9adfb197c78",
   "metadata": {},
   "source": [
    "## A real example of using LangSmith with a production-level LLM Application\n",
    "* In the [In-Depth LS Overview video](https://www.youtube.com/watch?v=3wAON0Lqviw), the LS team shares real data from their LangChain Chat application and how they are using LS there.\n",
    "* Remember that the LangChain Chat application is an Open Source project that the LangChain team is making available [on Github](https://github.com/langchain-ai/chat-langchain)."
   ]
  },
  {
   "cell_type": "code",
   "execution_count": null,
   "id": "7b0679c8-6235-4d6a-a900-87126ea6b712",
   "metadata": {},
   "outputs": [],
   "source": []
  }
 ],
 "metadata": {
  "kernelspec": {
   "display_name": "Python 3 (ipykernel)",
   "language": "python",
   "name": "python3"
  },
  "language_info": {
   "codemirror_mode": {
    "name": "ipython",
    "version": 3
   },
   "file_extension": ".py",
   "mimetype": "text/x-python",
   "name": "python",
   "nbconvert_exporter": "python",
   "pygments_lexer": "ipython3",
   "version": "3.11.4"
  }
 },
 "nbformat": 4,
 "nbformat_minor": 5
}
